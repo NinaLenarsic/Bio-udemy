{
 "metadata": {
  "language_info": {
   "codemirror_mode": {
    "name": "ipython",
    "version": 3
   },
   "file_extension": ".py",
   "mimetype": "text/x-python",
   "name": "python",
   "nbconvert_exporter": "python",
   "pygments_lexer": "ipython3",
   "version": "3.8.5-final"
  },
  "orig_nbformat": 2,
  "kernelspec": {
   "name": "python3",
   "display_name": "Python 3.8.5 64-bit ('base': conda)",
   "metadata": {
    "interpreter": {
     "hash": "7639befe37ee169122ceebbaa11f430804cfeb1c660814bb3288bff287f3d9f1"
    }
   }
  }
 },
 "nbformat": 4,
 "nbformat_minor": 2,
 "cells": [
  {
   "cell_type": "code",
   "execution_count": 1,
   "metadata": {},
   "outputs": [],
   "source": [
    "# GC-content is the percentage of nitrogenous bases in DNA or RNA molecule that are either G or C\n",
    "# usefulness: \n",
    "# - in PCR experiments, GC content of short oligonucleotides known as primers is used to predict their annealing T to the template DNA\n",
    "# - a higher GC- content is less stable than DNA with high GC content\n",
    "# - High GC content DNA can make it difficult to perform PCR amplification due to difficulty in designing a primer long enough to provide great specificity"
   ]
  },
  {
   "cell_type": "code",
   "execution_count": 2,
   "metadata": {},
   "outputs": [],
   "source": [
    "# AT content is the percentage of nitrogenous bases in DNA/RNA molecule that are either A or T\n",
    "# - AT base pairing yields only 2 hydrogen bonds (is weaker than CG bond)"
   ]
  },
  {
   "cell_type": "code",
   "execution_count": 3,
   "metadata": {},
   "outputs": [],
   "source": [
    "from Bio.SeqUtils import GC"
   ]
  },
  {
   "cell_type": "code",
   "execution_count": 13,
   "metadata": {},
   "outputs": [],
   "source": [
    "from Bio.Seq import Seq"
   ]
  },
  {
   "cell_type": "code",
   "execution_count": 14,
   "metadata": {},
   "outputs": [],
   "source": [
    "dna_seq = Seq('ATGATCTCGTAA')"
   ]
  },
  {
   "cell_type": "code",
   "execution_count": 15,
   "metadata": {},
   "outputs": [
    {
     "output_type": "execute_result",
     "data": {
      "text/plain": [
       "Seq('ATGATCTCGTAA')"
      ]
     },
     "metadata": {},
     "execution_count": 15
    }
   ],
   "source": [
    "dna_seq"
   ]
  },
  {
   "cell_type": "code",
   "execution_count": 16,
   "metadata": {},
   "outputs": [
    {
     "output_type": "execute_result",
     "data": {
      "text/plain": [
       "33.333333333333336"
      ]
     },
     "metadata": {},
     "execution_count": 16
    }
   ],
   "source": [
    "GC(dna_seq)"
   ]
  },
  {
   "cell_type": "code",
   "execution_count": 18,
   "metadata": {},
   "outputs": [
    {
     "output_type": "execute_result",
     "data": {
      "text/plain": [
       "2"
      ]
     },
     "metadata": {},
     "execution_count": 18
    }
   ],
   "source": [
    "# Method 2\n",
    "# Custom Fxn to get GC count\n",
    "dna_seq.count('G')"
   ]
  },
  {
   "cell_type": "code",
   "execution_count": 23,
   "metadata": {},
   "outputs": [],
   "source": [
    "def gc_content(seq):\n",
    "    result = float(seq.count('G') + seq.count('C'))/len(seq) * 100\n",
    "    return result"
   ]
  },
  {
   "cell_type": "code",
   "execution_count": 24,
   "metadata": {},
   "outputs": [
    {
     "output_type": "execute_result",
     "data": {
      "text/plain": [
       "33.33333333333333"
      ]
     },
     "metadata": {},
     "execution_count": 24
    }
   ],
   "source": [
    "gc_content(dna_seq)"
   ]
  },
  {
   "cell_type": "code",
   "execution_count": 26,
   "metadata": {},
   "outputs": [],
   "source": [
    "# Method 3\n",
    "def gc_content2(seq):\n",
    "    gc = [ B for B in seq if B in 'GC']\n",
    "    result = float(len(gc))/len(seq) * 100\n",
    "    return result"
   ]
  },
  {
   "cell_type": "code",
   "execution_count": 28,
   "metadata": {},
   "outputs": [
    {
     "output_type": "execute_result",
     "data": {
      "text/plain": [
       "33.33333333333333"
      ]
     },
     "metadata": {},
     "execution_count": 28
    }
   ],
   "source": [
    "gc_content2(dna_seq)"
   ]
  },
  {
   "cell_type": "code",
   "execution_count": 29,
   "metadata": {},
   "outputs": [
    {
     "output_type": "execute_result",
     "data": {
      "text/plain": [
       "Seq('atgatctcgtaa')"
      ]
     },
     "metadata": {},
     "execution_count": 29
    }
   ],
   "source": [
    "dna_seq.lower()"
   ]
  },
  {
   "cell_type": "code",
   "execution_count": 31,
   "metadata": {},
   "outputs": [
    {
     "output_type": "execute_result",
     "data": {
      "text/plain": [
       "0.0"
      ]
     },
     "metadata": {},
     "execution_count": 31
    }
   ],
   "source": [
    "gc_content2(dna_seq.lower())"
   ]
  },
  {
   "cell_type": "code",
   "execution_count": 35,
   "metadata": {},
   "outputs": [],
   "source": [
    "# Method 4\n",
    "def gc_content3(seq):\n",
    "    gc = [ B for B in seq.upper() if B in 'GC']\n",
    "    result = float(len(gc))/len(seq) * 100\n",
    "    return result"
   ]
  },
  {
   "cell_type": "code",
   "execution_count": 36,
   "metadata": {},
   "outputs": [
    {
     "output_type": "execute_result",
     "data": {
      "text/plain": [
       "33.33333333333333"
      ]
     },
     "metadata": {},
     "execution_count": 36
    }
   ],
   "source": [
    "gc_content3('atgatctcgtaa')"
   ]
  },
  {
   "cell_type": "code",
   "execution_count": 38,
   "metadata": {},
   "outputs": [],
   "source": [
    "### FXN for AT content\n",
    "def at_content(seq):\n",
    "    result = float(seq.count('A') + seq.count('T'))/len(seq) * 100\n",
    "    return result"
   ]
  },
  {
   "cell_type": "code",
   "execution_count": 39,
   "metadata": {},
   "outputs": [
    {
     "output_type": "execute_result",
     "data": {
      "text/plain": [
       "66.66666666666666"
      ]
     },
     "metadata": {},
     "execution_count": 39
    }
   ],
   "source": [
    "at_content(dna_seq)"
   ]
  },
  {
   "cell_type": "code",
   "execution_count": 40,
   "metadata": {},
   "outputs": [],
   "source": [
    "## Melting point of DNA\n",
    "# higher GC means high melting point\n",
    "# TM_Wallace: 'Rule of thum\"\n",
    "# Tm_GC: Empirical formulas based on GC concent. Salt and mismatch corrections can be included.\n",
    "# TM_NN: Calculation based on nearest neighbor thermodynamics. Several tables for DNA/DNA, DNA/RNA, RNA/RNA hybridizations are included. Correction for mismatches, damaging ends, salt cocentrations and other additives are availabe. "
   ]
  },
  {
   "cell_type": "code",
   "execution_count": 41,
   "metadata": {},
   "outputs": [],
   "source": [
    "import Bio.SeqUtils"
   ]
  },
  {
   "cell_type": "code",
   "execution_count": 42,
   "metadata": {},
   "outputs": [
    {
     "output_type": "execute_result",
     "data": {
      "text/plain": [
       "['GC',\n",
       " 'GC123',\n",
       " 'GC_skew',\n",
       " 'IUPACData',\n",
       " 'Seq',\n",
       " '__builtins__',\n",
       " '__cached__',\n",
       " '__doc__',\n",
       " '__file__',\n",
       " '__loader__',\n",
       " '__name__',\n",
       " '__package__',\n",
       " '__path__',\n",
       " '__spec__',\n",
       " 'cos',\n",
       " 'molecular_weight',\n",
       " 'nt_search',\n",
       " 'pi',\n",
       " 're',\n",
       " 'seq1',\n",
       " 'seq3',\n",
       " 'sin',\n",
       " 'six_frame_translations',\n",
       " 'xGC_skew']"
      ]
     },
     "metadata": {},
     "execution_count": 42
    }
   ],
   "source": [
    "dir(Bio.SeqUtils)"
   ]
  },
  {
   "cell_type": "code",
   "execution_count": 44,
   "metadata": {},
   "outputs": [],
   "source": [
    "from Bio.SeqUtils import MeltingTemp as mt"
   ]
  },
  {
   "cell_type": "code",
   "execution_count": 45,
   "metadata": {},
   "outputs": [
    {
     "output_type": "execute_result",
     "data": {
      "text/plain": [
       "Seq('ATGATCTCGTAA')"
      ]
     },
     "metadata": {},
     "execution_count": 45
    }
   ],
   "source": [
    "dna_seq"
   ]
  },
  {
   "cell_type": "code",
   "execution_count": 46,
   "metadata": {},
   "outputs": [
    {
     "output_type": "execute_result",
     "data": {
      "text/plain": [
       "33.333333333333336"
      ]
     },
     "metadata": {},
     "execution_count": 46
    }
   ],
   "source": [
    "GC(dna_seq)"
   ]
  },
  {
   "cell_type": "code",
   "execution_count": 47,
   "metadata": {},
   "outputs": [
    {
     "output_type": "execute_result",
     "data": {
      "text/plain": [
       "32.0"
      ]
     },
     "metadata": {},
     "execution_count": 47
    }
   ],
   "source": [
    "# check for the melting point using wallace\n",
    "mt.Tm_Wallace(dna_seq)"
   ]
  },
  {
   "cell_type": "code",
   "execution_count": 49,
   "metadata": {},
   "outputs": [
    {
     "output_type": "execute_result",
     "data": {
      "text/plain": [
       "23.32155893208184"
      ]
     },
     "metadata": {},
     "execution_count": 49
    }
   ],
   "source": [
    "# Checking for the melting point using GC content\n",
    "mt.Tm_GC(dna_seq)\n",
    "# at this T the dna will melt drastically"
   ]
  },
  {
   "source": [
    "## exercise\n",
    "# hich of the following seq will have the highest GC?\n",
    "# x1 = 'ATGCATGGTGCGCGA'\n",
    "# x2 = 'ATTTGTGCTCCTGGA'"
   ],
   "cell_type": "code",
   "metadata": {},
   "execution_count": null,
   "outputs": []
  },
  {
   "cell_type": "code",
   "execution_count": 55,
   "metadata": {},
   "outputs": [],
   "source": [
    "def get_metrics(seq):\n",
    "    gc = GC(seq)\n",
    "    at = at_content(seq)\n",
    "    melting = mt.Tm_GC(seq)\n",
    "    result = \"GC:{} ,AT:{}, Temp:{}\".format(gc,at,melting)\n",
    "    return result"
   ]
  },
  {
   "source": [
    "\"{}\".format(a)\n",
    "\n",
    "f\"{a}\"\n",
    "\n",
    "\"%s\" % a"
   ],
   "cell_type": "markdown",
   "metadata": {}
  },
  {
   "cell_type": "code",
   "execution_count": 51,
   "metadata": {},
   "outputs": [],
   "source": [
    "dna1 = Seq('ATGCATGGTGCGCGA')"
   ]
  },
  {
   "cell_type": "code",
   "execution_count": 52,
   "metadata": {},
   "outputs": [],
   "source": [
    "dna2 = Seq('ATTTGTGCTCCTGGA')"
   ]
  },
  {
   "cell_type": "code",
   "execution_count": 53,
   "metadata": {},
   "outputs": [
    {
     "output_type": "execute_result",
     "data": {
      "text/plain": [
       "44.254892265415165"
      ]
     },
     "metadata": {},
     "execution_count": 53
    }
   ],
   "source": [
    "mt.Tm_GC(dna1)"
   ]
  },
  {
   "cell_type": "code",
   "execution_count": 54,
   "metadata": {},
   "outputs": [
    {
     "output_type": "execute_result",
     "data": {
      "text/plain": [
       "38.7882255987485"
      ]
     },
     "metadata": {},
     "execution_count": 54
    }
   ],
   "source": [
    "mt.Tm_GC(dna2)"
   ]
  },
  {
   "cell_type": "code",
   "execution_count": 56,
   "metadata": {},
   "outputs": [
    {
     "output_type": "execute_result",
     "data": {
      "text/plain": [
       "'GC:60.0 ,AT:40.0, Temp:44.254892265415165'"
      ]
     },
     "metadata": {},
     "execution_count": 56
    }
   ],
   "source": [
    "get_metrics(dna1)"
   ]
  },
  {
   "cell_type": "code",
   "execution_count": 57,
   "metadata": {},
   "outputs": [
    {
     "output_type": "execute_result",
     "data": {
      "text/plain": [
       "'GC:46.666666666666664 ,AT:53.333333333333336, Temp:38.7882255987485'"
      ]
     },
     "metadata": {},
     "execution_count": 57
    }
   ],
   "source": [
    "get_metrics(dna2)"
   ]
  },
  {
   "source": [
    "#### GC skwq \n",
    "# - check when the nucleotides (G,C) are over or under abundant in a particular region of DNA or RNA\n",
    "# - helps to undicate DNA lagging strand or leading strand\n",
    "# - GC skew pos = leading\n",
    "# - GC skew neg = lagging\n"
   ],
   "cell_type": "code",
   "metadata": {},
   "execution_count": 62,
   "outputs": []
  },
  {
   "cell_type": "code",
   "execution_count": 63,
   "metadata": {},
   "outputs": [],
   "source": [
    "from Bio.SeqUtils import GC123,GC_skew,xGC_skew"
   ]
  },
  {
   "cell_type": "code",
   "execution_count": 64,
   "metadata": {},
   "outputs": [
    {
     "output_type": "execute_result",
     "data": {
      "text/plain": [
       "Seq('ATGATCTCGTAA')"
      ]
     },
     "metadata": {},
     "execution_count": 64
    }
   ],
   "source": [
    "# GC count first, second, third position\n",
    "dna_seq"
   ]
  },
  {
   "cell_type": "code",
   "execution_count": 65,
   "metadata": {},
   "outputs": [
    {
     "output_type": "execute_result",
     "data": {
      "text/plain": [
       "(33.333333333333336, 0.0, 25.0, 75.0)"
      ]
     },
     "metadata": {},
     "execution_count": 65
    }
   ],
   "source": [
    "GC123(dna_seq)"
   ]
  },
  {
   "cell_type": "code",
   "execution_count": 66,
   "metadata": {},
   "outputs": [
    {
     "output_type": "execute_result",
     "data": {
      "text/plain": [
       "33.333333333333336"
      ]
     },
     "metadata": {},
     "execution_count": 66
    }
   ],
   "source": [
    "GC(dna_seq)"
   ]
  },
  {
   "cell_type": "code",
   "execution_count": 69,
   "metadata": {},
   "outputs": [
    {
     "output_type": "execute_result",
     "data": {
      "text/plain": [
       "[0.0, 0.0]"
      ]
     },
     "metadata": {},
     "execution_count": 69
    }
   ],
   "source": [
    "# GC_Skew\n",
    "GC_skew(dna_seq,10)"
   ]
  },
  {
   "cell_type": "code",
   "execution_count": 70,
   "metadata": {},
   "outputs": [
    {
     "output_type": "execute_result",
     "data": {
      "text/plain": [
       "[0.0]"
      ]
     },
     "metadata": {},
     "execution_count": 70
    }
   ],
   "source": [
    "GC_skew('ATGGGGTCCCCGTC')"
   ]
  },
  {
   "cell_type": "code",
   "execution_count": 71,
   "metadata": {},
   "outputs": [],
   "source": [
    "xGC_skew(dna_seq)"
   ]
  },
  {
   "source": [
    "#Subsequences\n",
    "#- search for a DNA subseq in a seq, return list of [subseq, positions]"
   ],
   "cell_type": "code",
   "metadata": {},
   "execution_count": null,
   "outputs": []
  },
  {
   "cell_type": "code",
   "execution_count": 74,
   "metadata": {},
   "outputs": [],
   "source": [
    "from Bio.SeqUtils import nt_search"
   ]
  },
  {
   "cell_type": "code",
   "execution_count": 83,
   "metadata": {},
   "outputs": [],
   "source": [
    "main_seq = Seq('ACTATT')\n",
    "subseq = Seq('ATT')"
   ]
  },
  {
   "cell_type": "code",
   "execution_count": 84,
   "metadata": {},
   "outputs": [
    {
     "output_type": "execute_result",
     "data": {
      "text/plain": [
       "['ATT', 3]"
      ]
     },
     "metadata": {},
     "execution_count": 84
    }
   ],
   "source": [
    "nt_search(str(main_seq),str(subseq))"
   ]
  },
  {
   "cell_type": "code",
   "execution_count": null,
   "metadata": {},
   "outputs": [],
   "source": []
  }
 ]
}