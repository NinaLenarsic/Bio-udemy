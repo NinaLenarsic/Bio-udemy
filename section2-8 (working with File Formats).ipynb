{
 "metadata": {
  "language_info": {
   "codemirror_mode": {
    "name": "ipython",
    "version": 3
   },
   "file_extension": ".py",
   "mimetype": "text/x-python",
   "name": "python",
   "nbconvert_exporter": "python",
   "pygments_lexer": "ipython3",
   "version": "3.8.5-final"
  },
  "orig_nbformat": 2,
  "kernelspec": {
   "name": "python3",
   "display_name": "Python 3.8.5 64-bit ('base': conda)",
   "metadata": {
    "interpreter": {
     "hash": "7639befe37ee169122ceebbaa11f430804cfeb1c660814bb3288bff287f3d9f1"
    }
   }
  }
 },
 "nbformat": 4,
 "nbformat_minor": 2,
 "cells": [
  {
   "cell_type": "code",
   "execution_count": 1,
   "metadata": {},
   "outputs": [],
   "source": [
    "# Working with file formats\n",
    "# - FASTA\n",
    "# - GenBank\n",
    "# - PDB\n"
   ]
  },
  {
   "cell_type": "code",
   "execution_count": 9,
   "metadata": {},
   "outputs": [],
   "source": [
    "# Reading FASTA\n",
    "from Bio import SeqIO"
   ]
  },
  {
   "cell_type": "code",
   "execution_count": 11,
   "metadata": {},
   "outputs": [
    {
     "output_type": "stream",
     "name": "stdout",
     "text": [
      "MT446312.1\nMT446312.1 Severe acute respiratory syndrome coronavirus 2 isolate SARS-CoV-2/human/Guangzhou/IQTC05/2020, complete genome\n"
     ]
    }
   ],
   "source": [
    "# Load a FASTA\n",
    "for record in SeqIO.parse('sequence.fasta','fasta'):\n",
    "    print(record.id)\n",
    "    print(record.description)\n"
   ]
  },
  {
   "cell_type": "code",
   "execution_count": 12,
   "metadata": {},
   "outputs": [
    {
     "output_type": "stream",
     "name": "stdout",
     "text": [
      "ID: MT446312.1\nName: MT446312.1\nDescription: MT446312.1 Severe acute respiratory syndrome coronavirus 2 isolate SARS-CoV-2/human/Guangzhou/IQTC05/2020, complete genome\nNumber of features: 0\nSeq('TAAAGGTTTATACCTTCCCAGGTAACAAACCAACCAACTTTCGATCTCTTGTAG...AAA')\n"
     ]
    }
   ],
   "source": [
    "for record in SeqIO.parse('sequence.fasta','fasta'):\n",
    "    print(record)"
   ]
  },
  {
   "cell_type": "code",
   "execution_count": 14,
   "metadata": {},
   "outputs": [],
   "source": [
    "# Reading the sequence in FASTA\n",
    "dna_record = SeqIO.read('sequence.fasta','fasta')"
   ]
  },
  {
   "cell_type": "code",
   "execution_count": 15,
   "metadata": {},
   "outputs": [],
   "source": [
    "dna_seq = dna_record.seq"
   ]
  },
  {
   "cell_type": "code",
   "execution_count": 16,
   "metadata": {},
   "outputs": [
    {
     "output_type": "execute_result",
     "data": {
      "text/plain": [
       "Seq('TAAAGGTTTATACCTTCCCAGGTAACAAACCAACCAACTTTCGATCTCTTGTAG...AAA')"
      ]
     },
     "metadata": {},
     "execution_count": 16
    }
   ],
   "source": [
    "dna_seq"
   ]
  },
  {
   "cell_type": "code",
   "execution_count": 17,
   "metadata": {},
   "outputs": [
    {
     "output_type": "stream",
     "name": "stdout",
     "text": [
      "MT446312.1\nSevere acute respiratory syndrome coronavirus 2 isolate SARS-CoV-2/human/Guangzhou/IQTC05/2020, complete genome\n"
     ]
    }
   ],
   "source": [
    "# Reading the GenBank\n",
    "# Load a GenBank\n",
    "for record in SeqIO.parse('sequence.gb','gb'):\n",
    "    print(record.id)\n",
    "    print(record.description)"
   ]
  },
  {
   "cell_type": "code",
   "execution_count": 18,
   "metadata": {},
   "outputs": [
    {
     "output_type": "stream",
     "name": "stdout",
     "text": [
      "ID: MT446312.1\nName: MT446312\nDescription: Severe acute respiratory syndrome coronavirus 2 isolate SARS-CoV-2/human/Guangzhou/IQTC05/2020, complete genome\nNumber of features: 55\n/molecule_type=RNA\n/topology=linear\n/data_file_division=VRL\n/date=08-MAY-2020\n/accessions=['MT446312']\n/sequence_version=1\n/keywords=['']\n/source=Severe acute respiratory syndrome coronavirus 2 (SARS-CoV-2)\n/organism=Severe acute respiratory syndrome coronavirus 2\n/taxonomy=['Viruses', 'Riboviria', 'Orthornavirae', 'Pisuviricota', 'Pisoniviricetes', 'Nidovirales', 'Cornidovirineae', 'Coronaviridae', 'Orthocoronavirinae', 'Betacoronavirus', 'Sarbecovirus']\n/references=[Reference(title='Isolation of Infectious SARS-CoV-2 from Urine of a COVID-19 Patient', ...), Reference(title='Direct Submission', ...)]\n/structured_comment=OrderedDict([('Assembly-Data', OrderedDict([('Assembly Method', 'SPAdes v. v. v3.13.0'), ('Assembly Name', '2098344032144'), ('Sequencing Technology', 'Illumina')]))])\nSeq('TAAAGGTTTATACCTTCCCAGGTAACAAACCAACCAACTTTCGATCTCTTGTAG...AAA')\n"
     ]
    }
   ],
   "source": [
    "for record in SeqIO.parse('sequence.gb','gb'):\n",
    "    print(record)"
   ]
  },
  {
   "cell_type": "code",
   "execution_count": 19,
   "metadata": {},
   "outputs": [],
   "source": [
    "gb_dna_record = SeqIO.read('sequence.gb','gb')"
   ]
  },
  {
   "cell_type": "code",
   "execution_count": 20,
   "metadata": {},
   "outputs": [
    {
     "output_type": "execute_result",
     "data": {
      "text/plain": [
       "SeqRecord(seq=Seq('TAAAGGTTTATACCTTCCCAGGTAACAAACCAACCAACTTTCGATCTCTTGTAG...AAA'), id='MT446312.1', name='MT446312', description='Severe acute respiratory syndrome coronavirus 2 isolate SARS-CoV-2/human/Guangzhou/IQTC05/2020, complete genome', dbxrefs=[])"
      ]
     },
     "metadata": {},
     "execution_count": 20
    }
   ],
   "source": [
    "gb_dna_record"
   ]
  },
  {
   "cell_type": "code",
   "execution_count": null,
   "metadata": {},
   "outputs": [],
   "source": []
  }
 ]
}