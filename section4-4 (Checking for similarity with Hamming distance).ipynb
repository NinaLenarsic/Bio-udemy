{
 "metadata": {
  "language_info": {
   "codemirror_mode": {
    "name": "ipython",
    "version": 3
   },
   "file_extension": ".py",
   "mimetype": "text/x-python",
   "name": "python",
   "nbconvert_exporter": "python",
   "pygments_lexer": "ipython3",
   "version": "3.8.5-final"
  },
  "orig_nbformat": 2,
  "kernelspec": {
   "name": "python3",
   "display_name": "Python 3.8.5 64-bit ('base': conda)",
   "metadata": {
    "interpreter": {
     "hash": "7639befe37ee169122ceebbaa11f430804cfeb1c660814bb3288bff287f3d9f1"
    }
   }
  }
 },
 "nbformat": 4,
 "nbformat_minor": 2,
 "cells": [
  {
   "cell_type": "code",
   "execution_count": 1,
   "metadata": {},
   "outputs": [],
   "source": [
    "# Checking Distance between sequence/similarity\n",
    "# HAMMING DISTANCE: must have the same lenght\n",
    "# match, mismatch, gap\n",
    "# check for dissimilarity\n",
    "# for use in sequence cluttering, phylogenetic reconstruction\n",
    "# mismcatch and match frequency\n",
    "# Kmer-Distance"
   ]
  },
  {
   "cell_type": "code",
   "execution_count": 2,
   "metadata": {},
   "outputs": [],
   "source": [
    "import skbio\n",
    "from skbio import DNA,RNA,Protein,Sequence\n",
    "seq1= DNA('ATCGGGCAAATC')\n",
    "seq2 = DNA('ATCGCTCGAGAA')"
   ]
  },
  {
   "cell_type": "code",
   "execution_count": 3,
   "metadata": {},
   "outputs": [
    {
     "output_type": "execute_result",
     "data": {
      "text/plain": [
       "6"
      ]
     },
     "metadata": {},
     "execution_count": 3
    }
   ],
   "source": [
    "# calculate the match/mismatchfrequency\n",
    "seq1.match_frequency(seq2)"
   ]
  },
  {
   "cell_type": "code",
   "execution_count": 4,
   "metadata": {},
   "outputs": [
    {
     "output_type": "execute_result",
     "data": {
      "text/plain": [
       "array([ True,  True,  True,  True, False, False,  True, False,  True,\n",
       "       False, False, False])"
      ]
     },
     "metadata": {},
     "execution_count": 4
    }
   ],
   "source": [
    "# calculate the match/mismatch as BOOLEAN\n",
    "seq1.matches(seq2)"
   ]
  },
  {
   "cell_type": "code",
   "execution_count": 5,
   "metadata": {},
   "outputs": [
    {
     "output_type": "execute_result",
     "data": {
      "text/plain": [
       "6"
      ]
     },
     "metadata": {},
     "execution_count": 5
    }
   ],
   "source": [
    "# calculate the match/mismatchfrequency\n",
    "seq1.mismatch_frequency(seq2)"
   ]
  },
  {
   "cell_type": "code",
   "execution_count": 6,
   "metadata": {},
   "outputs": [
    {
     "output_type": "execute_result",
     "data": {
      "text/plain": [
       "array([False, False, False, False,  True,  True, False,  True, False,\n",
       "        True,  True,  True])"
      ]
     },
     "metadata": {},
     "execution_count": 6
    }
   ],
   "source": [
    "# calculate the match/mismatch as BOOLEAN\n",
    "seq1.mismatches(seq2)"
   ]
  },
  {
   "cell_type": "code",
   "execution_count": 7,
   "metadata": {},
   "outputs": [],
   "source": [
    "# HAMMING DISTANCE\n",
    "# Used for error detection and error correction"
   ]
  },
  {
   "cell_type": "code",
   "execution_count": 8,
   "metadata": {},
   "outputs": [
    {
     "output_type": "execute_result",
     "data": {
      "text/plain": [
       "0.5"
      ]
     },
     "metadata": {},
     "execution_count": 8
    }
   ],
   "source": [
    "# hamming distance of sikbio\n",
    "seq1.distance(seq2)"
   ]
  },
  {
   "cell_type": "code",
   "execution_count": 10,
   "metadata": {},
   "outputs": [],
   "source": [
    "# Custom Hamming distance FXN\n",
    "def hamming_distance(lhs,rhs):\n",
    "    return len([(x,y) for x,y in zip(lhs,rhs) if x !=y])"
   ]
  },
  {
   "cell_type": "code",
   "execution_count": 11,
   "metadata": {},
   "outputs": [
    {
     "output_type": "execute_result",
     "data": {
      "text/plain": [
       "6"
      ]
     },
     "metadata": {},
     "execution_count": 11
    }
   ],
   "source": [
    "hamming_distance(seq1,seq2)"
   ]
  },
  {
   "cell_type": "code",
   "execution_count": 12,
   "metadata": {},
   "outputs": [],
   "source": [
    "# KMER DISTANCE\n",
    "# it is the fraction of kmers that are unique to either sequence\n",
    "# find kmers that are not found in each seq or are dissimilar in each aka the sum of the non-intersection\n",
    "# using set ^ set for dissimilar/symetric_difference"
   ]
  },
  {
   "cell_type": "code",
   "execution_count": 17,
   "metadata": {},
   "outputs": [],
   "source": [
    "# kmer distance \n",
    "from skbio.sequence.distance import kmer_distance\n"
   ]
  },
  {
   "cell_type": "code",
   "execution_count": 19,
   "metadata": {},
   "outputs": [
    {
     "output_type": "execute_result",
     "data": {
      "text/plain": [
       "{'ATC': 2,\n",
       " 'TCG': 1,\n",
       " 'CGG': 1,\n",
       " 'GGG': 1,\n",
       " 'GGC': 1,\n",
       " 'GCA': 1,\n",
       " 'CAA': 1,\n",
       " 'AAA': 1,\n",
       " 'AAT': 1}"
      ]
     },
     "metadata": {},
     "execution_count": 19
    }
   ],
   "source": [
    "# Kmers freq in our seq\n",
    "seq1.kmer_frequencies(3)"
   ]
  },
  {
   "cell_type": "code",
   "execution_count": 47,
   "metadata": {},
   "outputs": [
    {
     "output_type": "execute_result",
     "data": {
      "text/plain": [
       "{'ATCG': 1,\n",
       " 'TCGG': 1,\n",
       " 'CGGG': 1,\n",
       " 'GGGC': 1,\n",
       " 'GGCA': 1,\n",
       " 'GCAA': 1,\n",
       " 'CAAA': 1,\n",
       " 'AAAT': 1,\n",
       " 'AATC': 1}"
      ]
     },
     "metadata": {},
     "execution_count": 47
    }
   ],
   "source": [
    "seq1.kmer_frequencies(4)"
   ]
  },
  {
   "cell_type": "code",
   "execution_count": 20,
   "metadata": {},
   "outputs": [
    {
     "output_type": "execute_result",
     "data": {
      "text/plain": [
       "{'ATC': 1,\n",
       " 'TCG': 2,\n",
       " 'CGC': 1,\n",
       " 'GCT': 1,\n",
       " 'CTC': 1,\n",
       " 'CGA': 1,\n",
       " 'GAG': 1,\n",
       " 'AGA': 1,\n",
       " 'GAA': 1}"
      ]
     },
     "metadata": {},
     "execution_count": 20
    }
   ],
   "source": [
    "seq2.kmer_frequencies(3)"
   ]
  },
  {
   "cell_type": "code",
   "execution_count": 23,
   "metadata": {},
   "outputs": [
    {
     "output_type": "execute_result",
     "data": {
      "text/plain": [
       "0.875"
      ]
     },
     "metadata": {},
     "execution_count": 23
    }
   ],
   "source": [
    "# Get the kmar distance\n",
    "kmer_distance(seq1,seq2,k=3)"
   ]
  },
  {
   "cell_type": "code",
   "execution_count": 24,
   "metadata": {},
   "outputs": [],
   "source": [
    "# custom FXN for Kmer distance\n",
    "# - like a set\n",
    "# - intersection\n",
    "# - dissimilar set"
   ]
  },
  {
   "cell_type": "code",
   "execution_count": 32,
   "metadata": {},
   "outputs": [],
   "source": [
    "# method 1\n",
    "def custom_kmer_distance(seq1,seq2):\n",
    "    seq1_set = set(seq1)\n",
    "    seq2_set = set(seq2)\n",
    "    union_seq = seq1_set.union(seq2_set)\n",
    "    intersection_seq = seq1_set.intersection(seq2_set)\n",
    "    dissimilarity = len(union_seq) - len(intersection_seq)\n",
    "    print(dissimilarity)\n",
    "    distance = dissimilarity/len(union_seq)\n",
    "    return distance\n",
    "    "
   ]
  },
  {
   "cell_type": "code",
   "execution_count": 33,
   "metadata": {},
   "outputs": [],
   "source": [
    "seq1_k = seq1.kmer_frequencies(3).keys()\n",
    "seq2_k = seq2.kmer_frequencies(3).keys()"
   ]
  },
  {
   "cell_type": "code",
   "execution_count": 37,
   "metadata": {},
   "outputs": [
    {
     "output_type": "stream",
     "name": "stdout",
     "text": [
      "14\n"
     ]
    },
    {
     "output_type": "execute_result",
     "data": {
      "text/plain": [
       "0.875"
      ]
     },
     "metadata": {},
     "execution_count": 37
    }
   ],
   "source": [
    "custom_kmer_distance(seq1_k,seq2_k)"
   ]
  },
  {
   "cell_type": "code",
   "execution_count": 48,
   "metadata": {},
   "outputs": [],
   "source": [
    "seq1_k = seq1.kmer_frequencies(4).keys()\n",
    "seq2_k = seq2.kmer_frequencies(4).keys()"
   ]
  },
  {
   "cell_type": "code",
   "execution_count": 49,
   "metadata": {},
   "outputs": [],
   "source": [
    "# Method 2\n",
    "def custom_kmer_distance2(seq1,seq2):\n",
    "    seq1_set = set(seq1)\n",
    "    seq2_set = set(seq2)\n",
    "    union_seq = seq1_set.union(seq2_set)\n",
    "    dissimilarity = seq1_set ^ seq2_set\n",
    "    print(dissimilarity)\n",
    "    distance = len(dissimilarity)/len(union_seq)\n",
    "    return distance\n",
    "    "
   ]
  },
  {
   "cell_type": "code",
   "execution_count": 50,
   "metadata": {},
   "outputs": [
    {
     "output_type": "stream",
     "name": "stdout",
     "text": [
      "{'AATC', 'AGAA', 'GAGA', 'CGCT', 'TCGA', 'CAAA', 'GCTC', 'CGGG', 'TCGC', 'GGCA', 'GCAA', 'CGAG', 'GGGC', 'AAAT', 'CTCG', 'TCGG'}\n"
     ]
    },
    {
     "output_type": "execute_result",
     "data": {
      "text/plain": [
       "0.9411764705882353"
      ]
     },
     "metadata": {},
     "execution_count": 50
    }
   ],
   "source": [
    "custom_kmer_distance2(seq1_k,seq2_k)"
   ]
  },
  {
   "cell_type": "code",
   "execution_count": 51,
   "metadata": {},
   "outputs": [
    {
     "output_type": "execute_result",
     "data": {
      "text/plain": [
       "{'AAAT',\n",
       " 'AATC',\n",
       " 'AGAA',\n",
       " 'CAAA',\n",
       " 'CGAG',\n",
       " 'CGCT',\n",
       " 'CGGG',\n",
       " 'CTCG',\n",
       " 'GAGA',\n",
       " 'GCAA',\n",
       " 'GCTC',\n",
       " 'GGCA',\n",
       " 'GGGC',\n",
       " 'TCGA',\n",
       " 'TCGC',\n",
       " 'TCGG'}"
      ]
     },
     "metadata": {},
     "execution_count": 51
    }
   ],
   "source": [
    "# Symetroc difference\n",
    "set(seq1_k).symmetric_difference(set(seq2_k))"
   ]
  },
  {
   "cell_type": "code",
   "execution_count": 52,
   "metadata": {},
   "outputs": [
    {
     "output_type": "execute_result",
     "data": {
      "text/plain": [
       "16"
      ]
     },
     "metadata": {},
     "execution_count": 52
    }
   ],
   "source": [
    "len(set(seq1_k).symmetric_difference(set(seq2_k)))"
   ]
  },
  {
   "cell_type": "code",
   "execution_count": null,
   "metadata": {},
   "outputs": [],
   "source": []
  }
 ]
}