{
 "metadata": {
  "language_info": {
   "codemirror_mode": {
    "name": "ipython",
    "version": 3
   },
   "file_extension": ".py",
   "mimetype": "text/x-python",
   "name": "python",
   "nbconvert_exporter": "python",
   "pygments_lexer": "ipython3",
   "version": "3.8.5-final"
  },
  "orig_nbformat": 2,
  "kernelspec": {
   "name": "python3",
   "display_name": "Python 3.8.5 64-bit ('base': conda)",
   "metadata": {
    "interpreter": {
     "hash": "7639befe37ee169122ceebbaa11f430804cfeb1c660814bb3288bff287f3d9f1"
    }
   }
  }
 },
 "nbformat": 4,
 "nbformat_minor": 2,
 "cells": [
  {
   "cell_type": "code",
   "execution_count": 1,
   "metadata": {},
   "outputs": [],
   "source": [
    "# Protein synthesis\n",
    "# - transcription\n",
    "# - translation"
   ]
  },
  {
   "cell_type": "code",
   "execution_count": 2,
   "metadata": {},
   "outputs": [],
   "source": [
    "# Transcription (** long method, own mehtod)\n",
    "# DNA to mRNA\n",
    "# write give messenger"
   ]
  },
  {
   "cell_type": "code",
   "execution_count": 11,
   "metadata": {},
   "outputs": [],
   "source": [
    "import biotite\n",
    "import biotite.sequence as seq\n",
    "dna = seq.NucleotideSequence('ATGATCTCGTAA')"
   ]
  },
  {
   "cell_type": "code",
   "execution_count": 12,
   "metadata": {},
   "outputs": [
    {
     "output_type": "execute_result",
     "data": {
      "text/plain": [
       "([<biotite.sequence.ProteinSequence at 0x7f8f21693d60>], [(0, 12)])"
      ]
     },
     "metadata": {},
     "execution_count": 12
    }
   ],
   "source": [
    "# Translate\n",
    "dna.translate()\n"
   ]
  },
  {
   "cell_type": "code",
   "execution_count": 15,
   "metadata": {},
   "outputs": [
    {
     "output_type": "stream",
     "name": "stdout",
     "text": [
      "MIS*\n"
     ]
    }
   ],
   "source": [
    "# must specify complete translation (referring to stop codon)\n",
    "print(dna.translate(complete=True))"
   ]
  },
  {
   "cell_type": "code",
   "execution_count": 16,
   "metadata": {},
   "outputs": [],
   "source": [
    "protein = dna.translate(complete=True)"
   ]
  },
  {
   "cell_type": "code",
   "execution_count": 20,
   "metadata": {},
   "outputs": [
    {
     "output_type": "stream",
     "name": "stdout",
     "text": [
      "MIS*\n"
     ]
    }
   ],
   "source": [
    "str(protein)\n",
    "print(protein)"
   ]
  },
  {
   "cell_type": "code",
   "execution_count": 22,
   "metadata": {},
   "outputs": [
    {
     "output_type": "stream",
     "name": "stdout",
     "text": [
      "<class 'biotite.sequence.CodonTable'>\n"
     ]
    }
   ],
   "source": [
    "### amino acids in Codon Table\n",
    "print(seq.CodonTable)"
   ]
  },
  {
   "cell_type": "code",
   "execution_count": 24,
   "metadata": {},
   "outputs": [
    {
     "output_type": "stream",
     "name": "stdout",
     "text": [
      "AAA K      AAC N      AAG K      AAT N\nACA T      ACC T      ACG T      ACT T\nAGA R      AGC S      AGG R      AGT S\nATA I      ATC I      ATG M i    ATT I\n\nCAA Q      CAC H      CAG Q      CAT H\nCCA P      CCC P      CCG P      CCT P\nCGA R      CGC R      CGG R      CGT R\nCTA L      CTC L      CTG L i    CTT L\n\nGAA E      GAC D      GAG E      GAT D\nGCA A      GCC A      GCG A      GCT A\nGGA G      GGC G      GGG G      GGT G\nGTA V      GTC V      GTG V      GTT V\n\nTAA *      TAC Y      TAG *      TAT Y\nTCA S      TCC S      TCG S      TCT S\nTGA *      TGC C      TGG W      TGT C\nTTA L      TTC F      TTG L i    TTT F\n"
     ]
    }
   ],
   "source": [
    "# Official NCBI\n",
    "print(seq.CodonTable.load(1))"
   ]
  },
  {
   "cell_type": "code",
   "execution_count": 26,
   "metadata": {},
   "outputs": [
    {
     "output_type": "stream",
     "name": "stdout",
     "text": [
      "AAA K      AAC N      AAG K      AAT N\nACA T      ACC T      ACG T      ACT T\nAGA R      AGC S      AGG R      AGT S\nATA I      ATC I      ATG M i    ATT I\n\nCAA Q      CAC H      CAG Q      CAT H\nCCA P      CCC P      CCG P      CCT P\nCGA R      CGC R      CGG R      CGT R\nCTA L      CTC L      CTG L      CTT L\n\nGAA E      GAC D      GAG E      GAT D\nGCA A      GCC A      GCG A      GCT A\nGGA G      GGC G      GGG G      GGT G\nGTA V      GTC V      GTG V      GTT V\n\nTAA *      TAC Y      TAG *      TAT Y\nTCA S      TCC S      TCG S      TCT S\nTGA *      TGC C      TGG W      TGT C\nTTA L      TTC F      TTG L      TTT F\n"
     ]
    }
   ],
   "source": [
    "# NCBI biotite\n",
    "print(seq.CodonTable.default_table())"
   ]
  },
  {
   "cell_type": "code",
   "execution_count": 29,
   "metadata": {},
   "outputs": [],
   "source": [
    "# Search for particular codon table (particular aa's codon)\n",
    "table = seq.CodonTable.default_table()\n"
   ]
  },
  {
   "cell_type": "code",
   "execution_count": 30,
   "metadata": {},
   "outputs": [
    {
     "output_type": "execute_result",
     "data": {
      "text/plain": [
       "biotite.sequence.CodonTable"
      ]
     },
     "metadata": {},
     "execution_count": 30
    }
   ],
   "source": [
    "type(table)"
   ]
  },
  {
   "cell_type": "code",
   "execution_count": 31,
   "metadata": {},
   "outputs": [
    {
     "output_type": "execute_result",
     "data": {
      "text/plain": [
       "'E'"
      ]
     },
     "metadata": {},
     "execution_count": 31
    }
   ],
   "source": [
    "# Finds a AA by codon (3N)\n",
    "table['GAA']"
   ]
  },
  {
   "cell_type": "code",
   "execution_count": 32,
   "metadata": {},
   "outputs": [
    {
     "output_type": "execute_result",
     "data": {
      "text/plain": [
       "('GAA', 'GAG')"
      ]
     },
     "metadata": {},
     "execution_count": 32
    }
   ],
   "source": [
    "# Find the codon for AA\n",
    "table['E']"
   ]
  },
  {
   "cell_type": "code",
   "execution_count": 36,
   "metadata": {},
   "outputs": [],
   "source": [
    "# Checking for codon Table of other species (yiest/mitochondria)\n",
    "# for Bacterial Genome\n",
    "bacteria_table = seq.CodonTable.load(11)"
   ]
  },
  {
   "cell_type": "code",
   "execution_count": 37,
   "metadata": {},
   "outputs": [
    {
     "output_type": "stream",
     "name": "stdout",
     "text": [
      "AAA K      AAC N      AAG K      AAT N\nACA T      ACC T      ACG T      ACT T\nAGA R      AGC S      AGG R      AGT S\nATA I i    ATC I i    ATG M i    ATT I\n\nCAA Q      CAC H      CAG Q      CAT H\nCCA P      CCC P      CCG P      CCT P\nCGA R      CGC R      CGG R      CGT R\nCTA L      CTC L      CTG L i    CTT L\n\nGAA E      GAC D      GAG E      GAT D\nGCA A      GCC A      GCG A      GCT A\nGGA G      GGC G      GGG G      GGT G\nGTA V      GTC V      GTG V i    GTT V\n\nTAA *      TAC Y      TAG *      TAT Y\nTCA S      TCC S      TCG S      TCT S\nTGA *      TGC C      TGG W      TGT C\nTTA L      TTC F      TTG L i    TTT F\n"
     ]
    }
   ],
   "source": [
    "print(bacteria_table)"
   ]
  },
  {
   "cell_type": "code",
   "execution_count": 39,
   "metadata": {},
   "outputs": [],
   "source": [
    "# For Yeast Mitochondria using name\n",
    "yeast_mitochondria_table = seq.CodonTable.load('Yeast Mitochondrial')"
   ]
  },
  {
   "cell_type": "code",
   "execution_count": 40,
   "metadata": {},
   "outputs": [
    {
     "output_type": "stream",
     "name": "stdout",
     "text": [
      "AAA K      AAC N      AAG K      AAT N\nACA T      ACC T      ACG T      ACT T\nAGA R      AGC S      AGG R      AGT S\nATA M i    ATC I      ATG M i    ATT I\n\nCAA Q      CAC H      CAG Q      CAT H\nCCA P      CCC P      CCG P      CCT P\nCGA R      CGC R      CGG R      CGT R\nCTA T      CTC T      CTG T      CTT T\n\nGAA E      GAC D      GAG E      GAT D\nGCA A      GCC A      GCG A      GCT A\nGGA G      GGC G      GGG G      GGT G\nGTA V      GTC V      GTG V      GTT V\n\nTAA *      TAC Y      TAG *      TAT Y\nTCA S      TCC S      TCG S      TCT S\nTGA W      TGC C      TGG W      TGT C\nTTA L      TTC F      TTG L      TTT F\n"
     ]
    }
   ],
   "source": [
    "print(yeast_mitochondria_table)"
   ]
  },
  {
   "cell_type": "code",
   "execution_count": null,
   "metadata": {},
   "outputs": [],
   "source": []
  }
 ]
}