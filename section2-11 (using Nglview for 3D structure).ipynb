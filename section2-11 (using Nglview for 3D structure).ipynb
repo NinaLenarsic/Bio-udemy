{
 "metadata": {
  "language_info": {
   "codemirror_mode": {
    "name": "ipython",
    "version": 3
   },
   "file_extension": ".py",
   "mimetype": "text/x-python",
   "name": "python",
   "nbconvert_exporter": "python",
   "pygments_lexer": "ipython3",
   "version": "3.8.5-final"
  },
  "orig_nbformat": 2,
  "kernelspec": {
   "name": "python3",
   "display_name": "Python 3.8.5 64-bit ('base': conda)",
   "metadata": {
    "interpreter": {
     "hash": "7639befe37ee169122ceebbaa11f430804cfeb1c660814bb3288bff287f3d9f1"
    }
   }
  }
 },
 "nbformat": 4,
 "nbformat_minor": 2,
 "cells": [
  {
   "cell_type": "code",
   "execution_count": 18,
   "metadata": {},
   "outputs": [
    {
     "output_type": "display_data",
     "data": {
      "text/plain": "",
      "application/vnd.jupyter.widget-view+json": {
       "version_major": 2,
       "version_minor": 0,
       "model_id": "f70b882163254ba095ebe3ff5e586b3b"
      }
     },
     "metadata": {}
    }
   ],
   "source": [
    "# Method 2 using nglview bippython\n",
    "import nglview as nv"
   ]
  },
  {
   "cell_type": "code",
   "execution_count": 19,
   "metadata": {},
   "outputs": [
    {
     "output_type": "display_data",
     "data": {
      "text/plain": "NGLWidget()",
      "application/vnd.jupyter.widget-view+json": {
       "version_major": 2,
       "version_minor": 0,
       "model_id": "7d01f23fb19b4f959096c9a28ec6ecd2"
      }
     },
     "metadata": {}
    }
   ],
   "source": [
    "nv.demo()"
   ]
  },
  {
   "cell_type": "code",
   "execution_count": 22,
   "metadata": {},
   "outputs": [
    {
     "output_type": "stream",
     "name": "stderr",
     "text": [
      "/Users/ninalenarsic/miniconda3/lib/python3.8/site-packages/Bio/PDB/StructureBuilder.py:89: PDBConstructionWarning: WARNING: Chain A is discontinuous at line 2811.\n  warnings.warn(\n"
     ]
    }
   ],
   "source": [
    "# File\n",
    "# Reading PDB files\n",
    "from Bio.PDB import PDBParser,MMCIFParser\n",
    "# Create a parser\n",
    "parser = PDBParser()\n",
    "structure = parser.get_structure('6LU7','6lu7.pdb')"
   ]
  },
  {
   "cell_type": "code",
   "execution_count": 23,
   "metadata": {},
   "outputs": [
    {
     "output_type": "execute_result",
     "data": {
      "text/plain": [
       "<Structure id=6LU7>"
      ]
     },
     "metadata": {},
     "execution_count": 23
    }
   ],
   "source": [
    "structure"
   ]
  },
  {
   "cell_type": "code",
   "execution_count": 24,
   "metadata": {},
   "outputs": [],
   "source": [
    "view = nv.show_biopython(structure)"
   ]
  },
  {
   "cell_type": "code",
   "execution_count": 25,
   "metadata": {},
   "outputs": [
    {
     "output_type": "display_data",
     "data": {
      "text/plain": "NGLWidget()",
      "application/vnd.jupyter.widget-view+json": {
       "version_major": 2,
       "version_minor": 0,
       "model_id": "2b07d3a41d8f4fb4b3566e0d11348be5"
      }
     },
     "metadata": {}
    }
   ],
   "source": [
    "view"
   ]
  },
  {
   "cell_type": "code",
   "execution_count": 26,
   "metadata": {},
   "outputs": [
    {
     "output_type": "display_data",
     "data": {
      "text/plain": "Image(value=b'', width='99%')",
      "application/vnd.jupyter.widget-view+json": {
       "version_major": 2,
       "version_minor": 0,
       "model_id": "942df165100e46eea07fb10b6034be61"
      }
     },
     "metadata": {}
    }
   ],
   "source": [
    "# static image\n",
    "view.render_image()"
   ]
  },
  {
   "cell_type": "code",
   "execution_count": null,
   "metadata": {},
   "outputs": [],
   "source": []
  }
 ]
}