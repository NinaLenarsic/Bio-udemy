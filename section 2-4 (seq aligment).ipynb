{
 "metadata": {
  "language_info": {
   "codemirror_mode": {
    "name": "ipython",
    "version": 3
   },
   "file_extension": ".py",
   "mimetype": "text/x-python",
   "name": "python",
   "nbconvert_exporter": "python",
   "pygments_lexer": "ipython3",
   "version": "3.8.5-final"
  },
  "orig_nbformat": 2,
  "kernelspec": {
   "name": "python3",
   "display_name": "Python 3.8.5 64-bit ('base': conda)",
   "metadata": {
    "interpreter": {
     "hash": "7639befe37ee169122ceebbaa11f430804cfeb1c660814bb3288bff287f3d9f1"
    }
   }
  }
 },
 "nbformat": 4,
 "nbformat_minor": 2,
 "cells": [
  {
   "cell_type": "code",
   "execution_count": null,
   "metadata": {},
   "outputs": [],
   "source": [
    "# Sequence Aligment\n",
    "# - a method of arranging sequences of DNA, RNA or amino acids or proteins to identify regions of similarity\n",
    "# the similarity being identifies, may be a result of functional, structural or evolutionary relationships between sequences\n",
    "# - useful in identifying similarity and homology (= descent from a common ancestor)\n",
    "\n",
    "# Terms\n",
    "# - matches (A-A)\n",
    "# - mismatches(C-T)\n",
    "# - gap (G--)"
   ]
  },
  {
   "source": [
    "# Alignment Type\n",
    "# - global alignment: finds the best concordance/agreement between all characters in two sequences: mostly from end to end // by needle\n",
    "# - local alignment: finds just the subsequences that align the best: in this method we consider subsequences within each of the 2 sequences and try to match them to obtain the best aligment // by water\n"
   ],
   "cell_type": "code",
   "metadata": {},
   "execution_count": null,
   "outputs": []
  },
  {
   "cell_type": "code",
   "execution_count": null,
   "metadata": {},
   "outputs": [],
   "source": [
    "# Local alignment used\n",
    "# - 2 seq have a small matched region\n",
    "# - 2 seq are of different lenghts\n",
    "# - overlapping seq\n",
    "# - one sequences is a subsequence of the other\n",
    "# - blast (basic local alignment search tool)\n",
    "# - emboss (pairwise seq alignment)"
   ]
  },
  {
   "cell_type": "code",
   "execution_count": 6,
   "metadata": {},
   "outputs": [],
   "source": [
    "from Bio import pairwise2\n",
    "from Bio.pairwise2 import format_alignment\n",
    "from Bio.Seq import Seq"
   ]
  },
  {
   "cell_type": "code",
   "execution_count": 8,
   "metadata": {},
   "outputs": [],
   "source": [
    "seq1 = Seq('ACTCG')\n",
    "seq2 = Seq('ATTCG')"
   ]
  },
  {
   "cell_type": "code",
   "execution_count": 9,
   "metadata": {},
   "outputs": [],
   "source": [
    "# Global Alignment\n",
    "alignments = pairwise2.align.globalxx(seq1,seq2)"
   ]
  },
  {
   "cell_type": "code",
   "execution_count": 10,
   "metadata": {},
   "outputs": [
    {
     "output_type": "execute_result",
     "data": {
      "text/plain": [
       "[Alignment(seqA='ACT-CG', seqB='A-TTCG', score=4.0, start=0, end=6),\n",
       " Alignment(seqA='AC-TCG', seqB='A-TTCG', score=4.0, start=0, end=6),\n",
       " Alignment(seqA='ACTCG', seqB='ATTCG', score=4.0, start=0, end=5)]"
      ]
     },
     "metadata": {},
     "execution_count": 10
    }
   ],
   "source": [
    "alignments"
   ]
  },
  {
   "cell_type": "code",
   "execution_count": 12,
   "metadata": {},
   "outputs": [
    {
     "output_type": "stream",
     "name": "stdout",
     "text": [
      "ACT-CG\n| | ||\nA-TTCG\n  Score=4\n\n"
     ]
    }
   ],
   "source": [
    "# To display the aligment\n",
    "print(format_alignment(*alignments[0]))"
   ]
  },
  {
   "cell_type": "code",
   "execution_count": 15,
   "metadata": {},
   "outputs": [
    {
     "output_type": "stream",
     "name": "stdout",
     "text": [
      "ACT-CG\n| | ||\nA-TTCG\n  Score=4\n\nAC-TCG\n|  |||\nA-TTCG\n  Score=4\n\nACTCG\n|.|||\nATTCG\n  Score=4\n\n"
     ]
    }
   ],
   "source": [
    "# View all\n",
    "for a in alignments:\n",
    "    print(format_alignment(*a))"
   ]
  },
  {
   "cell_type": "code",
   "execution_count": 18,
   "metadata": {},
   "outputs": [],
   "source": [
    "# Local Alignment\n",
    "loc_alignments = pairwise2.align.localxx(seq1,seq2)"
   ]
  },
  {
   "cell_type": "code",
   "execution_count": 19,
   "metadata": {},
   "outputs": [
    {
     "output_type": "stream",
     "name": "stdout",
     "text": [
      "ACT-CG\n| | ||\nA-TTCG\n  Score=4\n\nAC-TCG\n|  |||\nA-TTCG\n  Score=4\n\nACTCG\n|.|||\nATTCG\n  Score=4\n\n"
     ]
    }
   ],
   "source": [
    "for a in loc_alignments:\n",
    "    print(format_alignment(*a))"
   ]
  },
  {
   "cell_type": "code",
   "execution_count": 22,
   "metadata": {},
   "outputs": [],
   "source": [
    "# Get alignment by only score\n",
    "alignment2 = pairwise2.align.globalxx(seq1,seq2,one_alignment_only=True,score_only=True)"
   ]
  },
  {
   "cell_type": "code",
   "execution_count": 23,
   "metadata": {},
   "outputs": [
    {
     "output_type": "execute_result",
     "data": {
      "text/plain": [
       "4.0"
      ]
     },
     "metadata": {},
     "execution_count": 23
    }
   ],
   "source": [
    "alignment2"
   ]
  },
  {
   "cell_type": "code",
   "execution_count": 24,
   "metadata": {},
   "outputs": [],
   "source": [
    "# Check for similarity or percentage of similarity using Alignment\n",
    "# - (fraction of nucleotides that is the same/total number of nucleotides) * 100%\n",
    "# more than 50% --> are homologus"
   ]
  },
  {
   "cell_type": "code",
   "execution_count": 25,
   "metadata": {},
   "outputs": [
    {
     "output_type": "execute_result",
     "data": {
      "text/plain": [
       "Seq('ACTCG')"
      ]
     },
     "metadata": {},
     "execution_count": 25
    }
   ],
   "source": [
    "seq1"
   ]
  },
  {
   "cell_type": "code",
   "execution_count": 27,
   "metadata": {},
   "outputs": [
    {
     "output_type": "execute_result",
     "data": {
      "text/plain": [
       "80.0"
      ]
     },
     "metadata": {},
     "execution_count": 27
    }
   ],
   "source": [
    "alignment2/len(seq1) * 100"
   ]
  },
  {
   "cell_type": "code",
   "execution_count": 28,
   "metadata": {},
   "outputs": [
    {
     "output_type": "execute_result",
     "data": {
      "text/plain": [
       "Seq('ATTCG')"
      ]
     },
     "metadata": {},
     "execution_count": 28
    }
   ],
   "source": [
    "seq2"
   ]
  },
  {
   "cell_type": "code",
   "execution_count": 29,
   "metadata": {},
   "outputs": [],
   "source": [
    "# Get alignment by only the score\n",
    "loc_alignment2 = pairwise2.align.localxx(seq1,seq2,one_alignment_only=True,score_only=True)"
   ]
  },
  {
   "cell_type": "code",
   "execution_count": 30,
   "metadata": {},
   "outputs": [
    {
     "output_type": "execute_result",
     "data": {
      "text/plain": [
       "80.0"
      ]
     },
     "metadata": {},
     "execution_count": 30
    }
   ],
   "source": [
    "loc_alignment2/len(seq1) * 100"
   ]
  },
  {
   "cell_type": "code",
   "execution_count": 31,
   "metadata": {},
   "outputs": [],
   "source": [
    "# Find out all the possible global alignments wiht the max similatiry score\n",
    "# - Matching characters :2 points\n",
    "# - each mismatching character: -1 point\n",
    "# + 0.5 points are deduced when opening a gap\n",
    "# + 0.1 points are deduced when extending it"
   ]
  },
  {
   "cell_type": "code",
   "execution_count": 35,
   "metadata": {},
   "outputs": [],
   "source": [
    "# Global Alignment with max similarity\n",
    "glb_alignment = pairwise2.align.globalms(seq1,seq2,2,-1,-0.5,-0.1)"
   ]
  },
  {
   "cell_type": "code",
   "execution_count": 36,
   "metadata": {},
   "outputs": [
    {
     "output_type": "stream",
     "name": "stdout",
     "text": [
      "ACT-CG\n| | ||\nA-TTCG\n  Score=7\n\nAC-TCG\n|  |||\nA-TTCG\n  Score=7\n\nACTCG\n|.|||\nATTCG\n  Score=7\n\n"
     ]
    }
   ],
   "source": [
    "for a in glb_alignment:\n",
    "    print(format_alignment(*a))"
   ]
  },
  {
   "cell_type": "code",
   "execution_count": null,
   "metadata": {},
   "outputs": [],
   "source": []
  }
 ]
}