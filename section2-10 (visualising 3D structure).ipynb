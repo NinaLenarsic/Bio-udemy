{
 "metadata": {
  "language_info": {
   "codemirror_mode": {
    "name": "ipython",
    "version": 3
   },
   "file_extension": ".py",
   "mimetype": "text/x-python",
   "name": "python",
   "nbconvert_exporter": "python",
   "pygments_lexer": "ipython3",
   "version": "3.8.5-final"
  },
  "orig_nbformat": 2,
  "kernelspec": {
   "name": "python3",
   "display_name": "Python 3.8.5 64-bit ('base': conda)",
   "metadata": {
    "interpreter": {
     "hash": "7639befe37ee169122ceebbaa11f430804cfeb1c660814bb3288bff287f3d9f1"
    }
   }
  }
 },
 "nbformat": 4,
 "nbformat_minor": 2,
 "cells": [
  {
   "cell_type": "code",
   "execution_count": 1,
   "metadata": {},
   "outputs": [],
   "source": [
    "# Visualising 3D structure\n",
    "# - using nglview\n",
    "# - py3Dmol\n",
    "# - using pytraj\n",
    "# - squiggle\n"
   ]
  },
  {
   "cell_type": "code",
   "execution_count": 5,
   "metadata": {},
   "outputs": [
    {
     "output_type": "stream",
     "name": "stdout",
     "text": [
      "Requirement already satisfied: py3Dmol in /Users/ninalenarsic/miniconda3/lib/python3.8/site-packages (0.9.1)\n"
     ]
    }
   ],
   "source": [
    "# Method 1 using py3DMol\n",
    "!pip install py3Dmol"
   ]
  },
  {
   "cell_type": "code",
   "execution_count": 6,
   "metadata": {},
   "outputs": [],
   "source": [
    "# can cisualise any particular protein structure w/o downloading\n",
    "import py3Dmol"
   ]
  },
  {
   "cell_type": "code",
   "execution_count": 7,
   "metadata": {},
   "outputs": [],
   "source": [
    "view1 = py3Dmol.view(query='pdb:6LU7')"
   ]
  },
  {
   "cell_type": "code",
   "execution_count": 9,
   "metadata": {},
   "outputs": [
    {
     "output_type": "display_data",
     "data": {
      "application/3dmoljs_load.v0": "<div id=\"3dmolviewer_16158283028245919\"  style=\"position: relative; width: 640px; height: 480px\">\n        <p id=\"3dmolwarning_16158283028245919\" style=\"background-color:#ffcccc;color:black\">You appear to be running in JupyterLab (or JavaScript failed to load for some other reason).  You need to install the 3dmol extension: <br>\n        <tt>jupyter labextension install jupyterlab_3dmol</tt></p>\n        </div>\n<script>\n\nvar loadScriptAsync = function(uri){\n  return new Promise((resolve, reject) => {\n    var tag = document.createElement('script');\n    tag.src = uri;\n    tag.async = true;\n    tag.onload = () => {\n      resolve();\n    };\n  var firstScriptTag = document.getElementsByTagName('script')[0];\n  firstScriptTag.parentNode.insertBefore(tag, firstScriptTag);\n});\n};\n\nif(typeof $3Dmolpromise === 'undefined') {\n$3Dmolpromise = null;\n  $3Dmolpromise = loadScriptAsync('https://3dmol.org/build/3Dmol.js');\n}\n\nvar viewer_16158283028245919 = null;\nvar warn = document.getElementById(\"3dmolwarning_16158283028245919\");\nif(warn) {\n    warn.parentNode.removeChild(warn);\n}\n$3Dmolpromise.then(function() {\nviewer_16158283028245919 = $3Dmol.createViewer($(\"#3dmolviewer_16158283028245919\"),{backgroundColor:\"white\"});\n$3Dmol.download(\"pdb:6LU7\", viewer_16158283028245919, {}, function() {\nviewer_16158283028245919.zoomTo();\n\tviewer_16158283028245919.setStyle({\"cartoon\": {\"color\": \"spectrum\"}});\nviewer_16158283028245919.render();\n})\n});\n</script>",
      "text/html": "<div id=\"3dmolviewer_16158283028245919\"  style=\"position: relative; width: 640px; height: 480px\">\n        <p id=\"3dmolwarning_16158283028245919\" style=\"background-color:#ffcccc;color:black\">You appear to be running in JupyterLab (or JavaScript failed to load for some other reason).  You need to install the 3dmol extension: <br>\n        <tt>jupyter labextension install jupyterlab_3dmol</tt></p>\n        </div>\n<script>\n\nvar loadScriptAsync = function(uri){\n  return new Promise((resolve, reject) => {\n    var tag = document.createElement('script');\n    tag.src = uri;\n    tag.async = true;\n    tag.onload = () => {\n      resolve();\n    };\n  var firstScriptTag = document.getElementsByTagName('script')[0];\n  firstScriptTag.parentNode.insertBefore(tag, firstScriptTag);\n});\n};\n\nif(typeof $3Dmolpromise === 'undefined') {\n$3Dmolpromise = null;\n  $3Dmolpromise = loadScriptAsync('https://3dmol.org/build/3Dmol.js');\n}\n\nvar viewer_16158283028245919 = null;\nvar warn = document.getElementById(\"3dmolwarning_16158283028245919\");\nif(warn) {\n    warn.parentNode.removeChild(warn);\n}\n$3Dmolpromise.then(function() {\nviewer_16158283028245919 = $3Dmol.createViewer($(\"#3dmolviewer_16158283028245919\"),{backgroundColor:\"white\"});\n$3Dmol.download(\"pdb:6LU7\", viewer_16158283028245919, {}, function() {\nviewer_16158283028245919.zoomTo();\n\tviewer_16158283028245919.setStyle({\"cartoon\": {\"color\": \"spectrum\"}});\nviewer_16158283028245919.render();\n})\n});\n</script>"
     },
     "metadata": {}
    },
    {
     "output_type": "execute_result",
     "data": {
      "text/plain": [
       "<py3Dmol.view at 0x7fbd385d8fd0>"
      ]
     },
     "metadata": {},
     "execution_count": 9
    }
   ],
   "source": [
    "view1.setStyle({'cartoon':{'color':'spectrum'}})"
   ]
  },
  {
   "cell_type": "code",
   "execution_count": 10,
   "metadata": {},
   "outputs": [
    {
     "output_type": "display_data",
     "data": {
      "application/3dmoljs_load.v0": "<div id=\"3dmolviewer_16158283379495811\"  style=\"position: relative; width: 640px; height: 480px\">\n        <p id=\"3dmolwarning_16158283379495811\" style=\"background-color:#ffcccc;color:black\">You appear to be running in JupyterLab (or JavaScript failed to load for some other reason).  You need to install the 3dmol extension: <br>\n        <tt>jupyter labextension install jupyterlab_3dmol</tt></p>\n        </div>\n<script>\n\nvar loadScriptAsync = function(uri){\n  return new Promise((resolve, reject) => {\n    var tag = document.createElement('script');\n    tag.src = uri;\n    tag.async = true;\n    tag.onload = () => {\n      resolve();\n    };\n  var firstScriptTag = document.getElementsByTagName('script')[0];\n  firstScriptTag.parentNode.insertBefore(tag, firstScriptTag);\n});\n};\n\nif(typeof $3Dmolpromise === 'undefined') {\n$3Dmolpromise = null;\n  $3Dmolpromise = loadScriptAsync('https://3dmol.org/build/3Dmol.js');\n}\n\nvar viewer_16158283379495811 = null;\nvar warn = document.getElementById(\"3dmolwarning_16158283379495811\");\nif(warn) {\n    warn.parentNode.removeChild(warn);\n}\n$3Dmolpromise.then(function() {\nviewer_16158283379495811 = $3Dmol.createViewer($(\"#3dmolviewer_16158283379495811\"),{backgroundColor:\"white\"});\n$3Dmol.download(\"pdb:6LU7\", viewer_16158283379495811, {}, function() {\nviewer_16158283379495811.zoomTo();\n\tviewer_16158283379495811.setStyle({\"cartoon\": {\"color\": \"spectrum\"}});\n\tviewer_16158283379495811.setStyle({\"cartoon\": {\"color\": \"blue\"}});\nviewer_16158283379495811.render();\n})\n});\n</script>",
      "text/html": "<div id=\"3dmolviewer_16158283379495811\"  style=\"position: relative; width: 640px; height: 480px\">\n        <p id=\"3dmolwarning_16158283379495811\" style=\"background-color:#ffcccc;color:black\">You appear to be running in JupyterLab (or JavaScript failed to load for some other reason).  You need to install the 3dmol extension: <br>\n        <tt>jupyter labextension install jupyterlab_3dmol</tt></p>\n        </div>\n<script>\n\nvar loadScriptAsync = function(uri){\n  return new Promise((resolve, reject) => {\n    var tag = document.createElement('script');\n    tag.src = uri;\n    tag.async = true;\n    tag.onload = () => {\n      resolve();\n    };\n  var firstScriptTag = document.getElementsByTagName('script')[0];\n  firstScriptTag.parentNode.insertBefore(tag, firstScriptTag);\n});\n};\n\nif(typeof $3Dmolpromise === 'undefined') {\n$3Dmolpromise = null;\n  $3Dmolpromise = loadScriptAsync('https://3dmol.org/build/3Dmol.js');\n}\n\nvar viewer_16158283379495811 = null;\nvar warn = document.getElementById(\"3dmolwarning_16158283379495811\");\nif(warn) {\n    warn.parentNode.removeChild(warn);\n}\n$3Dmolpromise.then(function() {\nviewer_16158283379495811 = $3Dmol.createViewer($(\"#3dmolviewer_16158283379495811\"),{backgroundColor:\"white\"});\n$3Dmol.download(\"pdb:6LU7\", viewer_16158283379495811, {}, function() {\nviewer_16158283379495811.zoomTo();\n\tviewer_16158283379495811.setStyle({\"cartoon\": {\"color\": \"spectrum\"}});\n\tviewer_16158283379495811.setStyle({\"cartoon\": {\"color\": \"blue\"}});\nviewer_16158283379495811.render();\n})\n});\n</script>"
     },
     "metadata": {}
    },
    {
     "output_type": "execute_result",
     "data": {
      "text/plain": [
       "<py3Dmol.view at 0x7fbd385d8fd0>"
      ]
     },
     "metadata": {},
     "execution_count": 10
    }
   ],
   "source": [
    "view1.setStyle({'cartoon':{'color':'blue'}})"
   ]
  },
  {
   "cell_type": "code",
   "execution_count": 11,
   "metadata": {},
   "outputs": [],
   "source": [
    "view2 = py3Dmol.view(query='pdb:4ZS6')"
   ]
  },
  {
   "cell_type": "code",
   "execution_count": 12,
   "metadata": {},
   "outputs": [
    {
     "output_type": "display_data",
     "data": {
      "application/3dmoljs_load.v0": "<div id=\"3dmolviewer_1615828418558601\"  style=\"position: relative; width: 640px; height: 480px\">\n        <p id=\"3dmolwarning_1615828418558601\" style=\"background-color:#ffcccc;color:black\">You appear to be running in JupyterLab (or JavaScript failed to load for some other reason).  You need to install the 3dmol extension: <br>\n        <tt>jupyter labextension install jupyterlab_3dmol</tt></p>\n        </div>\n<script>\n\nvar loadScriptAsync = function(uri){\n  return new Promise((resolve, reject) => {\n    var tag = document.createElement('script');\n    tag.src = uri;\n    tag.async = true;\n    tag.onload = () => {\n      resolve();\n    };\n  var firstScriptTag = document.getElementsByTagName('script')[0];\n  firstScriptTag.parentNode.insertBefore(tag, firstScriptTag);\n});\n};\n\nif(typeof $3Dmolpromise === 'undefined') {\n$3Dmolpromise = null;\n  $3Dmolpromise = loadScriptAsync('https://3dmol.org/build/3Dmol.js');\n}\n\nvar viewer_1615828418558601 = null;\nvar warn = document.getElementById(\"3dmolwarning_1615828418558601\");\nif(warn) {\n    warn.parentNode.removeChild(warn);\n}\n$3Dmolpromise.then(function() {\nviewer_1615828418558601 = $3Dmol.createViewer($(\"#3dmolviewer_1615828418558601\"),{backgroundColor:\"white\"});\n$3Dmol.download(\"pdb:4ZS6\", viewer_1615828418558601, {}, function() {\nviewer_1615828418558601.zoomTo();\n\tviewer_1615828418558601.setStyle({\"cartoon\": {\"color\": \"spectrum\"}});\nviewer_1615828418558601.render();\n})\n});\n</script>",
      "text/html": "<div id=\"3dmolviewer_1615828418558601\"  style=\"position: relative; width: 640px; height: 480px\">\n        <p id=\"3dmolwarning_1615828418558601\" style=\"background-color:#ffcccc;color:black\">You appear to be running in JupyterLab (or JavaScript failed to load for some other reason).  You need to install the 3dmol extension: <br>\n        <tt>jupyter labextension install jupyterlab_3dmol</tt></p>\n        </div>\n<script>\n\nvar loadScriptAsync = function(uri){\n  return new Promise((resolve, reject) => {\n    var tag = document.createElement('script');\n    tag.src = uri;\n    tag.async = true;\n    tag.onload = () => {\n      resolve();\n    };\n  var firstScriptTag = document.getElementsByTagName('script')[0];\n  firstScriptTag.parentNode.insertBefore(tag, firstScriptTag);\n});\n};\n\nif(typeof $3Dmolpromise === 'undefined') {\n$3Dmolpromise = null;\n  $3Dmolpromise = loadScriptAsync('https://3dmol.org/build/3Dmol.js');\n}\n\nvar viewer_1615828418558601 = null;\nvar warn = document.getElementById(\"3dmolwarning_1615828418558601\");\nif(warn) {\n    warn.parentNode.removeChild(warn);\n}\n$3Dmolpromise.then(function() {\nviewer_1615828418558601 = $3Dmol.createViewer($(\"#3dmolviewer_1615828418558601\"),{backgroundColor:\"white\"});\n$3Dmol.download(\"pdb:4ZS6\", viewer_1615828418558601, {}, function() {\nviewer_1615828418558601.zoomTo();\n\tviewer_1615828418558601.setStyle({\"cartoon\": {\"color\": \"spectrum\"}});\nviewer_1615828418558601.render();\n})\n});\n</script>"
     },
     "metadata": {}
    },
    {
     "output_type": "execute_result",
     "data": {
      "text/plain": [
       "<py3Dmol.view at 0x7fbd3861eb20>"
      ]
     },
     "metadata": {},
     "execution_count": 12
    }
   ],
   "source": [
    "view2.setStyle({'cartoon':{'color':'spectrum'}})"
   ]
  },
  {
   "cell_type": "code",
   "execution_count": null,
   "metadata": {},
   "outputs": [],
   "source": []
  }
 ]
}