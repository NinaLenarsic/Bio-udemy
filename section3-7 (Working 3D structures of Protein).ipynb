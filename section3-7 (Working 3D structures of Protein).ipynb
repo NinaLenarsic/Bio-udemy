{
 "metadata": {
  "language_info": {
   "codemirror_mode": {
    "name": "ipython",
    "version": 3
   },
   "file_extension": ".py",
   "mimetype": "text/x-python",
   "name": "python",
   "nbconvert_exporter": "python",
   "pygments_lexer": "ipython3",
   "version": "3.8.5-final"
  },
  "orig_nbformat": 2,
  "kernelspec": {
   "name": "python3",
   "display_name": "Python 3.8.5 64-bit ('miniconda3': virtualenv)",
   "metadata": {
    "interpreter": {
     "hash": "7639befe37ee169122ceebbaa11f430804cfeb1c660814bb3288bff287f3d9f1"
    }
   }
  }
 },
 "nbformat": 4,
 "nbformat_minor": 2,
 "cells": [
  {
   "cell_type": "code",
   "execution_count": 1,
   "metadata": {},
   "outputs": [],
   "source": [
    "# Working with 3D strucutures\n",
    "# pdb\n",
    "# cif\n",
    "# npz\n",
    "# xtc\n",
    "# mmt"
   ]
  },
  {
   "cell_type": "code",
   "execution_count": 2,
   "metadata": {},
   "outputs": [],
   "source": [
    "# Reading 3D pdb files\n",
    "import biotite.structure.io.pdb as pdb"
   ]
  },
  {
   "cell_type": "code",
   "execution_count": 3,
   "metadata": {},
   "outputs": [
    {
     "output_type": "execute_result",
     "data": {
      "text/plain": [
       "['PDBFile',\n",
       " '__author__',\n",
       " '__builtins__',\n",
       " '__cached__',\n",
       " '__doc__',\n",
       " '__file__',\n",
       " '__loader__',\n",
       " '__name__',\n",
       " '__package__',\n",
       " '__path__',\n",
       " '__spec__',\n",
       " 'convert',\n",
       " 'file',\n",
       " 'get_model_count',\n",
       " 'get_structure',\n",
       " 'hybrid36',\n",
       " 'set_structure']"
      ]
     },
     "metadata": {},
     "execution_count": 3
    }
   ],
   "source": [
    "dir(pdb)"
   ]
  },
  {
   "cell_type": "code",
   "execution_count": null,
   "metadata": {},
   "outputs": [],
   "source": []
  },
  {
   "cell_type": "code",
   "execution_count": 4,
   "metadata": {},
   "outputs": [],
   "source": [
    "# Reading\n",
    "file_reader = pdb.PDBFile()\n",
    "file_reader.read('mypdb_dir/4ZS6.pdb')"
   ]
  },
  {
   "cell_type": "code",
   "execution_count": 5,
   "metadata": {},
   "outputs": [
    {
     "output_type": "execute_result",
     "data": {
      "text/plain": [
       "<biotite.structure.io.pdb.PDBFile at 0x7f9501630cd0>"
      ]
     },
     "metadata": {},
     "execution_count": 5
    }
   ],
   "source": [
    "file_reader"
   ]
  },
  {
   "cell_type": "code",
   "execution_count": 6,
   "metadata": {
    "tags": [
     "outputPrepend"
    ]
   },
   "outputs": [
    {
     "output_type": "stream",
     "name": "stdout",
     "text": [
      "9784  C   CYS B 585     -21.824  48.564 596.553  1.00 78.71           C  \nANISOU 9784  C   CYS B 585    10790   9510   9606   -131   3269    863       C  \nATOM   9785  O   CYS B 585     -20.867  48.298 595.855  1.00 79.26           O  \nANISOU 9785  O   CYS B 585    10868   9487   9761   -142   3397    918       O  \nATOM   9786  CB  CYS B 585     -21.629  50.040 598.526  1.00 80.42           C  \nANISOU 9786  CB  CYS B 585    10790   9542  10226   -459   3385    454       C  \nATOM   9787  SG  CYS B 585     -22.442  50.202 600.106  1.00 79.69           S  \nANISOU 9787  SG  CYS B 585    10574   9628  10075   -598   3150    208       S  \nATOM   9788  N   PRO B 586     -23.013  48.899 596.043  1.00 78.96           N  \nANISOU 9788  N   PRO B 586    10990   9569   9443    115   3288   1042       N  \nATOM   9789  CA  PRO B 586     -23.079  48.779 594.595  1.00 79.75           C  \nANISOU 9789  CA  PRO B 586    11289   9629   9383    381   3423   1309       C  \nATOM   9790  C   PRO B 586     -22.599  50.074 593.962  1.00 82.74           C  \nANISOU 9790  C   PRO B 586    11809   9636   9992    472   3887   1436       C  \nATOM   9791  O   PRO B 586     -22.222  51.006 594.705  1.00 84.04           O  \nANISOU 9791  O   PRO B 586    11887   9576  10468    301   4085   1284       O  \nATOM   9792  CB  PRO B 586     -24.566  48.556 594.334  1.00 78.99           C  \nANISOU 9792  CB  PRO B 586    11292   9745   8976    623   3217   1428       C  \nATOM   9793  CG  PRO B 586     -25.246  49.266 595.456  1.00 79.04           C  \nANISOU 9793  CG  PRO B 586    11218   9724   9089    528   3192   1284       C  \nATOM   9794  CD  PRO B 586     -24.364  48.989 596.636  1.00 78.12           C  \nANISOU 9794  CD  PRO B 586    10889   9622   9171    188   3101   1020       C  \nATOM   9795  N   LYS B 587     -22.555  50.129 592.630  1.00 87.08           N  \nANISOU 9795  N   LYS B 587    12570  10112  10403    733   4077   1699       N  \nATOM   9796  CA  LYS B 587     -22.068  51.330 591.936  1.00 90.30           C  \nANISOU 9796  CA  LYS B 587    13144  10141  11024    846   4570   1865       C  \nATOM   9797  C   LYS B 587     -23.216  52.163 591.346  1.00 92.04           C  \nANISOU 9797  C   LYS B 587    13598  10298  11075   1193   4702   2110       C  \nATOM   9798  O   LYS B 587     -24.374  51.761 591.371  1.00 90.76           O  \nANISOU 9798  O   LYS B 587    13460  10406  10620   1356   4397   2146       O  \nATOM   9799  CB  LYS B 587     -21.076  50.941 590.830  1.00 91.31           C  \nANISOU 9799  CB  LYS B 587    13373  10183  11138    912   4773   2010       C  \nATOM   9800  CG  LYS B 587     -21.744  50.807 589.481  1.00 92.36           C  \nANISOU 9800  CG  LYS B 587    13788  10411  10893   1313   4811   2327       C  \nATOM   9801  CD  LYS B 587     -20.893  50.037 588.406  1.00 92.72           C  \nANISOU 9801  CD  LYS B 587    13921  10494  10816   1383   4894   2439       C  \nATOM   9802  CE  LYS B 587     -19.330  50.211 588.569  1.00 93.73           C  \nANISOU 9802  CE  LYS B 587    13918  10336  11357   1098   5205   2318       C  \nATOM   9803  NZ  LYS B 587     -18.654  49.279 589.560  1.00 91.12           N  \nANISOU 9803  NZ  LYS B 587    13273  10163  11187    744   4897   2005       N  \nTER    9804      LYS B 587                                                      \nHETATM 9805  C1  NAG A 701     -34.904  28.640 674.488  1.00 74.53           C  \nANISOU 9805  C1  NAG A 701    10864   7996   9458    655    155  -2332       C  \nHETATM 9806  C2  NAG A 701     -35.141  29.584 675.701  1.00 77.49           C  \nANISOU 9806  C2  NAG A 701    11432   8296   9713    697    238  -2597       C  \nHETATM 9807  C3  NAG A 701     -36.360  30.484 675.419  1.00 78.87           C  \nANISOU 9807  C3  NAG A 701    11680   8296   9992    936    408  -2628       C  \nHETATM 9808  C4  NAG A 701     -36.191  31.246 674.119  1.00 78.64           C  \nANISOU 9808  C4  NAG A 701    11692   7985  10201    957    410  -2538       C  \nHETATM 9809  C5  NAG A 701     -36.008  30.260 672.973  1.00 75.69           C  \nANISOU 9809  C5  NAG A 701    11115   7722   9919    914    324  -2276       C  \nHETATM 9810  C6  NAG A 701     -35.768  30.955 671.657  1.00 75.48           C  \nANISOU 9810  C6  NAG A 701    11137   7435  10106    924    320  -2171       C  \nHETATM 9811  C7  NAG A 701     -34.268  28.644 677.785  1.00 78.61           C  \nANISOU 9811  C7  NAG A 701    11613   8805   9449    520    111  -2783       C  \nHETATM 9812  C8  NAG A 701     -34.613  27.950 679.069  1.00 79.41           C  \nANISOU 9812  C8  NAG A 701    11730   9167   9276    556    135  -2839       C  \nHETATM 9813  N2  NAG A 701     -35.290  28.895 676.947  1.00 78.01           N  \nANISOU 9813  N2  NAG A 701    11490   8615   9533    691    237  -2671       N  \nHETATM 9814  O3  NAG A 701     -36.556  31.409 676.492  1.00 81.77           O  \nANISOU 9814  O3  NAG A 701    12241   8569  10260    981    494  -2885       O  \nHETATM 9815  O4  NAG A 701     -37.324  32.060 673.832  1.00 80.10           O  \nANISOU 9815  O4  NAG A 701    11945   8012  10478   1211    556  -2552       O  \nHETATM 9816  O5  NAG A 701     -34.870  29.413 673.220  1.00 74.31           O  \nANISOU 9816  O5  NAG A 701    10866   7708   9662    686    177  -2254       O  \nHETATM 9817  O6  NAG A 701     -36.962  30.965 670.887  1.00 75.14           O  \nANISOU 9817  O6  NAG A 701    11014   7385  10149   1170    406  -2029       O  \nHETATM 9818  O7  NAG A 701     -33.110  28.956 677.489  1.00 78.63           O  \nANISOU 9818  O7  NAG A 701    11638   8713   9523    343    -15  -2833       O  \nHETATM 9819  C1  NAG A 702     -36.573  33.803 660.961  1.00 79.95           C  \nANISOU 9819  C1  NAG A 702    11949   6732  11697   1608    388   -756       C  \nHETATM 9820  C2  NAG A 702     -36.728  33.844 662.494  1.00 80.65           C  \nANISOU 9820  C2  NAG A 702    12042   6888  11715   1578    420   -994       C  \nHETATM 9821  C3  NAG A 702     -37.784  32.840 662.999  1.00 79.33           C  \nANISOU 9821  C3  NAG A 702    11615   7077  11449   1730    394   -997       C  \nHETATM 9822  C4  NAG A 702     -39.054  32.814 662.146  1.00 79.62           C  \nANISOU 9822  C4  NAG A 702    11551   7193  11508   2051    409   -847       C  \nHETATM 9823  C5  NAG A 702     -38.710  32.743 660.662  1.00 78.78           C  \nANISOU 9823  C5  NAG A 702    11446   7020  11467   2039    354   -628       C  \nHETATM 9824  C6  NAG A 702     -39.946  32.781 659.781  1.00 79.41           C  \nANISOU 9824  C6  NAG A 702    11432   7186  11556   2369    351   -483       C  \nHETATM 9825  C7  NAG A 702     -34.818  34.368 663.969  1.00 81.78           C  \nANISOU 9825  C7  NAG A 702    12381   6854  11839   1096    413  -1315       C  \nHETATM 9826  C8  NAG A 702     -33.502  33.869 664.490  1.00 80.77           C  \nANISOU 9826  C8  NAG A 702    12188   6829  11674    754    328  -1417       C  \nHETATM 9827  N2  NAG A 702     -35.449  33.555 663.111  1.00 79.87           N  \nANISOU 9827  N2  NAG A 702    11946   6812  11591   1240    368  -1111       N  \nHETATM 9828  O3  NAG A 702     -38.096  33.186 664.350  1.00 80.80           O  \nANISOU 9828  O3  NAG A 702    11868   7263  11568   1765    460  -1213       O  \nHETATM 9829  O4  NAG A 702     -39.912  31.739 662.510  1.00 78.23           O  \nANISOU 9829  O4  NAG A 702    11103   7373  11250   2128    384   -844       O  \nHETATM 9830  O5  NAG A 702     -37.891  33.875 660.328  1.00 80.53           O  \nANISOU 9830  O5  NAG A 702    11960   6867  11770   1955    405   -630       O  \nHETATM 9831  O6  NAG A 702     -40.822  31.693 660.050  1.00 78.00           O  \nANISOU 9831  O6  NAG A 702    10955   7375  11305   2442    312   -486       O  \nHETATM 9832  O7  NAG A 702     -35.287  35.460 664.289  1.00 84.38           O  \nANISOU 9832  O7  NAG A 702    12926   6933  12201   1242    515  -1416       O  \nHETATM 9833  C1  NAG B 701     -26.030  48.701 585.900  1.00 92.96           C  \nANISOU 9833  C1  NAG B 701    14469  11702   9147   2754   3830   2933       C  \nHETATM 9834  C2  NAG B 701     -26.129  50.201 585.614  1.00 96.20           C  \nANISOU 9834  C2  NAG B 701    15097  11792   9663   2972   4244   3178       C  \nHETATM 9835  C3  NAG B 701     -27.356  50.487 584.744  1.00 98.36           C  \nANISOU 9835  C3  NAG B 701    15571  12251   9549   3453   4139   3384       C  \nHETATM 9836  C4  NAG B 701     -27.286  49.707 583.443  1.00 99.44           C  \nANISOU 9836  C4  NAG B 701    15873  12630   9281   3734   4045   3501       C  \nHETATM 9837  C5  NAG B 701     -27.194  48.209 583.732  1.00 96.14           C  \nANISOU 9837  C5  NAG B 701    15217  12522   8790   3488   3635   3219       C  \nHETATM 9838  C6  NAG B 701     -26.935  47.386 582.485  1.00 97.20           C  \nANISOU 9838  C6  NAG B 701    15493  12869   8570   3710   3572   3289       C  \nHETATM 9839  C7  NAG B 701     -25.113  51.768 587.210  1.00 96.65           C  \nANISOU 9839  C7  NAG B 701    14993  11249  10481   2495   4737   3034       C  \nHETATM 9840  C8  NAG B 701     -25.297  52.543 588.473  1.00 96.18           C  \nANISOU 9840  C8  NAG B 701    14770  11012  10764   2256   4788   2858       C  \nHETATM 9841  N2  NAG B 701     -26.146  50.990 586.828  1.00 95.60           N  \nANISOU 9841  N2  NAG B 701    14873  11493   9958   2717   4346   3047       N  \nHETATM 9842  O3  NAG B 701     -27.444  51.878 584.434  1.00101.70           O  \nANISOU 9842  O3  NAG B 701    16217  12358  10064   3690   4546   3647       O  \nHETATM 9843  O4  NAG B 701     -28.424  49.976 582.630  1.00101.81           O  \nANISOU 9843  O4  NAG B 701    16348  13135   9200   4207   3918   3673       O  \nHETATM 9844  O5  NAG B 701     -26.098  47.942 584.622  1.00 93.91           O  \nANISOU 9844  O5  NAG B 701    14743  12055   8882   3036   3728   3045       O  \nHETATM 9845  O6  NAG B 701     -27.998  47.433 581.542  1.00 99.49           O  \nANISOU 9845  O6  NAG B 701    15949  13422   8432   4171   3404   3414       O  \nHETATM 9846  O7  NAG B 701     -24.080  51.832 586.541  1.00 98.12           O  \nANISOU 9846  O7  NAG B 701    15287  11249  10745   2491   5042   3145       O  \nHETATM 9847  C1  NAG B 702     -27.656  39.828 574.447  1.00112.57           C  \nANISOU 9847  C1  NAG B 702    17550  16970   8251   4972   1880   2376       C  \nHETATM 9848  C2  NAG B 702     -27.752  41.129 575.240  1.00112.14           C  \nANISOU 9848  C2  NAG B 702    17559  16643   8407   4948   2106   2611       C  \nHETATM 9849  C3  NAG B 702     -28.612  40.925 576.482  1.00109.01           C  \nANISOU 9849  C3  NAG B 702    16935  16362   8122   4770   1841   2465       C  \nHETATM 9850  C4  NAG B 702     -29.930  40.252 576.154  1.00109.80           C  \nANISOU 9850  C4  NAG B 702    16879  16858   7983   4964   1386   2216       C  \nHETATM 9851  C5  NAG B 702     -29.724  39.029 575.240  1.00110.68           C  \nANISOU 9851  C5  NAG B 702    16945  17204   7903   4998   1206   1993       C  \nHETATM 9852  C6  NAG B 702     -31.028  38.476 574.715  1.00112.47           C  \nANISOU 9852  C6  NAG B 702    17024  17810   7898   5235    783   1733       C  \nHETATM 9853  C7  NAG B 702     -25.802  42.598 574.933  1.00114.28           C  \nANISOU 9853  C7  NAG B 702    18158  16267   8997   4875   2912   3044       C  \nHETATM 9854  C8  NAG B 702     -24.476  42.999 575.486  1.00113.06           C  \nANISOU 9854  C8  NAG B 702    18030  15727   9199   4573   3326   3165       C  \nHETATM 9855  N2  NAG B 702     -26.461  41.624 575.601  1.00111.29           N  \nANISOU 9855  N2  NAG B 702    17548  16163   8576   4720   2529   2792       N  \nHETATM 9856  O3  NAG B 702     -28.814  42.224 577.064  1.00109.34           O  \nANISOU 9856  O3  NAG B 702    17061  16166   8317   4813   2053   2687       O  \nHETATM 9857  O4  NAG B 702     -30.638  39.909 577.342  1.00106.78           O  \nANISOU 9857  O4  NAG B 702    16263  16580   7726   4760   1150   2054       O  \nHETATM 9858  O5  NAG B 702     -28.943  39.391 574.093  1.00113.77           O  \nANISOU 9858  O5  NAG B 702    17582  17477   8167   5192   1473   2169       O  \nHETATM 9859  O6  NAG B 702     -31.744  37.804 575.741  1.00109.54           O  \nANISOU 9859  O6  NAG B 702    16374  17591   7654   5016    494   1489       O  \nHETATM 9860  O7  NAG B 702     -26.276  43.090 573.911  1.00118.05           O  \nANISOU 9860  O7  NAG B 702    18802  16818   9235   5252   2916   3152       O  \nCONECT  168  665                                                                \nCONECT  665  168                                                                \nCONECT 1010 1489                                                                \nCONECT 1489 1010                                                                \nCONECT 1766 2355                                                                \nCONECT 2355 1766                                                                \nCONECT 2736 3156                                                                \nCONECT 3156 2736                                                                \nCONECT 3323 3516                                                                \nCONECT 3516 3323                                                                \nCONECT 3544 9805                                                                \nCONECT 3662 4062                                                                \nCONECT 3741 4885                                                                \nCONECT 4062 3662                                                                \nCONECT 4130 9819                                                                \nCONECT 4261 4442                                                                \nCONECT 4442 4261                                                                \nCONECT 4885 3741                                                                \nCONECT 5070 5567                                                                \nCONECT 5567 5070                                                                \nCONECT 5912 6391                                                                \nCONECT 6391 5912                                                                \nCONECT 6668 7257                                                                \nCONECT 7257 6668                                                                \nCONECT 7638 8058                                                                \nCONECT 8058 7638                                                                \nCONECT 8225 8418                                                                \nCONECT 8418 8225                                                                \nCONECT 8446 9833                                                                \nCONECT 8564 8964                                                                \nCONECT 8643 9787                                                                \nCONECT 8964 8564                                                                \nCONECT 9032 9847                                                                \nCONECT 9163 9344                                                                \nCONECT 9344 9163                                                                \nCONECT 9787 8643                                                                \nCONECT 9805 3544 9806 9816                                                      \nCONECT 9806 9805 9807 9813                                                      \nCONECT 9807 9806 9808 9814                                                      \nCONECT 9808 9807 9809 9815                                                      \nCONECT 9809 9808 9810 9816                                                      \nCONECT 9810 9809 9817                                                           \nCONECT 9811 9812 9813 9818                                                      \nCONECT 9812 9811                                                                \nCONECT 9813 9806 9811                                                           \nCONECT 9814 9807                                                                \nCONECT 9815 9808                                                                \nCONECT 9816 9805 9809                                                           \nCONECT 9817 9810                                                                \nCONECT 9818 9811                                                                \nCONECT 9819 4130 9820 9830                                                      \nCONECT 9820 9819 9821 9827                                                      \nCONECT 9821 9820 9822 9828                                                      \nCONECT 9822 9821 9823 9829                                                      \nCONECT 9823 9822 9824 9830                                                      \nCONECT 9824 9823 9831                                                           \nCONECT 9825 9826 9827 9832                                                      \nCONECT 9826 9825                                                                \nCONECT 9827 9820 9825                                                           \nCONECT 9828 9821                                                                \nCONECT 9829 9822                                                                \nCONECT 9830 9819 9823                                                           \nCONECT 9831 9824                                                                \nCONECT 9832 9825                                                                \nCONECT 9833 8446 9834 9844                                                      \nCONECT 9834 9833 9835 9841                                                      \nCONECT 9835 9834 9836 9842                                                      \nCONECT 9836 9835 9837 9843                                                      \nCONECT 9837 9836 9838 9844                                                      \nCONECT 9838 9837 9845                                                           \nCONECT 9839 9840 9841 9846                                                      \nCONECT 9840 9839                                                                \nCONECT 9841 9834 9839                                                           \nCONECT 9842 9835                                                                \nCONECT 9843 9836                                                                \nCONECT 9844 9833 9837                                                           \nCONECT 9845 9838                                                                \nCONECT 9846 9839                                                                \nCONECT 9847 9032 9848 9858                                                      \nCONECT 9848 9847 9849 9855                                                      \nCONECT 9849 9848 9850 9856                                                      \nCONECT 9850 9849 9851 9857                                                      \nCONECT 9851 9850 9852 9858                                                      \nCONECT 9852 9851 9859                                                           \nCONECT 9853 9854 9855 9860                                                      \nCONECT 9854 9853                                                                \nCONECT 9855 9848 9853                                                           \nCONECT 9856 9849                                                                \nCONECT 9857 9850                                                                \nCONECT 9858 9847 9851                                                           \nCONECT 9859 9852                                                                \nCONECT 9860 9853                                                                \nMASTER      462    0    4   32  106    0    0    6 9842    6   92  106          \nEND                                                                             \n"
     ]
    }
   ],
   "source": [
    "print(file_reader)"
   ]
  },
  {
   "cell_type": "code",
   "execution_count": 7,
   "metadata": {},
   "outputs": [
    {
     "output_type": "execute_result",
     "data": {
      "text/plain": [
       "['__abstractmethods__',\n",
       " '__class__',\n",
       " '__copy_create__',\n",
       " '__copy_fill__',\n",
       " '__delattr__',\n",
       " '__dict__',\n",
       " '__dir__',\n",
       " '__doc__',\n",
       " '__eq__',\n",
       " '__format__',\n",
       " '__ge__',\n",
       " '__getattribute__',\n",
       " '__gt__',\n",
       " '__hash__',\n",
       " '__init__',\n",
       " '__init_subclass__',\n",
       " '__le__',\n",
       " '__lt__',\n",
       " '__module__',\n",
       " '__ne__',\n",
       " '__new__',\n",
       " '__reduce__',\n",
       " '__reduce_ex__',\n",
       " '__repr__',\n",
       " '__setattr__',\n",
       " '__sizeof__',\n",
       " '__str__',\n",
       " '__subclasshook__',\n",
       " '__weakref__',\n",
       " '_abc_impl',\n",
       " '_deprecated_read',\n",
       " '_get_model_length',\n",
       " 'copy',\n",
       " 'get_coord',\n",
       " 'get_model_count',\n",
       " 'get_structure',\n",
       " 'lines',\n",
       " 'read',\n",
       " 'read_iter',\n",
       " 'set_structure',\n",
       " 'write']"
      ]
     },
     "metadata": {},
     "execution_count": 7
    }
   ],
   "source": [
    "# Methods\n",
    "dir(file_reader)"
   ]
  },
  {
   "cell_type": "code",
   "execution_count": 8,
   "metadata": {},
   "outputs": [],
   "source": [
    "protein_structure = file_reader.get_structure()"
   ]
  },
  {
   "cell_type": "code",
   "execution_count": 9,
   "metadata": {
    "tags": [
     "outputPrepend"
    ]
   },
   "outputs": [
    {
     "output_type": "stream",
     "name": "stdout",
     "text": [
      "   8.934  606.079\n    B     549  GLU C      C        -8.566    8.237  606.746\n    B     549  GLU O      O        -9.714    8.602  606.480\n    B     549  GLU CB     C        -7.584    8.918  604.557\n    B     549  GLU CG     C        -6.586    9.709  603.695\n    B     549  GLU CD     C        -6.751    9.438  602.189\n    B     549  GLU OE1    O        -6.397    8.326  601.732\n    B     549  GLU OE2    O        -7.256   10.334  601.465\n    B     550  GLY N      N        -8.324    7.232  607.584\n    B     550  GLY CA     C        -9.423    6.564  608.264\n    B     550  GLY C      C        -9.464    5.084  607.941\n    B     550  GLY O      O        -9.814    4.260  608.785\n    B     551  GLY N      N        -9.134    4.750  606.698\n    B     551  GLY CA     C        -8.825    3.381  606.336\n    B     551  GLY C      C        -9.916    2.484  605.777\n    B     551  GLY O      O        -9.731    1.266  605.734\n    B     552  GLY N      N       -11.020    3.047  605.300\n    B     552  GLY CA     C       -12.073    2.212  604.747\n    B     552  GLY C      C       -12.071    2.182  603.229\n    B     552  GLY O      O       -11.085    1.792  602.601\n    B     553  TRP N      N       -13.210    2.525  602.640\n    B     553  TRP CA     C       -13.296    2.835  601.213\n    B     553  TRP C      C       -14.084    4.120  601.054\n    B     553  TRP O      O       -14.934    4.431  601.880\n    B     553  TRP CB     C       -13.942    1.703  600.407\n    B     553  TRP CG     C       -13.152    0.436  600.383\n    B     553  TRP CD1    C       -13.018   -0.474  601.394\n    B     553  TRP CD2    C       -12.366   -0.056  599.294\n    B     553  TRP NE1    N       -12.205   -1.510  600.998\n    B     553  TRP CE2    C       -11.787   -1.275  599.713\n    B     553  TRP CE3    C       -12.093    0.415  598.004\n    B     553  TRP CZ2    C       -10.952   -2.030  598.885\n    B     553  TRP CZ3    C       -11.264   -0.339  597.178\n    B     553  TRP CH2    C       -10.703   -1.546  597.623\n    B     554  LEU N      N       -13.769    4.899  600.031\n    B     554  LEU CA     C       -14.620    6.028  599.694\n    B     554  LEU C      C       -15.306    5.702  598.389\n    B     554  LEU O      O       -14.649    5.423  597.393\n    B     554  LEU CB     C       -13.828    7.327  599.591\n    B     554  LEU CG     C       -14.629    8.627  599.525\n    B     554  LEU CD1    C       -14.939    9.118  600.921\n    B     554  LEU CD2    C       -13.866    9.684  598.767\n    B     555  VAL N      N       -16.632    5.705  598.409\n    B     555  VAL CA     C       -17.429    5.244  597.278\n    B     555  VAL C      C       -18.362    6.354  596.818\n    B     555  VAL O      O       -18.838    7.140  597.625\n    B     555  VAL CB     C       -18.238    3.971  597.642\n    B     555  VAL CG1    C       -19.376    3.750  596.676\n    B     555  VAL CG2    C       -17.337    2.762  597.658\n    B     556  ALA N      N       -18.607    6.438  595.522\n    B     556  ALA CA     C       -19.518    7.436  595.018\n    B     556  ALA C      C       -20.222    6.922  593.776\n    B     556  ALA O      O       -19.804    5.930  593.181\n    B     556  ALA CB     C       -18.776    8.716  594.717\n    B     557  SER N      N       -21.301    7.596  593.396\n    B     557  SER CA     C       -22.009    7.304  592.159\n    B     557  SER C      C       -22.397    8.626  591.529\n    B     557  SER O      O       -22.636    9.603  592.215\n    B     557  SER CB     C       -23.237    6.423  592.414\n    B     557  SER OG     O       -24.080    6.364  591.276\n    B     558  GLY N      N       -22.382    8.693  590.215\n    B     558  GLY CA     C       -22.737    9.933  589.567\n    B     558  GLY C      C       -23.783    9.703  588.508\n    B     558  GLY O      O       -23.889    8.598  587.969\n    B     559  SER N      N       -24.584   10.731  588.246\n    B     559  SER CA     C       -25.551   10.682  587.161\n    B     559  SER C      C       -25.307   11.837  586.203\n    B     559  SER O      O       -24.710   12.858  586.566\n    B     559  SER CB     C       -26.982   10.690  587.687\n    B     559  SER OG     O       -27.130    9.723  588.714\n    B     560  THR N      N       -25.782   11.654  584.975\n    B     560  THR CA     C       -25.578   12.603  583.895\n    B     560  THR C      C       -26.891   13.102  583.322\n    B     560  THR O      O       -27.886   12.383  583.315\n    B     560  THR CB     C       -24.791   11.957  582.759\n    B     560  THR OG1    O       -25.550   10.858  582.223\n    B     560  THR CG2    C       -23.468   11.439  583.272\n    B     561  VAL N      N       -26.884   14.334  582.826\n    B     561  VAL CA     C       -28.049   14.891  582.138\n    B     561  VAL C      C       -27.620   15.479  580.796\n    B     561  VAL O      O       -26.617   16.196  580.719\n    B     561  VAL CB     C       -28.772   15.946  582.996\n    B     561  VAL CG1    C       -29.722   16.764  582.158\n    B     561  VAL CG2    C       -29.528   15.264  584.124\n    B     562  ALA N      N       -28.360   15.140  579.738\n    B     562  ALA CA     C       -27.929   15.434  578.374\n    B     562  ALA C      C       -27.689   16.922  578.177\n    B     562  ALA O      O       -28.483   17.755  578.621\n    B     562  ALA CB     C       -28.953   14.939  577.383\n    B     563  MET N      N       -26.599   17.247  577.487\n    B     563  MET CA     C       -26.268   18.634  577.203\n    B     563  MET C      C       -27.304   19.324  576.337\n    B     563  MET O      O       -27.791   18.745  575.372\n    B     563  MET CB     C       -24.896   18.710  576.546\n    B     563  MET CG     C       -24.427   20.122  576.237\n    B     563  MET SD     S       -24.844   21.399  577.453\n    B     563  MET CE     C       -23.778   20.993  578.833\n    B     564  THR N      N       -27.600   20.582  576.654\n    B     564  THR CA     C       -28.662   21.310  575.971\n    B     564  THR C      C       -28.066   22.228  574.910\n    B     564  THR O      O       -26.856   22.455  574.881\n    B     564  THR CB     C       -29.543   22.145  576.956\n    B     564  THR OG1    O       -28.766   23.166  577.593\n    B     564  THR CG2    C       -30.192   21.248  578.011\n    B     565  GLU N      N       -28.926   22.681  573.999\n    B     565  GLU CA     C       -28.528   23.509  572.861\n    B     565  GLU C      C       -27.654   24.672  573.295\n    B     565  GLU O      O       -26.506   24.802  572.864\n    B     565  GLU CB     C       -29.760   24.037  572.138\n    B     565  GLU CG     C       -29.555   24.271  570.656\n    B     565  GLU CD     C       -28.917   23.074  569.952\n    B     565  GLU OE1    O       -28.331   23.288  568.860\n    B     565  GLU OE2    O       -29.038   21.920  570.446\n    B     566  GLN N      N       -28.229   25.534  574.130\n    B     566  GLN CA     C       -27.460   26.544  574.827\n    B     566  GLN C      C       -27.277   26.116  576.286\n    B     566  GLN O      O       -28.176   25.527  576.888\n    B     566  GLN CB     C       -28.155   27.899  574.720\n    B     566  GLN CG     C       -29.611   27.815  574.280\n    B     566  GLN CD     C       -30.132   29.145  573.782\n    B     566  GLN OE1    O       -29.522   29.771  572.919\n    B     566  GLN NE2    N       -31.266   29.587  574.325\n    B     567  LEU N      N       -26.119   26.458  576.851\n    B     567  LEU CA     C       -25.704   26.025  578.180\n    B     567  LEU C      C       -26.570   26.688  579.232\n    B     567  LEU O      O       -26.966   27.847  579.088\n    B     567  LEU CB     C       -24.237   26.380  578.429\n    B     567  LEU CG     C       -23.545   25.991  579.738\n    B     567  LEU CD1    C       -23.365   24.488  579.773\n    B     567  LEU CD2    C       -22.236   26.724  579.946\n    B     568  GLN N      N       -26.869   25.935  580.286\n    B     568  GLN CA     C       -27.685   26.407  581.404\n    B     568  GLN C      C       -26.866   26.382  582.713\n    B     568  GLN O      O       -26.220   25.393  583.043\n    B     568  GLN CB     C       -28.942   25.532  581.518\n    B     568  GLN CG     C       -29.439   25.032  580.159\n    B     568  GLN CD     C       -30.811   24.389  580.203\n    B     568  GLN OE1    O       -30.973   23.284  580.728\n    B     568  GLN NE2    N       -31.814   25.090  579.677\n    B     569  MET N      N       -26.913   27.465  583.474\n    B     569  MET CA     C       -26.035   27.578  584.619\n    B     569  MET C      C       -26.776   27.930  585.883\n    B     569  MET O      O       -27.911   28.396  585.843\n    B     569  MET CB     C       -24.966   28.632  584.376\n    B     569  MET CG     C       -23.969   28.275  583.299\n    B     569  MET SD     S       -22.860   29.663  582.962\n    B     569  MET CE     C       -22.034   29.823  584.554\n    B     570  GLY N      N       -26.117   27.694  587.011\n    B     570  GLY CA     C       -26.655   28.083  588.294\n    B     570  GLY C      C       -25.695   28.995  589.011\n    B     570  GLY O      O       -24.496   28.744  589.051\n    B     571  PHE N      N       -26.237   30.040  589.610\n    B     571  PHE CA     C       -25.446   30.962  590.393\n    B     571  PHE C      C       -25.987   30.925  591.807\n    B     571  PHE O      O       -27.190   31.018  592.013\n    B     571  PHE CB     C       -25.517   32.373  589.801\n    B     571  PHE CG     C       -25.022   32.457  588.391\n    B     571  PHE CD1    C       -23.685   32.691  588.118\n    B     571  PHE CD2    C       -25.883   32.231  587.325\n    B     571  PHE CE1    C       -23.236   32.739  586.805\n    B     571  PHE CE2    C       -25.434   32.273  586.014\n    B     571  PHE CZ     C       -24.116   32.531  585.758\n    B     572  GLY N      N       -25.111   30.758  592.786\n    B     572  GLY CA     C       -25.517   30.869  594.171\n    B     572  GLY C      C       -24.941   32.135  594.773\n    B     572  GLY O      O       -23.739   32.360  594.700\n    B     573  ILE N      N       -25.774   32.974  595.374\n    B     573  ILE CA     C       -25.238   34.146  596.044\n    B     573  ILE C      C       -25.450   34.088  597.545\n    B     573  ILE O      O       -26.508   33.673  598.018\n    B     573  ILE CB     C       -25.843   35.429  595.480\n    B     573  ILE CG1    C       -25.750   35.428  593.956\n    B     573  ILE CG2    C       -25.090   36.614  596.001\n    B     573  ILE CD1    C       -26.189   36.704  593.323\n    B     574  THR N      N       -24.410   34.451  598.289\n    B     574  THR CA     C       -24.456   34.457  599.752\n    B     574  THR C      C       -23.879   35.762  600.260\n    B     574  THR O      O       -22.716   36.075  600.019\n    B     574  THR CB     C       -23.671   33.297  600.369\n    B     574  THR OG1    O       -23.926   32.104  599.626\n    B     574  THR CG2    C       -24.054   33.100  601.827\n    B     575  VAL N      N       -24.685   36.521  600.985\n    B     575  VAL CA     C       -24.236   37.816  601.478\n    B     575  VAL C      C       -24.059   37.823  602.973\n    B     575  VAL O      O       -24.652   37.016  603.683\n    B     575  VAL CB     C       -25.212   38.937  601.072\n    B     575  VAL CG1    C       -25.288   39.051  599.573\n    B     575  VAL CG2    C       -26.571   38.695  601.644\n    B     576  GLN N      N       -23.166   38.676  603.441\n    B     576  GLN CA     C       -22.970   38.839  604.868\n    B     576  GLN C      C       -23.015   40.318  605.224\n    B     576  GLN O      O       -22.515   41.145  604.467\n    B     576  GLN CB     C       -21.646   38.250  605.283\n    B     576  GLN CG     C       -21.563   37.827  606.726\n    B     576  GLN CD     C       -21.106   36.375  606.836\n    B     576  GLN OE1    O       -20.684   35.764  605.841\n    B     576  GLN NE2    N       -21.193   35.820  608.056\n    B     577  TYR N      N       -23.671   40.678  606.320\n    B     577  TYR CA     C       -23.709   42.066  606.790\n    B     577  TYR C      C       -22.828   42.335  608.029\n    B     577  TYR O      O       -22.203   41.425  608.576\n    B     577  TYR CB     C       -25.135   42.416  607.135\n    B     577  TYR CG     C       -26.084   42.608  605.991\n    B     577  TYR CD1    C       -26.230   43.838  605.376\n    B     577  TYR CD2    C       -26.851   41.546  605.530\n    B     577  TYR CE1    C       -27.138   44.008  604.355\n    B     577  TYR CE2    C       -27.751   41.701  604.502\n    B     577  TYR CZ     C       -27.891   42.929  603.920\n    B     577  TYR OH     O       -28.792   43.066  602.899\n    B     578  GLY N      N       -22.844   43.585  608.500\n    B     578  GLY CA     C       -22.169   43.995  609.728\n    B     578  GLY C      C       -20.668   43.752  609.745\n    B     578  GLY O      O       -20.094   43.328  608.743\n    B     579  THR N      N       -20.004   44.057  610.857\n    B     579  THR CA     C       -20.638   44.643  612.033\n    B     579  THR C      C       -20.508   46.177  612.035\n    B     579  THR O      O       -21.179   46.849  612.822\n    B     579  THR CB     C       -20.043   44.060  613.348\n    B     579  THR OG1    O       -18.631   43.875  613.192\n    B     579  THR CG2    C       -20.661   42.705  613.673\n    B     580  ASP N      N       -19.660   46.704  611.140\n    B     580  ASP CA     C       -19.441   48.145  610.949\n    B     580  ASP C      C       -18.771   48.391  609.587\n    B     580  ASP O      O       -18.279   49.483  609.292\n    B     580  ASP CB     C       -18.573   48.737  612.071\n    B     580  ASP CG     C       -19.382   49.104  613.328\n    B     580  ASP OD1    O       -19.966   50.219  613.389\n    B     580  ASP OD2    O       -19.420   48.277  614.272\n    B     581  THR N      N       -18.794   47.368  608.743\n    B     581  THR CA     C       -17.816   47.235  607.670\n    B     581  THR C      C       -18.404   46.929  606.289\n    B     581  THR O      O       -17.768   46.242  605.485\n    B     581  THR CB     C       -16.803   46.100  608.019\n    B     581  THR OG1    O       -17.496   45.057  608.741\n    B     581  THR CG2    C       -15.662   46.639  608.880\n    B     582  ASN N      N       -19.559   47.504  605.971\n    B     582  ASN CA     C       -20.237   47.164  604.716\n    B     582  ASN C      C       -19.700   47.827  603.467\n    B     582  ASN O      O       -20.268   48.793  602.973\n    B     582  ASN CB     C       -21.720   47.464  604.840\n    B     582  ASN CG     C       -22.380   46.601  605.850\n    B     582  ASN OD1    O       -22.208   45.380  605.842\n    B     582  ASN ND2    N       -23.109   47.221  606.761\n    B     583  SER N      N       -18.594   47.293  602.962\n    B     583  SER CA     C       -17.887   47.924  601.857\n    B     583  SER C      C       -17.877   47.117  600.566\n    B     583  SER O      O       -16.855   47.019  599.889\n    B     583  SER CB     C       -16.458   48.209  602.296\n    B     583  SER OG     O       -15.897   47.045  602.874\n    B     584  VAL N      N       -19.033   46.582  600.204\n    B     584  VAL CA     C       -19.208   45.904  598.928\n    B     584  VAL C      C       -20.496   46.551  598.423\n    B     584  VAL O      O       -21.461   45.883  598.090\n    B     584  VAL CB     C       -19.312   44.356  599.019\n    B     584  VAL CG1    C       -19.562   43.769  597.661\n    B     584  VAL CG2    C       -18.035   43.725  599.571\n    B     585  CYS N      N       -20.548   47.873  598.522\n    B     585  CYS CA     C       -21.694   48.602  598.049\n    B     585  CYS C      C       -21.824   48.564  596.553\n    B     585  CYS O      O       -20.867   48.298  595.855\n    B     585  CYS CB     C       -21.629   50.040  598.526\n    B     585  CYS SG     S       -22.442   50.202  600.106\n    B     586  PRO N      N       -23.013   48.899  596.043\n    B     586  PRO CA     C       -23.079   48.779  594.595\n    B     586  PRO C      C       -22.599   50.074  593.962\n    B     586  PRO O      O       -22.222   51.006  594.705\n    B     586  PRO CB     C       -24.566   48.556  594.334\n    B     586  PRO CG     C       -25.246   49.266  595.456\n    B     586  PRO CD     C       -24.364   48.989  596.636\n    B     587  LYS N      N       -22.555   50.129  592.630\n    B     587  LYS CA     C       -22.068   51.330  591.936\n    B     587  LYS C      C       -23.216   52.163  591.346\n    B     587  LYS O      O       -24.374   51.761  591.371\n    B     587  LYS CB     C       -21.076   50.941  590.830\n    B     587  LYS CG     C       -21.744   50.807  589.481\n    B     587  LYS CD     C       -20.893   50.037  588.406\n    B     587  LYS CE     C       -19.330   50.211  588.569\n    B     587  LYS NZ     N       -18.654   49.279  589.560\nHET A     701  NAG C1     C       -34.904   28.640  674.488\nHET A     701  NAG C2     C       -35.141   29.584  675.701\nHET A     701  NAG C3     C       -36.360   30.484  675.419\nHET A     701  NAG C4     C       -36.191   31.246  674.119\nHET A     701  NAG C5     C       -36.008   30.260  672.973\nHET A     701  NAG C6     C       -35.768   30.955  671.657\nHET A     701  NAG C7     C       -34.268   28.644  677.785\nHET A     701  NAG C8     C       -34.613   27.950  679.069\nHET A     701  NAG N2     N       -35.290   28.895  676.947\nHET A     701  NAG O3     O       -36.556   31.409  676.492\nHET A     701  NAG O4     O       -37.324   32.060  673.832\nHET A     701  NAG O5     O       -34.870   29.413  673.220\nHET A     701  NAG O6     O       -36.962   30.965  670.887\nHET A     701  NAG O7     O       -33.110   28.956  677.489\nHET A     702  NAG C1     C       -36.573   33.803  660.961\nHET A     702  NAG C2     C       -36.728   33.844  662.494\nHET A     702  NAG C3     C       -37.784   32.840  662.999\nHET A     702  NAG C4     C       -39.054   32.814  662.146\nHET A     702  NAG C5     C       -38.710   32.743  660.662\nHET A     702  NAG C6     C       -39.946   32.781  659.781\nHET A     702  NAG C7     C       -34.818   34.368  663.969\nHET A     702  NAG C8     C       -33.502   33.869  664.490\nHET A     702  NAG N2     N       -35.449   33.555  663.111\nHET A     702  NAG O3     O       -38.096   33.186  664.350\nHET A     702  NAG O4     O       -39.912   31.739  662.510\nHET A     702  NAG O5     O       -37.891   33.875  660.328\nHET A     702  NAG O6     O       -40.822   31.693  660.050\nHET A     702  NAG O7     O       -35.287   35.460  664.289\nHET B     701  NAG C1     C       -26.030   48.701  585.900\nHET B     701  NAG C2     C       -26.129   50.201  585.614\nHET B     701  NAG C3     C       -27.356   50.487  584.744\nHET B     701  NAG C4     C       -27.286   49.707  583.443\nHET B     701  NAG C5     C       -27.194   48.209  583.732\nHET B     701  NAG C6     C       -26.935   47.386  582.485\nHET B     701  NAG C7     C       -25.113   51.768  587.210\nHET B     701  NAG C8     C       -25.297   52.543  588.473\nHET B     701  NAG N2     N       -26.146   50.990  586.828\nHET B     701  NAG O3     O       -27.444   51.878  584.434\nHET B     701  NAG O4     O       -28.424   49.976  582.630\nHET B     701  NAG O5     O       -26.098   47.942  584.622\nHET B     701  NAG O6     O       -27.998   47.433  581.542\nHET B     701  NAG O7     O       -24.080   51.832  586.541\nHET B     702  NAG C1     C       -27.656   39.828  574.447\nHET B     702  NAG C2     C       -27.752   41.129  575.240\nHET B     702  NAG C3     C       -28.612   40.925  576.482\nHET B     702  NAG C4     C       -29.930   40.252  576.154\nHET B     702  NAG C5     C       -29.724   39.029  575.240\nHET B     702  NAG C6     C       -31.028   38.476  574.715\nHET B     702  NAG C7     C       -25.802   42.598  574.933\nHET B     702  NAG C8     C       -24.476   42.999  575.486\nHET B     702  NAG N2     N       -26.461   41.624  575.601\nHET B     702  NAG O3     O       -28.814   42.224  577.064\nHET B     702  NAG O4     O       -30.638   39.909  577.342\nHET B     702  NAG O5     O       -28.943   39.391  574.093\nHET B     702  NAG O6     O       -31.744   37.804  575.741\nHET B     702  NAG O7     O       -26.276   43.090  573.911\n\n\n"
     ]
    }
   ],
   "source": [
    "print(protein_structure)"
   ]
  },
  {
   "cell_type": "code",
   "execution_count": 10,
   "metadata": {},
   "outputs": [
    {
     "output_type": "execute_result",
     "data": {
      "text/plain": [
       "['__abstractmethods__',\n",
       " '__add__',\n",
       " '__class__',\n",
       " '__copy_create__',\n",
       " '__copy_fill__',\n",
       " '__delattr__',\n",
       " '__delitem__',\n",
       " '__dict__',\n",
       " '__dir__',\n",
       " '__doc__',\n",
       " '__eq__',\n",
       " '__format__',\n",
       " '__ge__',\n",
       " '__getattr__',\n",
       " '__getattribute__',\n",
       " '__getitem__',\n",
       " '__gt__',\n",
       " '__hash__',\n",
       " '__init__',\n",
       " '__init_subclass__',\n",
       " '__iter__',\n",
       " '__le__',\n",
       " '__len__',\n",
       " '__lt__',\n",
       " '__module__',\n",
       " '__ne__',\n",
       " '__new__',\n",
       " '__reduce__',\n",
       " '__reduce_ex__',\n",
       " '__repr__',\n",
       " '__setattr__',\n",
       " '__setitem__',\n",
       " '__sizeof__',\n",
       " '__str__',\n",
       " '__subclasshook__',\n",
       " '__weakref__',\n",
       " '_abc_impl',\n",
       " '_annot',\n",
       " '_array_length',\n",
       " '_bonds',\n",
       " '_box',\n",
       " '_coord',\n",
       " '_copy_annotations',\n",
       " '_del_element',\n",
       " '_set_element',\n",
       " '_subarray',\n",
       " 'add_annotation',\n",
       " 'array_length',\n",
       " 'atom_name',\n",
       " 'bonds',\n",
       " 'box',\n",
       " 'chain_id',\n",
       " 'coord',\n",
       " 'copy',\n",
       " 'del_annotation',\n",
       " 'element',\n",
       " 'equal_annotation_categories',\n",
       " 'equal_annotations',\n",
       " 'get_annotation',\n",
       " 'get_annotation_categories',\n",
       " 'get_array',\n",
       " 'hetero',\n",
       " 'ins_code',\n",
       " 'res_id',\n",
       " 'res_name',\n",
       " 'set_annotation',\n",
       " 'shape',\n",
       " 'stack_depth']"
      ]
     },
     "metadata": {},
     "execution_count": 10
    }
   ],
   "source": [
    "# Coordinate\n",
    "dir(protein_structure)"
   ]
  },
  {
   "cell_type": "code",
   "execution_count": 11,
   "metadata": {},
   "outputs": [
    {
     "output_type": "stream",
     "name": "stdout",
     "text": [
      "Shape (1, 9842)\n"
     ]
    }
   ],
   "source": [
    "# Shape and Coordinate of protein\n",
    "print('Shape',protein_structure.shape)"
   ]
  },
  {
   "cell_type": "code",
   "execution_count": 13,
   "metadata": {},
   "outputs": [
    {
     "output_type": "stream",
     "name": "stdout",
     "text": [
      "Coordinates [[[-18.11   24.359 641.863]\n  [-17.678  23.037 641.408]\n  [-16.857  22.298 642.484]\n  ...\n  [-28.943  39.391 574.093]\n  [-31.744  37.804 575.741]\n  [-26.276  43.09  573.911]]]\n"
     ]
    }
   ],
   "source": [
    "print('Coordinates',protein_structure.coord)"
   ]
  }
 ]
}