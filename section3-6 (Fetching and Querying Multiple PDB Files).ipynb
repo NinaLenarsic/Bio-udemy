{
 "metadata": {
  "language_info": {
   "codemirror_mode": {
    "name": "ipython",
    "version": 3
   },
   "file_extension": ".py",
   "mimetype": "text/x-python",
   "name": "python",
   "nbconvert_exporter": "python",
   "pygments_lexer": "ipython3",
   "version": "3.8.5-final"
  },
  "orig_nbformat": 2,
  "kernelspec": {
   "name": "python3",
   "display_name": "Python 3.8.5 64-bit ('miniconda3': virtualenv)",
   "metadata": {
    "interpreter": {
     "hash": "7639befe37ee169122ceebbaa11f430804cfeb1c660814bb3288bff287f3d9f1"
    }
   }
  }
 },
 "nbformat": 4,
 "nbformat_minor": 2,
 "cells": [
  {
   "cell_type": "code",
   "execution_count": 1,
   "metadata": {},
   "outputs": [],
   "source": [
    "import biotite.database.rcsb as rcsb"
   ]
  },
  {
   "cell_type": "code",
   "execution_count": 2,
   "metadata": {},
   "outputs": [],
   "source": [
    "pdb_file_path = rcsb.fetch('4ZS6','pdb','mypdb_dir')"
   ]
  },
  {
   "cell_type": "code",
   "execution_count": 4,
   "metadata": {},
   "outputs": [],
   "source": [
    "# Copying Multiple files\n",
    "pdb_file_path = rcsb.fetch(['4ZS6','6LU7'],'pdb','mypdb_dir')"
   ]
  },
  {
   "cell_type": "code",
   "execution_count": 5,
   "metadata": {},
   "outputs": [
    {
     "output_type": "stream",
     "name": "stdout",
     "text": [
      "['mypdb_dir/4ZS6.pdb', 'mypdb_dir/6LU7.pdb']\n"
     ]
    }
   ],
   "source": [
    "print(pdb_file_path)"
   ]
  }
 ]
}