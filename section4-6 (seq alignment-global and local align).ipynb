{
 "metadata": {
  "language_info": {
   "codemirror_mode": {
    "name": "ipython",
    "version": 3
   },
   "file_extension": ".py",
   "mimetype": "text/x-python",
   "name": "python",
   "nbconvert_exporter": "python",
   "pygments_lexer": "ipython3",
   "version": "3.8.5-final"
  },
  "orig_nbformat": 2,
  "kernelspec": {
   "name": "python3",
   "display_name": "Python 3.8.5 64-bit ('base': conda)",
   "metadata": {
    "interpreter": {
     "hash": "7639befe37ee169122ceebbaa11f430804cfeb1c660814bb3288bff287f3d9f1"
    }
   }
  }
 },
 "nbformat": 4,
 "nbformat_minor": 2,
 "cells": [
  {
   "cell_type": "code",
   "execution_count": 1,
   "metadata": {},
   "outputs": [],
   "source": [
    "# SEQUENCE ALIGNMENT\n",
    "# import alignment\n",
    "import skbio.alignment as align\n"
   ]
  },
  {
   "cell_type": "code",
   "execution_count": 2,
   "metadata": {},
   "outputs": [
    {
     "output_type": "execute_result",
     "data": {
      "text/plain": [
       "['AlignmentStructure',\n",
       " 'StripedSmithWaterman',\n",
       " 'TabularMSA',\n",
       " '__all__',\n",
       " '__builtins__',\n",
       " '__cached__',\n",
       " '__doc__',\n",
       " '__file__',\n",
       " '__loader__',\n",
       " '__name__',\n",
       " '__package__',\n",
       " '__path__',\n",
       " '__spec__',\n",
       " '_indexing',\n",
       " '_pairwise',\n",
       " '_repr',\n",
       " '_ssw_wrapper',\n",
       " '_tabular_msa',\n",
       " 'global_pairwise_align',\n",
       " 'global_pairwise_align_nucleotide',\n",
       " 'global_pairwise_align_protein',\n",
       " 'local_pairwise_align',\n",
       " 'local_pairwise_align_nucleotide',\n",
       " 'local_pairwise_align_protein',\n",
       " 'local_pairwise_align_ssw',\n",
       " 'make_identity_substitution_matrix']"
      ]
     },
     "metadata": {},
     "execution_count": 2
    }
   ],
   "source": [
    "# Methods/atributes\n",
    "dir(align)"
   ]
  },
  {
   "cell_type": "code",
   "execution_count": 8,
   "metadata": {},
   "outputs": [
    {
     "output_type": "stream",
     "name": "stdout",
     "text": [
      "AGTCGATGGTAG\nCGTGAGCTGACACAGCTG\nACGTCG\n"
     ]
    }
   ],
   "source": [
    "# Creating local alignment\n",
    "import skbio\n",
    "from skbio import DNA,RNA,Protein,Sequence\n",
    "seq1 = DNA('AGTCGATGGTAG')\n",
    "seq2 = DNA('CGTGAGCTGACACAGCTG')\n",
    "seq3 = DNA('ACGTCG')\n",
    "print(seq1)\n",
    "print(seq2)\n",
    "print(seq3)"
   ]
  },
  {
   "cell_type": "code",
   "execution_count": 10,
   "metadata": {},
   "outputs": [],
   "source": [
    "# Local alignment StripedSmithSwaterMan\n",
    "alignment,score,start_end_position = align.local_pairwise_align_ssw(seq1,seq2)\n"
   ]
  },
  {
   "cell_type": "code",
   "execution_count": 11,
   "metadata": {},
   "outputs": [
    {
     "output_type": "execute_result",
     "data": {
      "text/plain": [
       "4"
      ]
     },
     "metadata": {},
     "execution_count": 11
    }
   ],
   "source": [
    "# Score of alignment\n",
    "score"
   ]
  },
  {
   "cell_type": "code",
   "execution_count": 12,
   "metadata": {},
   "outputs": [
    {
     "output_type": "execute_result",
     "data": {
      "text/plain": [
       "TabularMSA[DNA]\n",
       "---------------------\n",
       "Stats:\n",
       "    sequence count: 2\n",
       "    position count: 2\n",
       "---------------------\n",
       "CG\n",
       "CG"
      ]
     },
     "metadata": {},
     "execution_count": 12
    }
   ],
   "source": [
    "# get alignment\n",
    "alignment"
   ]
  },
  {
   "cell_type": "code",
   "execution_count": 13,
   "metadata": {},
   "outputs": [
    {
     "output_type": "execute_result",
     "data": {
      "text/plain": [
       "[(3, 4), (0, 1)]"
      ]
     },
     "metadata": {},
     "execution_count": 13
    }
   ],
   "source": [
    "# get position\n",
    "start_end_position"
   ]
  },
  {
   "cell_type": "code",
   "execution_count": 17,
   "metadata": {},
   "outputs": [
    {
     "output_type": "stream",
     "name": "stderr",
     "text": [
      "/Users/ninalenarsic/miniconda3/lib/python3.8/site-packages/skbio/alignment/_pairwise.py:595: EfficiencyWarning: You're using skbio's python implementation of Needleman-Wunsch alignment. This is known to be very slow (e.g., thousands of times slower than a native C implementation). We'll be adding a faster version soon (see https://github.com/biocore/scikit-bio/issues/254 to track progress on this).\n  warn(\"You're using skbio's python implementation of Needleman-Wunsch \"\n"
     ]
    }
   ],
   "source": [
    "# GLOBAL ALIGNMENT (includes and shows gaps)\n",
    "glb_alignment,glb_score,glb_start_end_position = align.global_pairwise_align_nucleotide(seq1,seq2)"
   ]
  },
  {
   "cell_type": "code",
   "execution_count": 18,
   "metadata": {},
   "outputs": [
    {
     "output_type": "execute_result",
     "data": {
      "text/plain": [
       "TabularMSA[DNA]\n",
       "------------------------------\n",
       "Stats:\n",
       "    sequence count: 2\n",
       "    position count: 30\n",
       "------------------------------\n",
       "------------------AGTCGATGGTAG\n",
       "CGTGAGCTGACACAGCTG------------"
      ]
     },
     "metadata": {},
     "execution_count": 18
    }
   ],
   "source": [
    "glb_alignment"
   ]
  },
  {
   "cell_type": "code",
   "execution_count": 19,
   "metadata": {},
   "outputs": [
    {
     "output_type": "execute_result",
     "data": {
      "text/plain": [
       "0.0"
      ]
     },
     "metadata": {},
     "execution_count": 19
    }
   ],
   "source": [
    "glb_score"
   ]
  },
  {
   "cell_type": "code",
   "execution_count": 21,
   "metadata": {},
   "outputs": [],
   "source": [
    "# DISSIMILAR lenght\n",
    "glb_alignment,glb_score,glb_start_end_position = align.global_pairwise_align_nucleotide(seq1,seq3)"
   ]
  },
  {
   "cell_type": "code",
   "execution_count": 22,
   "metadata": {},
   "outputs": [
    {
     "output_type": "execute_result",
     "data": {
      "text/plain": [
       "TabularMSA[DNA]\n",
       "----------------------\n",
       "Stats:\n",
       "    sequence count: 2\n",
       "    position count: 13\n",
       "----------------------\n",
       "-AGTCGATGGTAG\n",
       "ACGTCG-------"
      ]
     },
     "metadata": {},
     "execution_count": 22
    }
   ],
   "source": [
    "glb_alignment"
   ]
  },
  {
   "cell_type": "code",
   "execution_count": 27,
   "metadata": {},
   "outputs": [],
   "source": [
    "# COMPARE PROTEINS\n",
    "from skbio import Protein\n",
    "p1 = Protein('MVTIAM')\n",
    "p2 = Protein('MATIA')"
   ]
  },
  {
   "cell_type": "code",
   "execution_count": 28,
   "metadata": {},
   "outputs": [
    {
     "output_type": "stream",
     "name": "stderr",
     "text": [
      "/Users/ninalenarsic/miniconda3/lib/python3.8/site-packages/skbio/alignment/_pairwise.py:318: EfficiencyWarning: You're using skbio's python implementation of Smith-Waterman alignment. This will be very slow (e.g., thousands of times slower) than skbio.alignment.local_pairwise_align_ssw.\n  warn(\"You're using skbio's python implementation of Smith-Waterman \"\n"
     ]
    }
   ],
   "source": [
    "local_alignment_protein = align.local_pairwise_align_protein(p1,p2)"
   ]
  },
  {
   "cell_type": "code",
   "execution_count": 29,
   "metadata": {},
   "outputs": [
    {
     "output_type": "execute_result",
     "data": {
      "text/plain": [
       "(TabularMSA[Protein]\n",
       " ---------------------\n",
       " Stats:\n",
       "     sequence count: 2\n",
       "     position count: 5\n",
       " ---------------------\n",
       " MVTIA\n",
       " MATIA,\n",
       " 22.0,\n",
       " [(0, 4), (0, 4)])"
      ]
     },
     "metadata": {},
     "execution_count": 29
    }
   ],
   "source": [
    "local_alignment_protein"
   ]
  },
  {
   "cell_type": "code",
   "execution_count": null,
   "metadata": {},
   "outputs": [],
   "source": []
  }
 ]
}