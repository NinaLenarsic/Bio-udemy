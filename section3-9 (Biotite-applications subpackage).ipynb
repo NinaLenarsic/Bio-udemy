{
 "metadata": {
  "language_info": {
   "codemirror_mode": {
    "name": "ipython",
    "version": 3
   },
   "file_extension": ".py",
   "mimetype": "text/x-python",
   "name": "python",
   "nbconvert_exporter": "python",
   "pygments_lexer": "ipython3",
   "version": "3.8.5-final"
  },
  "orig_nbformat": 2,
  "kernelspec": {
   "name": "python3",
   "display_name": "Python 3.8.5 64-bit ('base': conda)",
   "metadata": {
    "interpreter": {
     "hash": "7639befe37ee169122ceebbaa11f430804cfeb1c660814bb3288bff287f3d9f1"
    }
   }
  }
 },
 "nbformat": 4,
 "nbformat_minor": 2,
 "cells": [
  {
   "cell_type": "code",
   "execution_count": 1,
   "metadata": {},
   "outputs": [],
   "source": [
    "# Creating  applications with Biotite.application\n",
    "# 3 states:\n",
    "# - Created state: initialize app\n",
    "# - Running state: start() does task\n",
    "# - Finished state\n",
    "# - Joined state: join(): makes the results of the application accessible"
   ]
  },
  {
   "cell_type": "code",
   "execution_count": 5,
   "metadata": {},
   "outputs": [],
   "source": [
    "# BLAST (basic local alligment)\n",
    "# to find alligmnet within sequence"
   ]
  },
  {
   "cell_type": "code",
   "execution_count": 4,
   "metadata": {},
   "outputs": [],
   "source": [
    "# Simple app\n",
    "import biotite.application.blast as blast"
   ]
  },
  {
   "cell_type": "code",
   "execution_count": 7,
   "metadata": {},
   "outputs": [
    {
     "output_type": "execute_result",
     "data": {
      "text/plain": [
       "['BlastAlignment',\n",
       " 'BlastWebApp',\n",
       " '__author__',\n",
       " '__builtins__',\n",
       " '__cached__',\n",
       " '__doc__',\n",
       " '__file__',\n",
       " '__loader__',\n",
       " '__name__',\n",
       " '__package__',\n",
       " '__path__',\n",
       " '__spec__',\n",
       " 'alignment',\n",
       " 'webapp']"
      ]
     },
     "metadata": {},
     "execution_count": 7
    }
   ],
   "source": [
    "dir(blast)"
   ]
  },
  {
   "cell_type": "code",
   "execution_count": 15,
   "metadata": {},
   "outputs": [],
   "source": [
    "# task (to create app)\n",
    "import biotite.sequence as seq\n",
    "mini_protein =seq.ProteinSequence('NLYIQWLKDGGPSSGRPPPS')\n",
    "\n",
    "# to create an app (to initialise) and create the state\n",
    "app = blast.BlastWebApp('blastp',mini_protein) \n",
    "app.start() # task\n",
    "app.join() # fetch data and make it accessible\n",
    "alignments = app.get_alignments()"
   ]
  },
  {
   "cell_type": "code",
   "execution_count": 16,
   "metadata": {},
   "outputs": [
    {
     "output_type": "stream",
     "name": "stdout",
     "text": [
      "[<biotite.application.blast.BlastAlignment object at 0x7f9edc66acd0>, <biotite.application.blast.BlastAlignment object at 0x7f9edc3f6a60>, <biotite.application.blast.BlastAlignment object at 0x7f9edc693790>, <biotite.application.blast.BlastAlignment object at 0x7f9edc6935e0>, <biotite.application.blast.BlastAlignment object at 0x7f9ed93a3b50>, <biotite.application.blast.BlastAlignment object at 0x7f9edc696dc0>, <biotite.application.blast.BlastAlignment object at 0x7f9edc696d60>, <biotite.application.blast.BlastAlignment object at 0x7f9edc696fa0>, <biotite.application.blast.BlastAlignment object at 0x7f9edc696e20>, <biotite.application.blast.BlastAlignment object at 0x7f9edc4d95b0>, <biotite.application.blast.BlastAlignment object at 0x7f9edc4d9bb0>, <biotite.application.blast.BlastAlignment object at 0x7f9edc4d9e80>, <biotite.application.blast.BlastAlignment object at 0x7f9edc4d9040>, <biotite.application.blast.BlastAlignment object at 0x7f9edc467190>]\n"
     ]
    }
   ],
   "source": [
    "print(alignments)"
   ]
  },
  {
   "cell_type": "code",
   "execution_count": 17,
   "metadata": {},
   "outputs": [
    {
     "output_type": "stream",
     "name": "stdout",
     "text": [
      "NLYIQWLKDGGPSSGRPPPS\nNLYIQWLKDGGPSSGRPPPS\n"
     ]
    }
   ],
   "source": [
    "print(alignments[0])"
   ]
  },
  {
   "cell_type": "code",
   "execution_count": 19,
   "metadata": {},
   "outputs": [],
   "source": [
    "best_alignments = alignments[0]"
   ]
  },
  {
   "cell_type": "code",
   "execution_count": 23,
   "metadata": {},
   "outputs": [
    {
     "output_type": "stream",
     "name": "stdout",
     "text": [
      "Score 101\nE-value 7.66448e-05\nHit_ID 1L2Y_A\nHIT NAME NMR Structure of Trp-Cage Miniprotein Construct TC5b [synthetic construct]\n"
     ]
    }
   ],
   "source": [
    "print('Score',best_alignments.score)\n",
    "print('E-value',best_alignments.e_value)\n",
    "print('Hit_ID',best_alignments.hit_id)\n",
    "print('HIT NAME',best_alignments.hit_definition)"
   ]
  },
  {
   "cell_type": "code",
   "execution_count": null,
   "metadata": {},
   "outputs": [],
   "source": [
    "print('')"
   ]
  }
 ]
}