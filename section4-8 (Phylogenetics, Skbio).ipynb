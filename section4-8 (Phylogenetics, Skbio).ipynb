{
 "metadata": {
  "language_info": {
   "codemirror_mode": {
    "name": "ipython",
    "version": 3
   },
   "file_extension": ".py",
   "mimetype": "text/x-python",
   "name": "python",
   "nbconvert_exporter": "python",
   "pygments_lexer": "ipython3",
   "version": "3.8.5-final"
  },
  "orig_nbformat": 2,
  "kernelspec": {
   "name": "python3",
   "display_name": "Python 3.8.5 64-bit ('base': conda)",
   "metadata": {
    "interpreter": {
     "hash": "7639befe37ee169122ceebbaa11f430804cfeb1c660814bb3288bff287f3d9f1"
    }
   }
  }
 },
 "nbformat": 4,
 "nbformat_minor": 2,
 "cells": [
  {
   "cell_type": "code",
   "execution_count": 1,
   "metadata": {},
   "outputs": [],
   "source": [
    "# PHYLOGENETICS\n",
    "# (Newick Format, Nexus, PhyloXML)"
   ]
  },
  {
   "cell_type": "code",
   "execution_count": 2,
   "metadata": {},
   "outputs": [],
   "source": [
    "# TERMS\n",
    "# (;) creates a root node on its left (can only be one root in a tree)\n",
    "# (,) creates a node to the right\n",
    "# (()) provide relationship\n",
    "# placing () in a node's location will create a child inside the parenthesis on the left-most inner edge\n",
    "# children <= node <= root\n",
    "# \"((grand_child,grand_child)Brother,Children)rootParent\"\n"
   ]
  },
  {
   "cell_type": "code",
   "execution_count": 3,
   "metadata": {},
   "outputs": [],
   "source": [
    "from skbio import TreeNode\n",
    "from io import StringIO"
   ]
  },
  {
   "cell_type": "code",
   "execution_count": 4,
   "metadata": {},
   "outputs": [],
   "source": [
    "# example 2\n",
    "# create a treenode\n",
    "noah_tree = TreeNode.read(StringIO('((Magog,Madia,Javan<gomer)Japheth,(Israel,Arphaxad)Shem,(Cush,Egypt,Phut,Canaan)Ham)root;'))"
   ]
  },
  {
   "cell_type": "code",
   "execution_count": 5,
   "metadata": {},
   "outputs": [
    {
     "output_type": "execute_result",
     "data": {
      "text/plain": [
       "True"
      ]
     },
     "metadata": {},
     "execution_count": 5
    }
   ],
   "source": [
    "# Check if this is a root\n",
    "noah_tree.is_root()"
   ]
  },
  {
   "cell_type": "code",
   "execution_count": 6,
   "metadata": {},
   "outputs": [
    {
     "output_type": "execute_result",
     "data": {
      "text/plain": [
       "False"
      ]
     },
     "metadata": {},
     "execution_count": 6
    }
   ],
   "source": [
    "# Check if this is a tip\n",
    "noah_tree.is_tip()"
   ]
  },
  {
   "cell_type": "code",
   "execution_count": 18,
   "metadata": {},
   "outputs": [
    {
     "output_type": "stream",
     "name": "stdout",
     "text": [
      "                    /-Magog\n                   |\n          /Japheth-|--Madia\n         |         |\n         |          \\-Javan<gomer\n         |\n         |          /-Israel\n-root----|-Shem----|\n         |          \\-Arphaxad\n         |\n         |          /-Cush\n         |         |\n         |         |--Egypt\n          \\Ham-----|\n                   |--Phut\n                   |\n                    \\-Canaan\n"
     ]
    }
   ],
   "source": [
    "# In dendogram\n",
    "print(noah_tree.ascii_art())"
   ]
  },
  {
   "cell_type": "code",
   "execution_count": 20,
   "metadata": {},
   "outputs": [
    {
     "output_type": "execute_result",
     "data": {
      "text/plain": [
       "['__abstractmethods__',\n",
       " '__class__',\n",
       " '__copy__',\n",
       " '__deepcopy__',\n",
       " '__delattr__',\n",
       " '__dict__',\n",
       " '__dir__',\n",
       " '__doc__',\n",
       " '__eq__',\n",
       " '__format__',\n",
       " '__ge__',\n",
       " '__getattribute__',\n",
       " '__getitem__',\n",
       " '__gt__',\n",
       " '__hash__',\n",
       " '__init__',\n",
       " '__init_subclass__',\n",
       " '__iter__',\n",
       " '__le__',\n",
       " '__len__',\n",
       " '__lt__',\n",
       " '__module__',\n",
       " '__ne__',\n",
       " '__new__',\n",
       " '__reduce__',\n",
       " '__reduce_ex__',\n",
       " '__repr__',\n",
       " '__setattr__',\n",
       " '__sizeof__',\n",
       " '__str__',\n",
       " '__subclasshook__',\n",
       " '__weakref__',\n",
       " '_abc_impl',\n",
       " '_adopt',\n",
       " '_ascii_art',\n",
       " '_balanced_distance_to_tip',\n",
       " '_exclude_from_copy',\n",
       " '_extract_support',\n",
       " '_get_max_distance_singledesc',\n",
       " '_node_label',\n",
       " '_non_tip_cache',\n",
       " '_registered_caches',\n",
       " '_remove_node',\n",
       " '_set_max_distance',\n",
       " '_tip_cache',\n",
       " 'accumulate_to_ancestor',\n",
       " 'ancestors',\n",
       " 'append',\n",
       " 'ascii_art',\n",
       " 'assign_ids',\n",
       " 'assign_supports',\n",
       " 'bifurcate',\n",
       " 'cache_attr',\n",
       " 'children',\n",
       " 'compare_rfd',\n",
       " 'compare_subsets',\n",
       " 'compare_tip_distances',\n",
       " 'copy',\n",
       " 'count',\n",
       " 'create_caches',\n",
       " 'deepcopy',\n",
       " 'default_write_format',\n",
       " 'descending_branch_length',\n",
       " 'distance',\n",
       " 'extend',\n",
       " 'find',\n",
       " 'find_all',\n",
       " 'find_by_func',\n",
       " 'find_by_id',\n",
       " 'from_linkage_matrix',\n",
       " 'from_taxonomy',\n",
       " 'get_max_distance',\n",
       " 'has_children',\n",
       " 'id',\n",
       " 'index_tree',\n",
       " 'invalidate_caches',\n",
       " 'is_root',\n",
       " 'is_tip',\n",
       " 'lca',\n",
       " 'length',\n",
       " 'levelorder',\n",
       " 'lowest_common_ancestor',\n",
       " 'name',\n",
       " 'neighbors',\n",
       " 'non_tips',\n",
       " 'observed_node_counts',\n",
       " 'parent',\n",
       " 'pop',\n",
       " 'postorder',\n",
       " 'pre_and_postorder',\n",
       " 'preorder',\n",
       " 'prune',\n",
       " 'read',\n",
       " 'remove',\n",
       " 'remove_deleted',\n",
       " 'root',\n",
       " 'root_at',\n",
       " 'root_at_midpoint',\n",
       " 'shear',\n",
       " 'shuffle',\n",
       " 'siblings',\n",
       " 'subset',\n",
       " 'subsets',\n",
       " 'subtree',\n",
       " 'support',\n",
       " 'tip_tip_distances',\n",
       " 'tips',\n",
       " 'to_array',\n",
       " 'to_taxonomy',\n",
       " 'traverse',\n",
       " 'unpack',\n",
       " 'unpack_by_func',\n",
       " 'unrooted_copy',\n",
       " 'unrooted_deepcopy',\n",
       " 'write']"
      ]
     },
     "metadata": {},
     "execution_count": 20
    }
   ],
   "source": [
    "# check for children\n",
    "dir(noah_tree)"
   ]
  },
  {
   "cell_type": "code",
   "execution_count": 22,
   "metadata": {},
   "outputs": [
    {
     "output_type": "execute_result",
     "data": {
      "text/plain": [
       "[<TreeNode, name: Japheth, internal node count: 0, tips count: 3>,\n",
       " <TreeNode, name: Shem, internal node count: 0, tips count: 2>,\n",
       " <TreeNode, name: Ham, internal node count: 0, tips count: 4>]"
      ]
     },
     "metadata": {},
     "execution_count": 22
    }
   ],
   "source": [
    "noah_tree.children"
   ]
  },
  {
   "cell_type": "code",
   "execution_count": 23,
   "metadata": {},
   "outputs": [
    {
     "output_type": "execute_result",
     "data": {
      "text/plain": [
       "13"
      ]
     },
     "metadata": {},
     "execution_count": 23
    }
   ],
   "source": [
    "noah_tree.count()"
   ]
  },
  {
   "cell_type": "code",
   "execution_count": 24,
   "metadata": {},
   "outputs": [
    {
     "output_type": "execute_result",
     "data": {
      "text/plain": [
       "<bound method TreeNode.lowest_common_ancestor of <TreeNode, name: root, internal node count: 3, tips count: 9>>"
      ]
     },
     "metadata": {},
     "execution_count": 24
    }
   ],
   "source": [
    "noah_tree.lowest_common_ancestor"
   ]
  },
  {
   "cell_type": "code",
   "execution_count": 27,
   "metadata": {},
   "outputs": [],
   "source": [
    "# Example 2\n",
    "adam_tree = TreeNode.read(StringIO(\"(((Medusa)Enoch,Jan)Cain,Seth,Abel)Adam;\"))"
   ]
  },
  {
   "cell_type": "code",
   "execution_count": 28,
   "metadata": {},
   "outputs": [
    {
     "output_type": "stream",
     "name": "stdout",
     "text": [
      "                    /Enoch--- /-Medusa\n          /Cain----|\n         |          \\-Jan\n-Adam----|\n         |--Seth\n         |\n          \\-Abel\n"
     ]
    }
   ],
   "source": [
    "print(adam_tree.ascii_art())"
   ]
  },
  {
   "cell_type": "code",
   "execution_count": null,
   "metadata": {},
   "outputs": [],
   "source": []
  }
 ]
}