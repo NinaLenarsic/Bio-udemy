{
 "metadata": {
  "language_info": {
   "codemirror_mode": {
    "name": "ipython",
    "version": 3
   },
   "file_extension": ".py",
   "mimetype": "text/x-python",
   "name": "python",
   "nbconvert_exporter": "python",
   "pygments_lexer": "ipython3",
   "version": "3.8.5-final"
  },
  "orig_nbformat": 2,
  "kernelspec": {
   "name": "python3",
   "display_name": "Python 3.8.5 64-bit ('base': conda)",
   "metadata": {
    "interpreter": {
     "hash": "7639befe37ee169122ceebbaa11f430804cfeb1c660814bb3288bff287f3d9f1"
    }
   }
  }
 },
 "nbformat": 4,
 "nbformat_minor": 2,
 "cells": [
  {
   "cell_type": "code",
   "execution_count": 3,
   "metadata": {},
   "outputs": [],
   "source": [
    "# PROTEIN SYNTHESIS\n",
    "import skbio\n",
    "from skbio import DNA,RNA,Protein,Sequence\n",
    "dna_seq = DNA('ATCGCGATCGGCAAATC')"
   ]
  },
  {
   "cell_type": "code",
   "execution_count": 4,
   "metadata": {},
   "outputs": [
    {
     "output_type": "execute_result",
     "data": {
      "text/plain": [
       "DNA\n",
       "--------------------------\n",
       "Stats:\n",
       "    length: 17\n",
       "    has gaps: False\n",
       "    has degenerates: False\n",
       "    has definites: True\n",
       "    GC-content: 52.94%\n",
       "--------------------------\n",
       "0 ATCGCGATCG GCAAATC"
      ]
     },
     "metadata": {},
     "execution_count": 4
    }
   ],
   "source": [
    "dna_seq"
   ]
  },
  {
   "cell_type": "code",
   "execution_count": 7,
   "metadata": {},
   "outputs": [
    {
     "output_type": "execute_result",
     "data": {
      "text/plain": [
       "RNA\n",
       "--------------------------\n",
       "Stats:\n",
       "    length: 17\n",
       "    has gaps: False\n",
       "    has degenerates: False\n",
       "    has definites: True\n",
       "    GC-content: 52.94%\n",
       "--------------------------\n",
       "0 AUCGCGAUCG GCAAAUC"
      ]
     },
     "metadata": {},
     "execution_count": 7
    }
   ],
   "source": [
    "# Transcription (dna to mrna)\n",
    "dna_seq.transcribe()\n"
   ]
  },
  {
   "cell_type": "code",
   "execution_count": 8,
   "metadata": {},
   "outputs": [],
   "source": [
    "mRNA = dna_seq.transcribe()"
   ]
  },
  {
   "cell_type": "code",
   "execution_count": 10,
   "metadata": {},
   "outputs": [
    {
     "output_type": "execute_result",
     "data": {
      "text/plain": [
       "Protein\n",
       "--------------------------\n",
       "Stats:\n",
       "    length: 5\n",
       "    has gaps: False\n",
       "    has degenerates: False\n",
       "    has definites: True\n",
       "    has stops: False\n",
       "--------------------------\n",
       "0 IAIGK"
      ]
     },
     "metadata": {},
     "execution_count": 10
    }
   ],
   "source": [
    "# Translation (mrna to aa)\n",
    "mRNA.translate()"
   ]
  },
  {
   "cell_type": "code",
   "execution_count": 11,
   "metadata": {},
   "outputs": [],
   "source": [
    "protein = mRNA.translate()"
   ]
  },
  {
   "cell_type": "code",
   "execution_count": 13,
   "metadata": {},
   "outputs": [
    {
     "output_type": "stream",
     "name": "stdout",
     "text": [
      "IAIGK\n"
     ]
    }
   ],
   "source": [
    "print(protein)"
   ]
  },
  {
   "cell_type": "code",
   "execution_count": 14,
   "metadata": {},
   "outputs": [],
   "source": [
    "## Create Protein seq from scratch (2nd method)\n",
    "from skbio import Protein"
   ]
  },
  {
   "cell_type": "code",
   "execution_count": 17,
   "metadata": {},
   "outputs": [],
   "source": [
    "protein_a = Protein('MITITV')"
   ]
  },
  {
   "cell_type": "code",
   "execution_count": 18,
   "metadata": {},
   "outputs": [
    {
     "output_type": "execute_result",
     "data": {
      "text/plain": [
       "Protein\n",
       "--------------------------\n",
       "Stats:\n",
       "    length: 6\n",
       "    has gaps: False\n",
       "    has degenerates: False\n",
       "    has definites: True\n",
       "    has stops: False\n",
       "--------------------------\n",
       "0 MITITV"
      ]
     },
     "metadata": {},
     "execution_count": 18
    }
   ],
   "source": [
    "protein_a"
   ]
  },
  {
   "cell_type": "code",
   "execution_count": 19,
   "metadata": {},
   "outputs": [
    {
     "output_type": "execute_result",
     "data": {
      "text/plain": [
       "['_GrammaredSequence__definite_char_codes',\n",
       " '_GrammaredSequence__degenerate_codes',\n",
       " '_GrammaredSequence__gap_codes',\n",
       " '_GrammaredSequence__validation_mask',\n",
       " '_Protein__stop_codes',\n",
       " '__abstractmethods__',\n",
       " '__array_interface__',\n",
       " '__bool__',\n",
       " '__class__',\n",
       " '__contains__',\n",
       " '__copy__',\n",
       " '__deepcopy__',\n",
       " '__delattr__',\n",
       " '__dict__',\n",
       " '__dir__',\n",
       " '__doc__',\n",
       " '__eq__',\n",
       " '__format__',\n",
       " '__ge__',\n",
       " '__getattribute__',\n",
       " '__getitem__',\n",
       " '__gt__',\n",
       " '__hash__',\n",
       " '__init__',\n",
       " '__init_subclass__',\n",
       " '__iter__',\n",
       " '__le__',\n",
       " '__len__',\n",
       " '__lt__',\n",
       " '__module__',\n",
       " '__ne__',\n",
       " '__new__',\n",
       " '__reduce__',\n",
       " '__reduce_ex__',\n",
       " '__repr__',\n",
       " '__reversed__',\n",
       " '__setattr__',\n",
       " '__sizeof__',\n",
       " '__slots__',\n",
       " '__str__',\n",
       " '__subclasshook__',\n",
       " '__weakref__',\n",
       " '_abc_impl',\n",
       " '_ascii_invert_case_bit_offset',\n",
       " '_ascii_lowercase_boundary',\n",
       " '_assert_can_cast_to',\n",
       " '_byte_ownership',\n",
       " '_chars_to_indices',\n",
       " '_constructor',\n",
       " '_convert_to_uppercase',\n",
       " '_copy',\n",
       " '_copy_',\n",
       " '_deepcopy_',\n",
       " '_definite_char_codes',\n",
       " '_degenerate_codes',\n",
       " '_eq_',\n",
       " '_gap_codes',\n",
       " '_get_positional_metadata_index',\n",
       " '_init_',\n",
       " '_interval_metadata_axis_len_',\n",
       " '_motifs',\n",
       " '_munge_to_bytestring',\n",
       " '_munge_to_index_array',\n",
       " '_munge_to_self_type',\n",
       " '_munge_to_sequence',\n",
       " '_ne_',\n",
       " '_number_of_extended_ascii_codes',\n",
       " '_positional_metadata_axis_len_',\n",
       " '_repr_stats',\n",
       " '_set_bytes',\n",
       " '_set_bytes_contiguous',\n",
       " '_slice_positional_metadata',\n",
       " '_stop_codes',\n",
       " '_string',\n",
       " '_validate',\n",
       " '_validation_mask',\n",
       " 'alphabet',\n",
       " 'concat',\n",
       " 'count',\n",
       " 'default_gap_char',\n",
       " 'default_write_format',\n",
       " 'definite_chars',\n",
       " 'definites',\n",
       " 'degap',\n",
       " 'degenerate_chars',\n",
       " 'degenerate_map',\n",
       " 'degenerates',\n",
       " 'distance',\n",
       " 'expand_degenerates',\n",
       " 'find_motifs',\n",
       " 'find_with_regex',\n",
       " 'frequencies',\n",
       " 'gap_chars',\n",
       " 'gaps',\n",
       " 'has_definites',\n",
       " 'has_degenerates',\n",
       " 'has_gaps',\n",
       " 'has_interval_metadata',\n",
       " 'has_metadata',\n",
       " 'has_nondegenerates',\n",
       " 'has_positional_metadata',\n",
       " 'has_stops',\n",
       " 'index',\n",
       " 'interval_metadata',\n",
       " 'iter_contiguous',\n",
       " 'iter_kmers',\n",
       " 'kmer_frequencies',\n",
       " 'lowercase',\n",
       " 'match_frequency',\n",
       " 'matches',\n",
       " 'metadata',\n",
       " 'mismatch_frequency',\n",
       " 'mismatches',\n",
       " 'nondegenerate_chars',\n",
       " 'nondegenerates',\n",
       " 'observed_chars',\n",
       " 'positional_metadata',\n",
       " 'read',\n",
       " 'replace',\n",
       " 'stop_chars',\n",
       " 'stops',\n",
       " 'to_regex',\n",
       " 'values',\n",
       " 'write']"
      ]
     },
     "metadata": {},
     "execution_count": 19
    }
   ],
   "source": [
    "dir(Protein)"
   ]
  },
  {
   "cell_type": "code",
   "execution_count": null,
   "metadata": {},
   "outputs": [],
   "source": []
  }
 ]
}