{
 "metadata": {
  "language_info": {
   "codemirror_mode": {
    "name": "ipython",
    "version": 3
   },
   "file_extension": ".py",
   "mimetype": "text/x-python",
   "name": "python",
   "nbconvert_exporter": "python",
   "pygments_lexer": "ipython3",
   "version": "3.8.5-final"
  },
  "orig_nbformat": 2,
  "kernelspec": {
   "name": "python3",
   "display_name": "Python 3.8.5 64-bit ('base': conda)",
   "metadata": {
    "interpreter": {
     "hash": "7639befe37ee169122ceebbaa11f430804cfeb1c660814bb3288bff287f3d9f1"
    }
   }
  }
 },
 "nbformat": 4,
 "nbformat_minor": 2,
 "cells": [
  {
   "cell_type": "code",
   "execution_count": null,
   "metadata": {},
   "outputs": [],
   "source": [
    "# SCIKIT-BIO\n",
    "# Features:\n",
    "# - handling sequences (skbio.io, skbio,sequence, skbio.alignment)\n",
    "# - Phylogenetics (skbio.tree)\n",
    "# - Wrokflow Construction (skbio.workflow)\n",
    "# - Stats and Calculations (sk.bio.stats, skbio.diversity)\n",
    "# - Metadata and Utility funstionality (skbio.metadata, skbio.util)"
   ]
  },
  {
   "cell_type": "code",
   "execution_count": 1,
   "metadata": {},
   "outputs": [],
   "source": [
    "import skbio"
   ]
  },
  {
   "cell_type": "code",
   "execution_count": 2,
   "metadata": {},
   "outputs": [
    {
     "output_type": "execute_result",
     "data": {
      "text/plain": [
       "['DNA',\n",
       " 'DistanceMatrix',\n",
       " 'GeneticCode',\n",
       " 'OrdinationResults',\n",
       " 'Protein',\n",
       " 'RNA',\n",
       " 'Sequence',\n",
       " 'TabularMSA',\n",
       " 'TreeNode',\n",
       " '__all__',\n",
       " '__builtins__',\n",
       " '__cached__',\n",
       " '__credits__',\n",
       " '__doc__',\n",
       " '__file__',\n",
       " '__loader__',\n",
       " '__name__',\n",
       " '__package__',\n",
       " '__path__',\n",
       " '__spec__',\n",
       " '__version__',\n",
       " '_base',\n",
       " 'alignment',\n",
       " 'art',\n",
       " 'diversity',\n",
       " 'io',\n",
       " 'local_pairwise_align_ssw',\n",
       " 'metadata',\n",
       " 'motto',\n",
       " 'mottos',\n",
       " 'nj',\n",
       " 'read',\n",
       " 'sequence',\n",
       " 'skbio',\n",
       " 'stats',\n",
       " 'title',\n",
       " 'tree',\n",
       " 'util',\n",
       " 'write']"
      ]
     },
     "metadata": {},
     "execution_count": 2
    }
   ],
   "source": [
    "# Methods and Attributes\n",
    "dir(skbio)"
   ]
  },
  {
   "cell_type": "code",
   "execution_count": 3,
   "metadata": {},
   "outputs": [],
   "source": [
    "# Working with sequence\n",
    "# SEQ ANALYSIS: A,T,C,G,U(RNA)"
   ]
  },
  {
   "cell_type": "code",
   "execution_count": 4,
   "metadata": {},
   "outputs": [],
   "source": [
    "# Create a sequence\n",
    "from skbio import DNA,RNA,Protein,Sequence"
   ]
  },
  {
   "cell_type": "code",
   "execution_count": 5,
   "metadata": {},
   "outputs": [],
   "source": [
    "# Create a generic sequence\n",
    "seq1 = Sequence('ATCGCGATCGGCAAATC')"
   ]
  },
  {
   "cell_type": "code",
   "execution_count": 6,
   "metadata": {},
   "outputs": [
    {
     "output_type": "execute_result",
     "data": {
      "text/plain": [
       "Sequence\n",
       "--------------------\n",
       "Stats:\n",
       "    length: 17\n",
       "--------------------\n",
       "0 ATCGCGATCG GCAAATC"
      ]
     },
     "metadata": {},
     "execution_count": 6
    }
   ],
   "source": [
    "seq1"
   ]
  },
  {
   "cell_type": "code",
   "execution_count": 9,
   "metadata": {},
   "outputs": [
    {
     "output_type": "stream",
     "name": "stdout",
     "text": [
      "ATCGCGATCGGCAAATC\n"
     ]
    }
   ],
   "source": [
    "# Viewing without data only the seq\n",
    "str(seq1) #or\n",
    "print(seq1)"
   ]
  },
  {
   "cell_type": "code",
   "execution_count": 10,
   "metadata": {},
   "outputs": [],
   "source": [
    "# Being more specific (not generic), create particular dna seq\n",
    "dna_seq = DNA('ATCGCGATCGGCAAATC')"
   ]
  },
  {
   "cell_type": "code",
   "execution_count": 11,
   "metadata": {},
   "outputs": [
    {
     "output_type": "execute_result",
     "data": {
      "text/plain": [
       "DNA\n",
       "--------------------------\n",
       "Stats:\n",
       "    length: 17\n",
       "    has gaps: False\n",
       "    has degenerates: False\n",
       "    has definites: True\n",
       "    GC-content: 52.94%\n",
       "--------------------------\n",
       "0 ATCGCGATCG GCAAATC"
      ]
     },
     "metadata": {},
     "execution_count": 11
    }
   ],
   "source": [
    "dna_seq"
   ]
  },
  {
   "cell_type": "code",
   "execution_count": 14,
   "metadata": {},
   "outputs": [],
   "source": [
    "# Add more Metadata\n",
    "d = DNA('ATCGCGATC', metadata={'id':'my-sequence', 'description':'GFP'}, \n",
    "positional_metadata={'quality':[22, 25, 22, 18, 23, 25, 25, 25, 21]})"
   ]
  },
  {
   "cell_type": "code",
   "execution_count": 15,
   "metadata": {},
   "outputs": [
    {
     "output_type": "execute_result",
     "data": {
      "text/plain": [
       "DNA\n",
       "-----------------------------\n",
       "Metadata:\n",
       "    'description': 'GFP'\n",
       "    'id': 'my-sequence'\n",
       "Positional metadata:\n",
       "    'quality': <dtype: int64>\n",
       "Stats:\n",
       "    length: 9\n",
       "    has gaps: False\n",
       "    has degenerates: False\n",
       "    has definites: True\n",
       "    GC-content: 55.56%\n",
       "-----------------------------\n",
       "0 ATCGCGATC"
      ]
     },
     "metadata": {},
     "execution_count": 15
    }
   ],
   "source": [
    "d"
   ]
  },
  {
   "cell_type": "code",
   "execution_count": 16,
   "metadata": {},
   "outputs": [
    {
     "output_type": "execute_result",
     "data": {
      "text/plain": [
       "{'-',\n",
       " '.',\n",
       " 'A',\n",
       " 'B',\n",
       " 'C',\n",
       " 'D',\n",
       " 'G',\n",
       " 'H',\n",
       " 'K',\n",
       " 'M',\n",
       " 'N',\n",
       " 'R',\n",
       " 'S',\n",
       " 'T',\n",
       " 'V',\n",
       " 'W',\n",
       " 'Y'}"
      ]
     },
     "metadata": {},
     "execution_count": 16
    }
   ],
   "source": [
    "# Check for the alphabet (convetrs it to amino acids)\n",
    "dna_seq.alphabet"
   ]
  },
  {
   "cell_type": "code",
   "execution_count": 18,
   "metadata": {},
   "outputs": [
    {
     "output_type": "execute_result",
     "data": {
      "text/plain": [
       "['_GrammaredSequence__definite_char_codes',\n",
       " '_GrammaredSequence__degenerate_codes',\n",
       " '_GrammaredSequence__gap_codes',\n",
       " '_GrammaredSequence__validation_mask',\n",
       " '_NucleotideMixin__complement_lookup',\n",
       " '_NucleotideMixin__gc_codes',\n",
       " '__abstractmethods__',\n",
       " '__array_interface__',\n",
       " '__bool__',\n",
       " '__class__',\n",
       " '__contains__',\n",
       " '__copy__',\n",
       " '__deepcopy__',\n",
       " '__delattr__',\n",
       " '__dict__',\n",
       " '__dir__',\n",
       " '__doc__',\n",
       " '__eq__',\n",
       " '__format__',\n",
       " '__ge__',\n",
       " '__getattribute__',\n",
       " '__getitem__',\n",
       " '__gt__',\n",
       " '__hash__',\n",
       " '__init__',\n",
       " '__init_subclass__',\n",
       " '__iter__',\n",
       " '__le__',\n",
       " '__len__',\n",
       " '__lt__',\n",
       " '__module__',\n",
       " '__ne__',\n",
       " '__new__',\n",
       " '__reduce__',\n",
       " '__reduce_ex__',\n",
       " '__repr__',\n",
       " '__reversed__',\n",
       " '__setattr__',\n",
       " '__sizeof__',\n",
       " '__slots__',\n",
       " '__str__',\n",
       " '__subclasshook__',\n",
       " '__weakref__',\n",
       " '_abc_impl',\n",
       " '_ascii_invert_case_bit_offset',\n",
       " '_ascii_lowercase_boundary',\n",
       " '_assert_can_cast_to',\n",
       " '_byte_ownership',\n",
       " '_bytes',\n",
       " '_chars_to_indices',\n",
       " '_complement_lookup',\n",
       " '_constructor',\n",
       " '_convert_to_uppercase',\n",
       " '_copy',\n",
       " '_copy_',\n",
       " '_deepcopy_',\n",
       " '_definite_char_codes',\n",
       " '_degenerate_codes',\n",
       " '_eq_',\n",
       " '_gap_codes',\n",
       " '_gc_codes',\n",
       " '_get_positional_metadata_index',\n",
       " '_init_',\n",
       " '_interval_metadata',\n",
       " '_interval_metadata_axis_len_',\n",
       " '_metadata',\n",
       " '_motifs',\n",
       " '_munge_to_bytestring',\n",
       " '_munge_to_index_array',\n",
       " '_munge_to_self_type',\n",
       " '_munge_to_sequence',\n",
       " '_ne_',\n",
       " '_number_of_extended_ascii_codes',\n",
       " '_owns_bytes',\n",
       " '_positional_metadata',\n",
       " '_positional_metadata_axis_len_',\n",
       " '_repr_stats',\n",
       " '_set_bytes',\n",
       " '_set_bytes_contiguous',\n",
       " '_slice_positional_metadata',\n",
       " '_string',\n",
       " '_validate',\n",
       " '_validation_mask',\n",
       " 'alphabet',\n",
       " 'complement',\n",
       " 'complement_map',\n",
       " 'concat',\n",
       " 'count',\n",
       " 'default_gap_char',\n",
       " 'default_write_format',\n",
       " 'definite_chars',\n",
       " 'definites',\n",
       " 'degap',\n",
       " 'degenerate_chars',\n",
       " 'degenerate_map',\n",
       " 'degenerates',\n",
       " 'distance',\n",
       " 'expand_degenerates',\n",
       " 'find_motifs',\n",
       " 'find_with_regex',\n",
       " 'frequencies',\n",
       " 'gap_chars',\n",
       " 'gaps',\n",
       " 'gc_content',\n",
       " 'gc_frequency',\n",
       " 'has_definites',\n",
       " 'has_degenerates',\n",
       " 'has_gaps',\n",
       " 'has_interval_metadata',\n",
       " 'has_metadata',\n",
       " 'has_nondegenerates',\n",
       " 'has_positional_metadata',\n",
       " 'index',\n",
       " 'interval_metadata',\n",
       " 'is_reverse_complement',\n",
       " 'iter_contiguous',\n",
       " 'iter_kmers',\n",
       " 'kmer_frequencies',\n",
       " 'lowercase',\n",
       " 'match_frequency',\n",
       " 'matches',\n",
       " 'metadata',\n",
       " 'mismatch_frequency',\n",
       " 'mismatches',\n",
       " 'nondegenerate_chars',\n",
       " 'nondegenerates',\n",
       " 'observed_chars',\n",
       " 'positional_metadata',\n",
       " 'read',\n",
       " 'replace',\n",
       " 'reverse_complement',\n",
       " 'to_regex',\n",
       " 'transcribe',\n",
       " 'translate',\n",
       " 'translate_six_frames',\n",
       " 'values',\n",
       " 'write']"
      ]
     },
     "metadata": {},
     "execution_count": 18
    }
   ],
   "source": [
    "# SEQUENCE MANIPULATION\n",
    "# methods and attributes\n",
    "dir(dna_seq)"
   ]
  },
  {
   "cell_type": "code",
   "execution_count": 22,
   "metadata": {},
   "outputs": [
    {
     "output_type": "stream",
     "name": "stdout",
     "text": [
      "ATCGCGATCGGCAAATC\n"
     ]
    }
   ],
   "source": [
    "# To get data w/o stats and metadata using str/print\n",
    "str(dna_seq) #or\n",
    "print(dna_seq)"
   ]
  },
  {
   "cell_type": "code",
   "execution_count": 23,
   "metadata": {},
   "outputs": [
    {
     "output_type": "execute_result",
     "data": {
      "text/plain": [
       "array([b'A', b'T', b'C', b'G', b'C', b'G', b'A', b'T', b'C', b'G', b'G',\n",
       "       b'C', b'A', b'A', b'A', b'T', b'C'], dtype='|S1')"
      ]
     },
     "metadata": {},
     "execution_count": 23
    }
   ],
   "source": [
    "# Convert to numpy array of nucleotides (generates values)\n",
    "dna_seq.values"
   ]
  },
  {
   "cell_type": "code",
   "execution_count": 25,
   "metadata": {},
   "outputs": [
    {
     "output_type": "execute_result",
     "data": {
      "text/plain": [
       "DNA\n",
       "--------------------------\n",
       "Stats:\n",
       "    length: 17\n",
       "    has gaps: False\n",
       "    has degenerates: False\n",
       "    has definites: True\n",
       "    GC-content: 52.94%\n",
       "--------------------------\n",
       "0 TAGCGCTAGC CGTTTAG"
      ]
     },
     "metadata": {},
     "execution_count": 25
    }
   ],
   "source": [
    "# Get complement\n",
    "dna_seq.complement()"
   ]
  },
  {
   "cell_type": "code",
   "execution_count": 26,
   "metadata": {},
   "outputs": [
    {
     "output_type": "execute_result",
     "data": {
      "text/plain": [
       "DNA\n",
       "--------------------------\n",
       "Stats:\n",
       "    length: 17\n",
       "    has gaps: False\n",
       "    has degenerates: False\n",
       "    has definites: True\n",
       "    GC-content: 52.94%\n",
       "--------------------------\n",
       "0 ATCGCGATCG GCAAATC"
      ]
     },
     "metadata": {},
     "execution_count": 26
    }
   ],
   "source": [
    "dna_seq"
   ]
  },
  {
   "cell_type": "code",
   "execution_count": 31,
   "metadata": {},
   "outputs": [
    {
     "output_type": "execute_result",
     "data": {
      "text/plain": [
       "'GATTTGCCGATCGCGAT'"
      ]
     },
     "metadata": {},
     "execution_count": 31
    }
   ],
   "source": [
    "# Get reverse complement\n",
    "dna_seq.reverse_complement()\n",
    "# or\n",
    "str(dna_seq.complement())[::-1]"
   ]
  },
  {
   "cell_type": "code",
   "execution_count": 30,
   "metadata": {},
   "outputs": [
    {
     "output_type": "execute_result",
     "data": {
      "text/plain": [
       "DNA\n",
       "--------------------------\n",
       "Stats:\n",
       "    length: 17\n",
       "    has gaps: False\n",
       "    has degenerates: False\n",
       "    has definites: True\n",
       "    GC-content: 52.94%\n",
       "--------------------------\n",
       "0 TAGCGCTAGC CGTTTAG"
      ]
     },
     "metadata": {},
     "execution_count": 30
    }
   ],
   "source": [
    "dna_seq.complement()"
   ]
  },
  {
   "cell_type": "code",
   "execution_count": 32,
   "metadata": {},
   "outputs": [
    {
     "output_type": "execute_result",
     "data": {
      "text/plain": [
       "True"
      ]
     },
     "metadata": {},
     "execution_count": 32
    }
   ],
   "source": [
    "# Check if it is the reverse complement\n",
    "dna_seq.reverse_complement().is_reverse_complement(dna_seq)"
   ]
  },
  {
   "cell_type": "code",
   "execution_count": 33,
   "metadata": {},
   "outputs": [
    {
     "output_type": "execute_result",
     "data": {
      "text/plain": [
       "4"
      ]
     },
     "metadata": {},
     "execution_count": 33
    }
   ],
   "source": [
    "# Find the counts of nucleotide\n",
    "dna_seq.count('G')"
   ]
  },
  {
   "cell_type": "code",
   "execution_count": 34,
   "metadata": {},
   "outputs": [
    {
     "output_type": "execute_result",
     "data": {
      "text/plain": [
       "3"
      ]
     },
     "metadata": {},
     "execution_count": 34
    }
   ],
   "source": [
    "# Find the position of nucleotide\n",
    "dna_seq.index('G')"
   ]
  },
  {
   "cell_type": "code",
   "execution_count": 35,
   "metadata": {},
   "outputs": [
    {
     "output_type": "execute_result",
     "data": {
      "text/plain": [
       "1"
      ]
     },
     "metadata": {},
     "execution_count": 35
    }
   ],
   "source": [
    "dna_seq.index('T')"
   ]
  },
  {
   "cell_type": "code",
   "execution_count": 36,
   "metadata": {},
   "outputs": [
    {
     "output_type": "execute_result",
     "data": {
      "text/plain": [
       "17"
      ]
     },
     "metadata": {},
     "execution_count": 36
    }
   ],
   "source": [
    "# Lenght of seq\n",
    "len(dna_seq)"
   ]
  },
  {
   "cell_type": "code",
   "execution_count": 37,
   "metadata": {},
   "outputs": [
    {
     "output_type": "execute_result",
     "data": {
      "text/plain": [
       "DNA\n",
       "--------------------------\n",
       "Stats:\n",
       "    length: 3\n",
       "    has gaps: False\n",
       "    has degenerates: False\n",
       "    has definites: True\n",
       "    GC-content: 33.33%\n",
       "--------------------------\n",
       "0 ATC"
      ]
     },
     "metadata": {},
     "execution_count": 37
    }
   ],
   "source": [
    "# Slice a seq\n",
    "dna_seq[0:3]"
   ]
  },
  {
   "cell_type": "code",
   "execution_count": 38,
   "metadata": {},
   "outputs": [
    {
     "output_type": "stream",
     "name": "stdout",
     "text": [
      "ATCGCGATCGGCAAATC\n"
     ]
    }
   ],
   "source": [
    "print(dna_seq)"
   ]
  },
  {
   "cell_type": "code",
   "execution_count": 47,
   "metadata": {},
   "outputs": [
    {
     "output_type": "stream",
     "name": "stdout",
     "text": [
      "slice(1, 4, None)\nTCG\nslice(7, 11, None)\nTCGG\n"
     ]
    }
   ],
   "source": [
    "# Search for arbitrary patterns using regular expressions\n",
    "for match in dna_seq.find_with_regex('(TCG+)'):\n",
    "    print(match)\n",
    "    print(str(dna_seq[match]))"
   ]
  },
  {
   "cell_type": "code",
   "execution_count": 48,
   "metadata": {},
   "outputs": [],
   "source": [
    "# FIND MOTIFS\n",
    "# = a nucleotide or aa seq pattern that is widespread and has or is conectured to have a biological significance. For proteins, a seq motif is distinguished from a structural motif.\n",
    "# formed by the 3D arrangement of aa which may or may not be adjacent\n",
    "# seq motifs are conserved seq of similar or identical patterns that may occur with nucleic acids (DNA,RNA) or proteins\n",
    "# - within differenc molecules produced by the same organism or\n",
    "# - within molecules from multiple species or organisms"
   ]
  },
  {
   "cell_type": "code",
   "execution_count": 50,
   "metadata": {},
   "outputs": [
    {
     "output_type": "stream",
     "name": "stdout",
     "text": [
      "slice(5, 7, None)\nGA\nslice(9, 11, None)\nGG\nslice(12, 15, None)\nAAA\n"
     ]
    }
   ],
   "source": [
    "# Find motif\n",
    "for motif_slice in dna_seq.find_motifs('purine-run', min_length=2):\n",
    "    print(motif_slice)\n",
    "    print(str(dna_seq[motif_slice]))"
   ]
  },
  {
   "cell_type": "code",
   "execution_count": null,
   "metadata": {},
   "outputs": [],
   "source": []
  }
 ]
}