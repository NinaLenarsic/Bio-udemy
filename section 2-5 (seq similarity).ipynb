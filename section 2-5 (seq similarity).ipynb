{
 "metadata": {
  "language_info": {
   "codemirror_mode": {
    "name": "ipython",
    "version": 3
   },
   "file_extension": ".py",
   "mimetype": "text/x-python",
   "name": "python",
   "nbconvert_exporter": "python",
   "pygments_lexer": "ipython3",
   "version": "3.8.5-final"
  },
  "orig_nbformat": 2,
  "kernelspec": {
   "name": "python3",
   "display_name": "Python 3.8.5 64-bit ('base': conda)",
   "metadata": {
    "interpreter": {
     "hash": "7639befe37ee169122ceebbaa11f430804cfeb1c660814bb3288bff287f3d9f1"
    }
   }
  }
 },
 "nbformat": 4,
 "nbformat_minor": 2,
 "cells": [
  {
   "source": [
    "# Checking for similarity between sequences\n",
    "\n",
    "# sequence alignment: \n",
    "# - dynamic programming (global/local)\n",
    "# - dotplot\n",
    "\n",
    "# similarity: resemblance between two sequences in comparison\n",
    "# - minimal number of edit operations (inserts, deleter, substitutions) in order to transform one sequence into an exact copy of other sequence beign alignes\n",
    "# - distance\n",
    "\n",
    "# identity: the number of character that match EXACTLY between two different sequences\n",
    "# - gaps not counted\n",
    "# - measurment is rational to the shorter of the two sequences\n",
    "# - has the effect that sequence identity is not transitive i.e. if sequence A = B and B = C then A is not necessarily equal to C (in terms of the idnetity distance measure)\n",
    "\n",
    "#A: AAGGCTT\n",
    "#B: AAGGC\n",
    "#C: AAGGCAT\n"
   ],
   "cell_type": "code",
   "metadata": {},
   "execution_count": 2,
   "outputs": []
  },
  {
   "cell_type": "code",
   "execution_count": 3,
   "metadata": {},
   "outputs": [],
   "source": [
    "from Bio.Seq import Seq"
   ]
  },
  {
   "cell_type": "code",
   "execution_count": 4,
   "metadata": {},
   "outputs": [],
   "source": [
    "seqA = Seq('AAGGCTT')\n",
    "seqB = Seq('AAGGC')\n",
    "seqC = Seq('AAGGCAT')"
   ]
  },
  {
   "cell_type": "code",
   "execution_count": 5,
   "metadata": {},
   "outputs": [],
   "source": [
    "from Bio import pairwise2"
   ]
  },
  {
   "cell_type": "code",
   "execution_count": 7,
   "metadata": {},
   "outputs": [],
   "source": [
    "AvB = pairwise2.align.localxx(seqA,seqB,one_alignment_only=True,score_only=True)"
   ]
  },
  {
   "cell_type": "code",
   "execution_count": 8,
   "metadata": {},
   "outputs": [],
   "source": [
    "BvC = pairwise2.align.localxx(seqB,seqC,one_alignment_only=True,score_only=True)"
   ]
  },
  {
   "cell_type": "code",
   "execution_count": 9,
   "metadata": {},
   "outputs": [],
   "source": [
    "AvC = pairwise2.align.localxx(seqA,seqC,one_alignment_only=True,score_only=True)"
   ]
  },
  {
   "cell_type": "code",
   "execution_count": 11,
   "metadata": {},
   "outputs": [
    {
     "output_type": "stream",
     "name": "stdout",
     "text": [
      "AvB 100.0\n"
     ]
    }
   ],
   "source": [
    "print('AvB',AvB/len(seqB) * 100)"
   ]
  },
  {
   "cell_type": "code",
   "execution_count": 13,
   "metadata": {},
   "outputs": [],
   "source": [
    "#seqA and seqB are 100% identical"
   ]
  },
  {
   "cell_type": "code",
   "execution_count": 14,
   "metadata": {},
   "outputs": [
    {
     "output_type": "stream",
     "name": "stdout",
     "text": [
      "BvC 100.0\n"
     ]
    }
   ],
   "source": [
    "print('BvC',BvC/len(seqB) * 100)"
   ]
  },
  {
   "cell_type": "code",
   "execution_count": 18,
   "metadata": {},
   "outputs": [
    {
     "output_type": "stream",
     "name": "stdout",
     "text": [
      "BvC 71.42857142857143\n"
     ]
    }
   ],
   "source": [
    "print('BvC',AvB/len(seqC) * 100)"
   ]
  },
  {
   "cell_type": "code",
   "execution_count": 17,
   "metadata": {},
   "outputs": [
    {
     "output_type": "stream",
     "name": "stdout",
     "text": [
      "AvC 85.71428571428571\n"
     ]
    }
   ],
   "source": [
    "print('AvC',AvC/len(seqC) * 100)"
   ]
  },
  {
   "cell_type": "code",
   "execution_count": 20,
   "metadata": {},
   "outputs": [
    {
     "output_type": "execute_result",
     "data": {
      "text/plain": [
       "False"
      ]
     },
     "metadata": {},
     "execution_count": 20
    }
   ],
   "source": [
    "# Check if same\n",
    "seqA == seqB"
   ]
  }
 ]
}