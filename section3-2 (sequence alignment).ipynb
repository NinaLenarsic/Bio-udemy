{
 "metadata": {
  "language_info": {
   "codemirror_mode": {
    "name": "ipython",
    "version": 3
   },
   "file_extension": ".py",
   "mimetype": "text/x-python",
   "name": "python",
   "nbconvert_exporter": "python",
   "pygments_lexer": "ipython3",
   "version": "3.8.5-final"
  },
  "orig_nbformat": 2,
  "kernelspec": {
   "name": "python3",
   "display_name": "Python 3.8.5 64-bit ('base': conda)",
   "metadata": {
    "interpreter": {
     "hash": "7639befe37ee169122ceebbaa11f430804cfeb1c660814bb3288bff287f3d9f1"
    }
   }
  }
 },
 "nbformat": 4,
 "nbformat_minor": 2,
 "cells": [
  {
   "cell_type": "code",
   "execution_count": 2,
   "metadata": {},
   "outputs": [],
   "source": [
    "# Sequence alignment\n",
    "# it is a way of arranging the sequences of DNA, RNA or protein to identify regions of similarity that may be a consequence of functional, structural or evolutionary relationships betweeen the sequences\n",
    "# TERMS\n",
    "# A-A match\n",
    "# C-T mismatch\n",
    "# G-  gap\n",
    "# similarity\n",
    "# identity\n",
    "# homology (more than 50% similarity)"
   ]
  },
  {
   "cell_type": "code",
   "execution_count": 3,
   "metadata": {},
   "outputs": [],
   "source": [
    "# GLOBAL ALIGNMENT (gives indication of gaps)\n",
    "# - optimization that 'forces' the alignment to span the entire lenght of all query sequences\n",
    "\n",
    "# LOCAL ALIGNMENTS\n",
    "# - identify regions of similarity within long sequences that are often widely divergent overall\n",
    "# - often preferable, but can be more difficult to calculate because of the additional challange of identifying the regions of similarity"
   ]
  },
  {
   "cell_type": "code",
   "execution_count": null,
   "metadata": {},
   "outputs": [],
   "source": [
    "# BIOTITE: ALIGN\n",
    "# the function align_optional()\n",
    "# - it performs an optional global alignemnt, using the Needleman-Wunsch algorithm\n",
    "# - it performas an optional local alignment, using the Smith-Waterman algorithm\n",
    "\n",
    "# Substitution Matrix:(like dotplot, takes two sequences and maps them together)\n",
    "# - it maps a similarity score to two symbols, one from the first sequence the other fro the second sequence\n",
    "# - a SubstitutionMatrix object contains two alphabets with lenght n or m,  and an (n,m)-shaped ndarray storing the similarity scores\n",
    "\n"
   ]
  },
  {
   "cell_type": "code",
   "execution_count": 21,
   "metadata": {},
   "outputs": [],
   "source": [
    "# MLoad our pkg\n",
    "import biotite\n",
    "import biotite.sequence as seq\n",
    "import biotite.sequence.align as align"
   ]
  },
  {
   "cell_type": "code",
   "execution_count": 22,
   "metadata": {},
   "outputs": [
    {
     "output_type": "execute_result",
     "data": {
      "text/plain": [
       "['Alignment',\n",
       " 'SubstitutionMatrix',\n",
       " '__author__',\n",
       " '__builtins__',\n",
       " '__cached__',\n",
       " '__doc__',\n",
       " '__file__',\n",
       " '__loader__',\n",
       " '__name__',\n",
       " '__package__',\n",
       " '__path__',\n",
       " '__spec__',\n",
       " 'align_multiple',\n",
       " 'align_optimal',\n",
       " 'align_ungapped',\n",
       " 'alignment',\n",
       " 'get_codes',\n",
       " 'get_pairwise_sequence_identity',\n",
       " 'get_sequence_identity',\n",
       " 'get_symbols',\n",
       " 'matrix',\n",
       " 'multiple',\n",
       " 'pairwise',\n",
       " 'score']"
      ]
     },
     "metadata": {},
     "execution_count": 22
    }
   ],
   "source": [
    "# Methods\n",
    "dir(align)"
   ]
  },
  {
   "cell_type": "code",
   "execution_count": 23,
   "metadata": {},
   "outputs": [],
   "source": [
    "# Create Sub Matrix\n",
    "# Standard Matrix\n",
    "n_matrix = align.SubstitutionMatrix.std_nucleotide_matrix()"
   ]
  },
  {
   "cell_type": "code",
   "execution_count": 24,
   "metadata": {},
   "outputs": [
    {
     "output_type": "stream",
     "name": "stdout",
     "text": [
      "    A   C   G   T   R   Y   W   S   M   K   H   B   V   D   N\nA   5  -4  -4  -4   1  -4   1  -4   1  -4  -1  -4  -1  -1  -2\nC  -4   5  -4  -4  -4   1  -4   1   1  -4  -1  -1  -1  -4  -2\nG  -4  -4   5  -4   1  -4  -4   1  -4   1  -4  -1  -1  -1  -2\nT  -4  -4  -4   5  -4   1   1  -4  -4   1  -1  -1  -4  -1  -2\nR   1  -4   1  -4  -1  -4  -2  -2  -2  -2  -3  -3  -1  -1  -1\nY  -4   1  -4   1  -4  -1  -2  -2  -2  -2  -1  -1  -3  -3  -1\nW   1  -4  -4   1  -2  -2  -1  -4  -2  -2  -1  -3  -3  -1  -1\nS  -4   1   1  -4  -2  -2  -4  -1  -2  -2  -3  -1  -1  -3  -1\nM   1   1  -4  -4  -2  -2  -2  -2  -1  -4  -1  -3  -1  -3  -1\nK  -4  -4   1   1  -2  -2  -2  -2  -4  -1  -3  -1  -3  -1  -1\nH  -1  -1  -4  -1  -3  -1  -1  -3  -1  -3  -1  -2  -2  -2  -1\nB  -4  -1  -1  -1  -3  -1  -3  -1  -3  -1  -2  -1  -2  -2  -1\nV  -1  -1  -1  -4  -1  -3  -3  -1  -1  -3  -2  -2  -1  -2  -1\nD  -1  -4  -1  -1  -1  -3  -1  -3  -3  -1  -2  -2  -2  -1  -1\nN  -2  -2  -2  -2  -1  -1  -1  -1  -1  -1  -1  -1  -1  -1  -1\n"
     ]
    }
   ],
   "source": [
    "print(n_matrix)"
   ]
  },
  {
   "cell_type": "code",
   "execution_count": 25,
   "metadata": {},
   "outputs": [],
   "source": [
    "p_matrix = align.SubstitutionMatrix.std_protein_matrix()"
   ]
  },
  {
   "cell_type": "code",
   "execution_count": 26,
   "metadata": {},
   "outputs": [
    {
     "output_type": "stream",
     "name": "stdout",
     "text": [
      "    A   C   D   E   F   G   H   I   K   L   M   N   P   Q   R   S   T   V   W   Y   B   Z   X   *\nA   4   0  -2  -1  -2   0  -2  -1  -1  -1  -1  -2  -1  -1  -1   1   0   0  -3  -2  -2  -1   0  -4\nC   0   9  -3  -4  -2  -3  -3  -1  -3  -1  -1  -3  -3  -3  -3  -1  -1  -1  -2  -2  -3  -3  -2  -4\nD  -2  -3   6   2  -3  -1  -1  -3  -1  -4  -3   1  -1   0  -2   0  -1  -3  -4  -3   4   1  -1  -4\nE  -1  -4   2   5  -3  -2   0  -3   1  -3  -2   0  -1   2   0   0  -1  -2  -3  -2   1   4  -1  -4\nF  -2  -2  -3  -3   6  -3  -1   0  -3   0   0  -3  -4  -3  -3  -2  -2  -1   1   3  -3  -3  -1  -4\nG   0  -3  -1  -2  -3   6  -2  -4  -2  -4  -3   0  -2  -2  -2   0  -2  -3  -2  -3  -1  -2  -1  -4\nH  -2  -3  -1   0  -1  -2   8  -3  -1  -3  -2   1  -2   0   0  -1  -2  -3  -2   2   0   0  -1  -4\nI  -1  -1  -3  -3   0  -4  -3   4  -3   2   1  -3  -3  -3  -3  -2  -1   3  -3  -1  -3  -3  -1  -4\nK  -1  -3  -1   1  -3  -2  -1  -3   5  -2  -1   0  -1   1   2   0  -1  -2  -3  -2   0   1  -1  -4\nL  -1  -1  -4  -3   0  -4  -3   2  -2   4   2  -3  -3  -2  -2  -2  -1   1  -2  -1  -4  -3  -1  -4\nM  -1  -1  -3  -2   0  -3  -2   1  -1   2   5  -2  -2   0  -1  -1  -1   1  -1  -1  -3  -1  -1  -4\nN  -2  -3   1   0  -3   0   1  -3   0  -3  -2   6  -2   0   0   1   0  -3  -4  -2   3   0  -1  -4\nP  -1  -3  -1  -1  -4  -2  -2  -3  -1  -3  -2  -2   7  -1  -2  -1  -1  -2  -4  -3  -2  -1  -2  -4\nQ  -1  -3   0   2  -3  -2   0  -3   1  -2   0   0  -1   5   1   0  -1  -2  -2  -1   0   3  -1  -4\nR  -1  -3  -2   0  -3  -2   0  -3   2  -2  -1   0  -2   1   5  -1  -1  -3  -3  -2  -1   0  -1  -4\nS   1  -1   0   0  -2   0  -1  -2   0  -2  -1   1  -1   0  -1   4   1  -2  -3  -2   0   0   0  -4\nT   0  -1  -1  -1  -2  -2  -2  -1  -1  -1  -1   0  -1  -1  -1   1   5   0  -2  -2  -1  -1   0  -4\nV   0  -1  -3  -2  -1  -3  -3   3  -2   1   1  -3  -2  -2  -3  -2   0   4  -3  -1  -3  -2  -1  -4\nW  -3  -2  -4  -3   1  -2  -2  -3  -3  -2  -1  -4  -4  -2  -3  -3  -2  -3  11   2  -4  -3  -2  -4\nY  -2  -2  -3  -2   3  -3   2  -1  -2  -1  -1  -2  -3  -1  -2  -2  -2  -1   2   7  -3  -2  -1  -4\nB  -2  -3   4   1  -3  -1   0  -3   0  -4  -3   3  -2   0  -1   0  -1  -3  -4  -3   4   1  -1  -4\nZ  -1  -3   1   4  -3  -2   0  -3   1  -3  -1   0  -1   3   0   0  -1  -2  -3  -2   1   4  -1  -4\nX   0  -2  -1  -1  -1  -1  -1  -1  -1  -1  -1  -1  -2  -1  -1   0   0  -1  -2  -1  -1  -1  -1  -4\n*  -4  -4  -4  -4  -4  -4  -4  -4  -4  -4  -4  -4  -4  -4  -4  -4  -4  -4  -4  -4  -4  -4  -4   1\n"
     ]
    }
   ],
   "source": [
    "print(p_matrix)"
   ]
  },
  {
   "cell_type": "code",
   "execution_count": 28,
   "metadata": {},
   "outputs": [],
   "source": [
    "# Load SubMatrix from internal data base\n",
    "\n",
    "alph = seq.ProteinSequence.alphabet\n",
    "matrix_bl50 = align.SubstitutionMatrix(alph,alph,'BLOSUM50')"
   ]
  },
  {
   "cell_type": "code",
   "execution_count": 29,
   "metadata": {},
   "outputs": [
    {
     "output_type": "stream",
     "name": "stdout",
     "text": [
      "    A   C   D   E   F   G   H   I   K   L   M   N   P   Q   R   S   T   V   W   Y   B   Z   X   *\nA   5  -1  -2  -1  -3   0  -2  -1  -1  -2  -1  -1  -1  -1  -2   1   0   0  -3  -2  -2  -1  -1  -5\nC  -1  13  -4  -3  -2  -3  -3  -2  -3  -2  -2  -2  -4  -3  -4  -1  -1  -1  -5  -3  -3  -3  -2  -5\nD  -2  -4   8   2  -5  -1  -1  -4  -1  -4  -4   2  -1   0  -2   0  -1  -4  -5  -3   5   1  -1  -5\nE  -1  -3   2   6  -3  -3   0  -4   1  -3  -2   0  -1   2   0  -1  -1  -3  -3  -2   1   5  -1  -5\nF  -3  -2  -5  -3   8  -4  -1   0  -4   1   0  -4  -4  -4  -3  -3  -2  -1   1   4  -4  -4  -2  -5\nG   0  -3  -1  -3  -4   8  -2  -4  -2  -4  -3   0  -2  -2  -3   0  -2  -4  -3  -3  -1  -2  -2  -5\nH  -2  -3  -1   0  -1  -2  10  -4   0  -3  -1   1  -2   1   0  -1  -2  -4  -3   2   0   0  -1  -5\nI  -1  -2  -4  -4   0  -4  -4   5  -3   2   2  -3  -3  -3  -4  -3  -1   4  -3  -1  -4  -3  -1  -5\nK  -1  -3  -1   1  -4  -2   0  -3   6  -3  -2   0  -1   2   3   0  -1  -3  -3  -2   0   1  -1  -5\nL  -2  -2  -4  -3   1  -4  -3   2  -3   5   3  -4  -4  -2  -3  -3  -1   1  -2  -1  -4  -3  -1  -5\nM  -1  -2  -4  -2   0  -3  -1   2  -2   3   7  -2  -3   0  -2  -2  -1   1  -1   0  -3  -1  -1  -5\nN  -1  -2   2   0  -4   0   1  -3   0  -4  -2   7  -2   0  -1   1   0  -3  -4  -2   4   0  -1  -5\nP  -1  -4  -1  -1  -4  -2  -2  -3  -1  -4  -3  -2  10  -1  -3  -1  -1  -3  -4  -3  -2  -1  -2  -5\nQ  -1  -3   0   2  -4  -2   1  -3   2  -2   0   0  -1   7   1   0  -1  -3  -1  -1   0   4  -1  -5\nR  -2  -4  -2   0  -3  -3   0  -4   3  -3  -2  -1  -3   1   7  -1  -1  -3  -3  -1  -1   0  -1  -5\nS   1  -1   0  -1  -3   0  -1  -3   0  -3  -2   1  -1   0  -1   5   2  -2  -4  -2   0   0  -1  -5\nT   0  -1  -1  -1  -2  -2  -2  -1  -1  -1  -1   0  -1  -1  -1   2   5   0  -3  -2   0  -1   0  -5\nV   0  -1  -4  -3  -1  -4  -4   4  -3   1   1  -3  -3  -3  -3  -2   0   5  -3  -1  -4  -3  -1  -5\nW  -3  -5  -5  -3   1  -3  -3  -3  -3  -2  -1  -4  -4  -1  -3  -4  -3  -3  15   2  -5  -2  -3  -5\nY  -2  -3  -3  -2   4  -3   2  -1  -2  -1   0  -2  -3  -1  -1  -2  -2  -1   2   8  -3  -2  -1  -5\nB  -2  -3   5   1  -4  -1   0  -4   0  -4  -3   4  -2   0  -1   0   0  -4  -5  -3   5   2  -1  -5\nZ  -1  -3   1   5  -4  -2   0  -3   1  -3  -1   0  -1   4   0   0  -1  -3  -2  -2   2   5  -1  -5\nX  -1  -2  -1  -1  -2  -2  -1  -1  -1  -1  -1  -1  -2  -1  -1  -1   0  -1  -3  -1  -1  -1  -1  -5\n*  -5  -5  -5  -5  -5  -5  -5  -5  -5  -5  -5  -5  -5  -5  -5  -5  -5  -5  -5  -5  -5  -5  -5   1\n"
     ]
    }
   ],
   "source": [
    "print(matrix_bl50)"
   ]
  },
  {
   "cell_type": "code",
   "execution_count": 30,
   "metadata": {},
   "outputs": [],
   "source": [
    "# protein seq alignment\n",
    "pseq1 = seq.ProteinSequence('MITTITE')\n",
    "pseq2 = seq.ProteinSequence('ITTITE')"
   ]
  },
  {
   "cell_type": "code",
   "execution_count": 31,
   "metadata": {},
   "outputs": [],
   "source": [
    "# Protein submatrix\n",
    "# LOCAL\n",
    "alignments = align.align_optimal(pseq1,pseq2,p_matrix,local=True)"
   ]
  },
  {
   "cell_type": "code",
   "execution_count": 32,
   "metadata": {},
   "outputs": [
    {
     "output_type": "stream",
     "name": "stdout",
     "text": [
      "[<biotite.sequence.align.Alignment object at 0x7fd88a32d0a0>]\n"
     ]
    }
   ],
   "source": [
    "print(alignments)"
   ]
  },
  {
   "cell_type": "code",
   "execution_count": 33,
   "metadata": {},
   "outputs": [
    {
     "output_type": "stream",
     "name": "stdout",
     "text": [
      "ITTITE\nITTITE\n"
     ]
    }
   ],
   "source": [
    "for a in alignments:\n",
    "    print (a)"
   ]
  },
  {
   "cell_type": "code",
   "execution_count": 35,
   "metadata": {},
   "outputs": [],
   "source": [
    "# GLOBAL\n",
    "gl_alignments = align.align_optimal(pseq1,pseq2,p_matrix,local=False)"
   ]
  },
  {
   "cell_type": "code",
   "execution_count": 36,
   "metadata": {},
   "outputs": [
    {
     "output_type": "stream",
     "name": "stdout",
     "text": [
      "ITTITE\nITTITE\n"
     ]
    }
   ],
   "source": [
    "for a in alignments:\n",
    "    print (a)"
   ]
  },
  {
   "cell_type": "code",
   "execution_count": 45,
   "metadata": {},
   "outputs": [
    {
     "output_type": "display_data",
     "data": {
      "text/plain": "<Figure size 144x57.6 with 2 Axes>",
      "image/svg+xml": "<?xml version=\"1.0\" encoding=\"utf-8\" standalone=\"no\"?>\n<!DOCTYPE svg PUBLIC \"-//W3C//DTD SVG 1.1//EN\"\n  \"http://www.w3.org/Graphics/SVG/1.1/DTD/svg11.dtd\">\n<!-- Created with matplotlib (https://matplotlib.org/) -->\n<svg height=\"50.4pt\" version=\"1.1\" viewBox=\"0 0 136.8 50.4\" width=\"136.8pt\" xmlns=\"http://www.w3.org/2000/svg\" xmlns:xlink=\"http://www.w3.org/1999/xlink\">\n <metadata>\n  <rdf:RDF xmlns:cc=\"http://creativecommons.org/ns#\" xmlns:dc=\"http://purl.org/dc/elements/1.1/\" xmlns:rdf=\"http://www.w3.org/1999/02/22-rdf-syntax-ns#\">\n   <cc:Work>\n    <dc:type rdf:resource=\"http://purl.org/dc/dcmitype/StillImage\"/>\n    <dc:date>2021-03-16T15:24:13.948845</dc:date>\n    <dc:format>image/svg+xml</dc:format>\n    <dc:creator>\n     <cc:Agent>\n      <dc:title>Matplotlib v3.3.4, https://matplotlib.org/</dc:title>\n     </cc:Agent>\n    </dc:creator>\n   </cc:Work>\n  </rdf:RDF>\n </metadata>\n <defs>\n  <style type=\"text/css\">*{stroke-linecap:butt;stroke-linejoin:round;}</style>\n </defs>\n <g id=\"figure_1\">\n  <g id=\"patch_1\">\n   <path d=\"M 0 50.4 \nL 136.8 50.4 \nL 136.8 0 \nL 0 0 \nz\n\" style=\"fill:none;\"/>\n  </g>\n  <g id=\"axes_1\">\n   <g id=\"patch_2\">\n    <path clip-path=\"url(#p62f88519e1)\" d=\"M 7.2 7.2 \nL 27.6 7.2 \nL 27.6 25.2 \nL 7.2 25.2 \nz\n\" style=\"fill:#45bc20;stroke:#45bc20;stroke-linejoin:miter;\"/>\n   </g>\n   <g id=\"patch_3\">\n    <path clip-path=\"url(#p62f88519e1)\" d=\"M 7.2 25.2 \nL 27.6 25.2 \nL 27.6 43.2 \nL 7.2 43.2 \nz\n\" style=\"fill:#45bc20;stroke:#45bc20;stroke-linejoin:miter;\"/>\n   </g>\n   <g id=\"patch_4\">\n    <path clip-path=\"url(#p62f88519e1)\" d=\"M 27.6 7.2 \nL 48 7.2 \nL 48 25.2 \nL 27.6 25.2 \nz\n\" style=\"fill:#45bc20;stroke:#45bc20;stroke-linejoin:miter;\"/>\n   </g>\n   <g id=\"patch_5\">\n    <path clip-path=\"url(#p62f88519e1)\" d=\"M 27.6 25.2 \nL 48 25.2 \nL 48 43.2 \nL 27.6 43.2 \nz\n\" style=\"fill:#45bc20;stroke:#45bc20;stroke-linejoin:miter;\"/>\n   </g>\n   <g id=\"patch_6\">\n    <path clip-path=\"url(#p62f88519e1)\" d=\"M 48 7.2 \nL 68.4 7.2 \nL 68.4 25.2 \nL 48 25.2 \nz\n\" style=\"fill:#45bc20;stroke:#45bc20;stroke-linejoin:miter;\"/>\n   </g>\n   <g id=\"patch_7\">\n    <path clip-path=\"url(#p62f88519e1)\" d=\"M 48 25.2 \nL 68.4 25.2 \nL 68.4 43.2 \nL 48 43.2 \nz\n\" style=\"fill:#45bc20;stroke:#45bc20;stroke-linejoin:miter;\"/>\n   </g>\n   <g id=\"patch_8\">\n    <path clip-path=\"url(#p62f88519e1)\" d=\"M 68.4 7.2 \nL 88.8 7.2 \nL 88.8 25.2 \nL 68.4 25.2 \nz\n\" style=\"fill:#45bc20;stroke:#45bc20;stroke-linejoin:miter;\"/>\n   </g>\n   <g id=\"patch_9\">\n    <path clip-path=\"url(#p62f88519e1)\" d=\"M 68.4 25.2 \nL 88.8 25.2 \nL 88.8 43.2 \nL 68.4 43.2 \nz\n\" style=\"fill:#45bc20;stroke:#45bc20;stroke-linejoin:miter;\"/>\n   </g>\n   <g id=\"patch_10\">\n    <path clip-path=\"url(#p62f88519e1)\" d=\"M 88.8 7.2 \nL 109.2 7.2 \nL 109.2 25.2 \nL 88.8 25.2 \nz\n\" style=\"fill:#45bc20;stroke:#45bc20;stroke-linejoin:miter;\"/>\n   </g>\n   <g id=\"patch_11\">\n    <path clip-path=\"url(#p62f88519e1)\" d=\"M 88.8 25.2 \nL 109.2 25.2 \nL 109.2 43.2 \nL 88.8 43.2 \nz\n\" style=\"fill:#45bc20;stroke:#45bc20;stroke-linejoin:miter;\"/>\n   </g>\n   <g id=\"patch_12\">\n    <path clip-path=\"url(#p62f88519e1)\" d=\"M 109.2 7.2 \nL 129.6 7.2 \nL 129.6 25.2 \nL 109.2 25.2 \nz\n\" style=\"fill:#45bc20;stroke:#45bc20;stroke-linejoin:miter;\"/>\n   </g>\n   <g id=\"patch_13\">\n    <path clip-path=\"url(#p62f88519e1)\" d=\"M 109.2 25.2 \nL 129.6 25.2 \nL 129.6 43.2 \nL 109.2 43.2 \nz\n\" style=\"fill:#45bc20;stroke:#45bc20;stroke-linejoin:miter;\"/>\n   </g>\n   <g id=\"matplotlib.axis_1\">\n    <g id=\"xtick_1\"/>\n    <g id=\"xtick_2\"/>\n    <g id=\"xtick_3\"/>\n    <g id=\"xtick_4\"/>\n   </g>\n   <g id=\"matplotlib.axis_2\"/>\n   <g id=\"text_1\">\n    <g clip-path=\"url(#p62f88519e1)\">\n     <!-- I -->\n     <g transform=\"translate(15.925 18.959375)scale(0.1 -0.1)\">\n      <defs>\n       <path d=\"M 9.8125 72.90625 \nL 19.671875 72.90625 \nL 19.671875 0 \nL 9.8125 0 \nz\n\" id=\"DejaVuSans-73\"/>\n      </defs>\n      <use xlink:href=\"#DejaVuSans-73\"/>\n     </g>\n    </g>\n   </g>\n   <g id=\"text_2\">\n    <g clip-path=\"url(#p62f88519e1)\">\n     <!-- I -->\n     <g transform=\"translate(15.925 36.959375)scale(0.1 -0.1)\">\n      <use xlink:href=\"#DejaVuSans-73\"/>\n     </g>\n    </g>\n   </g>\n   <g id=\"text_3\">\n    <g clip-path=\"url(#p62f88519e1)\">\n     <!-- T -->\n     <g transform=\"translate(34.746094 18.959375)scale(0.1 -0.1)\">\n      <defs>\n       <path d=\"M -0.296875 72.90625 \nL 61.375 72.90625 \nL 61.375 64.59375 \nL 35.5 64.59375 \nL 35.5 0 \nL 25.59375 0 \nL 25.59375 64.59375 \nL -0.296875 64.59375 \nz\n\" id=\"DejaVuSans-84\"/>\n      </defs>\n      <use xlink:href=\"#DejaVuSans-84\"/>\n     </g>\n    </g>\n   </g>\n   <g id=\"text_4\">\n    <g clip-path=\"url(#p62f88519e1)\">\n     <!-- T -->\n     <g transform=\"translate(34.746094 36.959375)scale(0.1 -0.1)\">\n      <use xlink:href=\"#DejaVuSans-84\"/>\n     </g>\n    </g>\n   </g>\n   <g id=\"text_5\">\n    <g clip-path=\"url(#p62f88519e1)\">\n     <!-- T -->\n     <g transform=\"translate(55.146094 18.959375)scale(0.1 -0.1)\">\n      <use xlink:href=\"#DejaVuSans-84\"/>\n     </g>\n    </g>\n   </g>\n   <g id=\"text_6\">\n    <g clip-path=\"url(#p62f88519e1)\">\n     <!-- T -->\n     <g transform=\"translate(55.146094 36.959375)scale(0.1 -0.1)\">\n      <use xlink:href=\"#DejaVuSans-84\"/>\n     </g>\n    </g>\n   </g>\n   <g id=\"text_7\">\n    <g clip-path=\"url(#p62f88519e1)\">\n     <!-- I -->\n     <g transform=\"translate(77.125 18.959375)scale(0.1 -0.1)\">\n      <use xlink:href=\"#DejaVuSans-73\"/>\n     </g>\n    </g>\n   </g>\n   <g id=\"text_8\">\n    <g clip-path=\"url(#p62f88519e1)\">\n     <!-- I -->\n     <g transform=\"translate(77.125 36.959375)scale(0.1 -0.1)\">\n      <use xlink:href=\"#DejaVuSans-73\"/>\n     </g>\n    </g>\n   </g>\n   <g id=\"text_9\">\n    <g clip-path=\"url(#p62f88519e1)\">\n     <!-- T -->\n     <g transform=\"translate(95.946094 18.959375)scale(0.1 -0.1)\">\n      <use xlink:href=\"#DejaVuSans-84\"/>\n     </g>\n    </g>\n   </g>\n   <g id=\"text_10\">\n    <g clip-path=\"url(#p62f88519e1)\">\n     <!-- T -->\n     <g transform=\"translate(95.946094 36.959375)scale(0.1 -0.1)\">\n      <use xlink:href=\"#DejaVuSans-84\"/>\n     </g>\n    </g>\n   </g>\n   <g id=\"text_11\">\n    <g clip-path=\"url(#p62f88519e1)\">\n     <!-- E -->\n     <g transform=\"translate(116.240625 18.959375)scale(0.1 -0.1)\">\n      <defs>\n       <path d=\"M 9.8125 72.90625 \nL 55.90625 72.90625 \nL 55.90625 64.59375 \nL 19.671875 64.59375 \nL 19.671875 43.015625 \nL 54.390625 43.015625 \nL 54.390625 34.71875 \nL 19.671875 34.71875 \nL 19.671875 8.296875 \nL 56.78125 8.296875 \nL 56.78125 0 \nL 9.8125 0 \nz\n\" id=\"DejaVuSans-69\"/>\n      </defs>\n      <use xlink:href=\"#DejaVuSans-69\"/>\n     </g>\n    </g>\n   </g>\n   <g id=\"text_12\">\n    <g clip-path=\"url(#p62f88519e1)\">\n     <!-- E -->\n     <g transform=\"translate(116.240625 36.959375)scale(0.1 -0.1)\">\n      <use xlink:href=\"#DejaVuSans-69\"/>\n     </g>\n    </g>\n   </g>\n  </g>\n  <g id=\"axes_2\">\n   <g id=\"matplotlib.axis_3\"/>\n  </g>\n </g>\n <defs>\n  <clipPath id=\"p62f88519e1\">\n   <rect height=\"36\" width=\"122.4\" x=\"7.2\" y=\"7.2\"/>\n  </clipPath>\n </defs>\n</svg>\n",
      "image/png": "[encoded data removed]"
     },
     "metadata": {
      "needs_background": "light"
     }
    }
   ],
   "source": [
    "## More fancyful\n",
    "\n",
    "import biotite.sequence.graphics as graphics\n",
    "import matplotlib.pyplot as plt\n",
    "\n",
    "# LOCAL\n",
    "fig, ax = plt.subplots(figsize=(2.0, 0.8))\n",
    "graphics.plot_alignment_similarity_based(\n",
    "    ax, alignments[0], matrix=p_matrix, symbols_per_line=len(alignments[0])\n",
    ")\n",
    "fig.tight_layout()"
   ]
  },
  {
   "cell_type": "code",
   "execution_count": 46,
   "metadata": {},
   "outputs": [
    {
     "output_type": "display_data",
     "data": {
      "text/plain": "<Figure size 144x57.6 with 2 Axes>",
      "image/svg+xml": "<?xml version=\"1.0\" encoding=\"utf-8\" standalone=\"no\"?>\n<!DOCTYPE svg PUBLIC \"-//W3C//DTD SVG 1.1//EN\"\n  \"http://www.w3.org/Graphics/SVG/1.1/DTD/svg11.dtd\">\n<!-- Created with matplotlib (https://matplotlib.org/) -->\n<svg height=\"50.4pt\" version=\"1.1\" viewBox=\"0 0 136.8 50.4\" width=\"136.8pt\" xmlns=\"http://www.w3.org/2000/svg\" xmlns:xlink=\"http://www.w3.org/1999/xlink\">\n <metadata>\n  <rdf:RDF xmlns:cc=\"http://creativecommons.org/ns#\" xmlns:dc=\"http://purl.org/dc/elements/1.1/\" xmlns:rdf=\"http://www.w3.org/1999/02/22-rdf-syntax-ns#\">\n   <cc:Work>\n    <dc:type rdf:resource=\"http://purl.org/dc/dcmitype/StillImage\"/>\n    <dc:date>2021-03-16T15:25:14.416978</dc:date>\n    <dc:format>image/svg+xml</dc:format>\n    <dc:creator>\n     <cc:Agent>\n      <dc:title>Matplotlib v3.3.4, https://matplotlib.org/</dc:title>\n     </cc:Agent>\n    </dc:creator>\n   </cc:Work>\n  </rdf:RDF>\n </metadata>\n <defs>\n  <style type=\"text/css\">*{stroke-linecap:butt;stroke-linejoin:round;}</style>\n </defs>\n <g id=\"figure_1\">\n  <g id=\"patch_1\">\n   <path d=\"M 0 50.4 \nL 136.8 50.4 \nL 136.8 0 \nL 0 0 \nz\n\" style=\"fill:none;\"/>\n  </g>\n  <g id=\"axes_1\">\n   <g id=\"patch_2\">\n    <path clip-path=\"url(#p12d5515783)\" d=\"M 7.2 7.2 \nL 24.685714 7.2 \nL 24.685714 25.2 \nL 7.2 25.2 \nz\n\" style=\"fill:#ffffff;stroke:#ffffff;stroke-linejoin:miter;\"/>\n   </g>\n   <g id=\"patch_3\">\n    <path clip-path=\"url(#p12d5515783)\" d=\"M 7.2 25.2 \nL 24.685714 25.2 \nL 24.685714 43.2 \nL 7.2 43.2 \nz\n\" style=\"fill:#ffffff;stroke:#ffffff;stroke-linejoin:miter;\"/>\n   </g>\n   <g id=\"patch_4\">\n    <path clip-path=\"url(#p12d5515783)\" d=\"M 24.685714 7.2 \nL 42.171429 7.2 \nL 42.171429 25.2 \nL 24.685714 25.2 \nz\n\" style=\"fill:#45bc20;stroke:#45bc20;stroke-linejoin:miter;\"/>\n   </g>\n   <g id=\"patch_5\">\n    <path clip-path=\"url(#p12d5515783)\" d=\"M 24.685714 25.2 \nL 42.171429 25.2 \nL 42.171429 43.2 \nL 24.685714 43.2 \nz\n\" style=\"fill:#45bc20;stroke:#45bc20;stroke-linejoin:miter;\"/>\n   </g>\n   <g id=\"patch_6\">\n    <path clip-path=\"url(#p12d5515783)\" d=\"M 42.171429 7.2 \nL 59.657143 7.2 \nL 59.657143 25.2 \nL 42.171429 25.2 \nz\n\" style=\"fill:#45bc20;stroke:#45bc20;stroke-linejoin:miter;\"/>\n   </g>\n   <g id=\"patch_7\">\n    <path clip-path=\"url(#p12d5515783)\" d=\"M 42.171429 25.2 \nL 59.657143 25.2 \nL 59.657143 43.2 \nL 42.171429 43.2 \nz\n\" style=\"fill:#45bc20;stroke:#45bc20;stroke-linejoin:miter;\"/>\n   </g>\n   <g id=\"patch_8\">\n    <path clip-path=\"url(#p12d5515783)\" d=\"M 59.657143 7.2 \nL 77.142857 7.2 \nL 77.142857 25.2 \nL 59.657143 25.2 \nz\n\" style=\"fill:#45bc20;stroke:#45bc20;stroke-linejoin:miter;\"/>\n   </g>\n   <g id=\"patch_9\">\n    <path clip-path=\"url(#p12d5515783)\" d=\"M 59.657143 25.2 \nL 77.142857 25.2 \nL 77.142857 43.2 \nL 59.657143 43.2 \nz\n\" style=\"fill:#45bc20;stroke:#45bc20;stroke-linejoin:miter;\"/>\n   </g>\n   <g id=\"patch_10\">\n    <path clip-path=\"url(#p12d5515783)\" d=\"M 77.142857 7.2 \nL 94.628571 7.2 \nL 94.628571 25.2 \nL 77.142857 25.2 \nz\n\" style=\"fill:#45bc20;stroke:#45bc20;stroke-linejoin:miter;\"/>\n   </g>\n   <g id=\"patch_11\">\n    <path clip-path=\"url(#p12d5515783)\" d=\"M 77.142857 25.2 \nL 94.628571 25.2 \nL 94.628571 43.2 \nL 77.142857 43.2 \nz\n\" style=\"fill:#45bc20;stroke:#45bc20;stroke-linejoin:miter;\"/>\n   </g>\n   <g id=\"patch_12\">\n    <path clip-path=\"url(#p12d5515783)\" d=\"M 94.628571 7.2 \nL 112.114286 7.2 \nL 112.114286 25.2 \nL 94.628571 25.2 \nz\n\" style=\"fill:#45bc20;stroke:#45bc20;stroke-linejoin:miter;\"/>\n   </g>\n   <g id=\"patch_13\">\n    <path clip-path=\"url(#p12d5515783)\" d=\"M 94.628571 25.2 \nL 112.114286 25.2 \nL 112.114286 43.2 \nL 94.628571 43.2 \nz\n\" style=\"fill:#45bc20;stroke:#45bc20;stroke-linejoin:miter;\"/>\n   </g>\n   <g id=\"patch_14\">\n    <path clip-path=\"url(#p12d5515783)\" d=\"M 112.114286 7.2 \nL 129.6 7.2 \nL 129.6 25.2 \nL 112.114286 25.2 \nz\n\" style=\"fill:#45bc20;stroke:#45bc20;stroke-linejoin:miter;\"/>\n   </g>\n   <g id=\"patch_15\">\n    <path clip-path=\"url(#p12d5515783)\" d=\"M 112.114286 25.2 \nL 129.6 25.2 \nL 129.6 43.2 \nL 112.114286 43.2 \nz\n\" style=\"fill:#45bc20;stroke:#45bc20;stroke-linejoin:miter;\"/>\n   </g>\n   <g id=\"matplotlib.axis_1\">\n    <g id=\"xtick_1\"/>\n    <g id=\"xtick_2\"/>\n    <g id=\"xtick_3\"/>\n    <g id=\"xtick_4\"/>\n   </g>\n   <g id=\"matplotlib.axis_2\"/>\n   <g id=\"text_1\">\n    <g clip-path=\"url(#p12d5515783)\">\n     <!-- M -->\n     <g transform=\"translate(11.628795 18.959375)scale(0.1 -0.1)\">\n      <defs>\n       <path d=\"M 9.8125 72.90625 \nL 24.515625 72.90625 \nL 43.109375 23.296875 \nL 61.8125 72.90625 \nL 76.515625 72.90625 \nL 76.515625 0 \nL 66.890625 0 \nL 66.890625 64.015625 \nL 48.09375 14.015625 \nL 38.1875 14.015625 \nL 19.390625 64.015625 \nL 19.390625 0 \nL 9.8125 0 \nz\n\" id=\"DejaVuSans-77\"/>\n      </defs>\n      <use xlink:href=\"#DejaVuSans-77\"/>\n     </g>\n    </g>\n   </g>\n   <g id=\"text_2\">\n    <g clip-path=\"url(#p12d5515783)\">\n     <!-- - -->\n     <g transform=\"translate(14.138951 36.959375)scale(0.1 -0.1)\">\n      <defs>\n       <path d=\"M 4.890625 31.390625 \nL 31.203125 31.390625 \nL 31.203125 23.390625 \nL 4.890625 23.390625 \nz\n\" id=\"DejaVuSans-45\"/>\n      </defs>\n      <use xlink:href=\"#DejaVuSans-45\"/>\n     </g>\n    </g>\n   </g>\n   <g id=\"text_3\">\n    <g clip-path=\"url(#p12d5515783)\">\n     <!-- I -->\n     <g transform=\"translate(31.953571 18.959375)scale(0.1 -0.1)\">\n      <defs>\n       <path d=\"M 9.8125 72.90625 \nL 19.671875 72.90625 \nL 19.671875 0 \nL 9.8125 0 \nz\n\" id=\"DejaVuSans-73\"/>\n      </defs>\n      <use xlink:href=\"#DejaVuSans-73\"/>\n     </g>\n    </g>\n   </g>\n   <g id=\"text_4\">\n    <g clip-path=\"url(#p12d5515783)\">\n     <!-- I -->\n     <g transform=\"translate(31.953571 36.959375)scale(0.1 -0.1)\">\n      <use xlink:href=\"#DejaVuSans-73\"/>\n     </g>\n    </g>\n   </g>\n   <g id=\"text_5\">\n    <g clip-path=\"url(#p12d5515783)\">\n     <!-- T -->\n     <g transform=\"translate(47.860379 18.959375)scale(0.1 -0.1)\">\n      <defs>\n       <path d=\"M -0.296875 72.90625 \nL 61.375 72.90625 \nL 61.375 64.59375 \nL 35.5 64.59375 \nL 35.5 0 \nL 25.59375 0 \nL 25.59375 64.59375 \nL -0.296875 64.59375 \nz\n\" id=\"DejaVuSans-84\"/>\n      </defs>\n      <use xlink:href=\"#DejaVuSans-84\"/>\n     </g>\n    </g>\n   </g>\n   <g id=\"text_6\">\n    <g clip-path=\"url(#p12d5515783)\">\n     <!-- T -->\n     <g transform=\"translate(47.860379 36.959375)scale(0.1 -0.1)\">\n      <use xlink:href=\"#DejaVuSans-84\"/>\n     </g>\n    </g>\n   </g>\n   <g id=\"text_7\">\n    <g clip-path=\"url(#p12d5515783)\">\n     <!-- T -->\n     <g transform=\"translate(65.346094 18.959375)scale(0.1 -0.1)\">\n      <use xlink:href=\"#DejaVuSans-84\"/>\n     </g>\n    </g>\n   </g>\n   <g id=\"text_8\">\n    <g clip-path=\"url(#p12d5515783)\">\n     <!-- T -->\n     <g transform=\"translate(65.346094 36.959375)scale(0.1 -0.1)\">\n      <use xlink:href=\"#DejaVuSans-84\"/>\n     </g>\n    </g>\n   </g>\n   <g id=\"text_9\">\n    <g clip-path=\"url(#p12d5515783)\">\n     <!-- I -->\n     <g transform=\"translate(84.410714 18.959375)scale(0.1 -0.1)\">\n      <use xlink:href=\"#DejaVuSans-73\"/>\n     </g>\n    </g>\n   </g>\n   <g id=\"text_10\">\n    <g clip-path=\"url(#p12d5515783)\">\n     <!-- I -->\n     <g transform=\"translate(84.410714 36.959375)scale(0.1 -0.1)\">\n      <use xlink:href=\"#DejaVuSans-73\"/>\n     </g>\n    </g>\n   </g>\n   <g id=\"text_11\">\n    <g clip-path=\"url(#p12d5515783)\">\n     <!-- T -->\n     <g transform=\"translate(100.317522 18.959375)scale(0.1 -0.1)\">\n      <use xlink:href=\"#DejaVuSans-84\"/>\n     </g>\n    </g>\n   </g>\n   <g id=\"text_12\">\n    <g clip-path=\"url(#p12d5515783)\">\n     <!-- T -->\n     <g transform=\"translate(100.317522 36.959375)scale(0.1 -0.1)\">\n      <use xlink:href=\"#DejaVuSans-84\"/>\n     </g>\n    </g>\n   </g>\n   <g id=\"text_13\">\n    <g clip-path=\"url(#p12d5515783)\">\n     <!-- E -->\n     <g transform=\"translate(117.697768 18.959375)scale(0.1 -0.1)\">\n      <defs>\n       <path d=\"M 9.8125 72.90625 \nL 55.90625 72.90625 \nL 55.90625 64.59375 \nL 19.671875 64.59375 \nL 19.671875 43.015625 \nL 54.390625 43.015625 \nL 54.390625 34.71875 \nL 19.671875 34.71875 \nL 19.671875 8.296875 \nL 56.78125 8.296875 \nL 56.78125 0 \nL 9.8125 0 \nz\n\" id=\"DejaVuSans-69\"/>\n      </defs>\n      <use xlink:href=\"#DejaVuSans-69\"/>\n     </g>\n    </g>\n   </g>\n   <g id=\"text_14\">\n    <g clip-path=\"url(#p12d5515783)\">\n     <!-- E -->\n     <g transform=\"translate(117.697768 36.959375)scale(0.1 -0.1)\">\n      <use xlink:href=\"#DejaVuSans-69\"/>\n     </g>\n    </g>\n   </g>\n  </g>\n  <g id=\"axes_2\">\n   <g id=\"matplotlib.axis_3\"/>\n  </g>\n </g>\n <defs>\n  <clipPath id=\"p12d5515783\">\n   <rect height=\"36\" width=\"122.4\" x=\"7.2\" y=\"7.2\"/>\n  </clipPath>\n </defs>\n</svg>\n",
      "image/png": "[encoded data removed]"
     },
     "metadata": {
      "needs_background": "light"
     }
    }
   ],
   "source": [
    "# GLOBAL\n",
    "fig, ax = plt.subplots(figsize=(2.0, 0.8))\n",
    "graphics.plot_alignment_similarity_based(\n",
    "    ax, gl_alignments[0], matrix=p_matrix, symbols_per_line=len(gl_alignments[0])\n",
    ")\n",
    "fig.tight_layout()"
   ]
  },
  {
   "cell_type": "code",
   "execution_count": 48,
   "metadata": {},
   "outputs": [
    {
     "output_type": "execute_result",
     "data": {
      "text/plain": [
       "28"
      ]
     },
     "metadata": {},
     "execution_count": 48
    }
   ],
   "source": [
    "# Alignment Score\n",
    "alignments[0].score"
   ]
  },
  {
   "cell_type": "code",
   "execution_count": 49,
   "metadata": {},
   "outputs": [
    {
     "output_type": "stream",
     "name": "stdout",
     "text": [
      "Score 28\nRecalc Score 28\nSequence Identity 1.0\n"
     ]
    }
   ],
   "source": [
    "loc_alignments = alignments[0]\n",
    "print('Score',loc_alignments.score)\n",
    "print('Recalc Score',align.score(loc_alignments,matrix=p_matrix))\n",
    "print('Sequence Identity',align.get_sequence_identity(loc_alignments))"
   ]
  },
  {
   "cell_type": "code",
   "execution_count": 52,
   "metadata": {},
   "outputs": [],
   "source": [
    "### For nucleotide sequence alignment\n",
    "dna_seq1 = seq.NucleotideSequence('ATGATCTCGAA')\n",
    "dna_seq2 = seq.NucleotideSequence('ATCTCGTAG')"
   ]
  },
  {
   "cell_type": "code",
   "execution_count": 53,
   "metadata": {},
   "outputs": [
    {
     "output_type": "stream",
     "name": "stdout",
     "text": [
      "    A   C   G   T   R   Y   W   S   M   K   H   B   V   D   N\nA   5  -4  -4  -4   1  -4   1  -4   1  -4  -1  -4  -1  -1  -2\nC  -4   5  -4  -4  -4   1  -4   1   1  -4  -1  -1  -1  -4  -2\nG  -4  -4   5  -4   1  -4  -4   1  -4   1  -4  -1  -1  -1  -2\nT  -4  -4  -4   5  -4   1   1  -4  -4   1  -1  -1  -4  -1  -2\nR   1  -4   1  -4  -1  -4  -2  -2  -2  -2  -3  -3  -1  -1  -1\nY  -4   1  -4   1  -4  -1  -2  -2  -2  -2  -1  -1  -3  -3  -1\nW   1  -4  -4   1  -2  -2  -1  -4  -2  -2  -1  -3  -3  -1  -1\nS  -4   1   1  -4  -2  -2  -4  -1  -2  -2  -3  -1  -1  -3  -1\nM   1   1  -4  -4  -2  -2  -2  -2  -1  -4  -1  -3  -1  -3  -1\nK  -4  -4   1   1  -2  -2  -2  -2  -4  -1  -3  -1  -3  -1  -1\nH  -1  -1  -4  -1  -3  -1  -1  -3  -1  -3  -1  -2  -2  -2  -1\nB  -4  -1  -1  -1  -3  -1  -3  -1  -3  -1  -2  -1  -2  -2  -1\nV  -1  -1  -1  -4  -1  -3  -3  -1  -1  -3  -2  -2  -1  -2  -1\nD  -1  -4  -1  -1  -1  -3  -1  -3  -3  -1  -2  -2  -2  -1  -1\nN  -2  -2  -2  -2  -1  -1  -1  -1  -1  -1  -1  -1  -1  -1  -1\n"
     ]
    }
   ],
   "source": [
    "print(n_matrix)"
   ]
  },
  {
   "cell_type": "code",
   "execution_count": 54,
   "metadata": {},
   "outputs": [],
   "source": [
    "# Local Alignment\n",
    "dna_alignments = align.align_optimal(dna_seq1,dna_seq2,n_matrix,local=True)"
   ]
  },
  {
   "cell_type": "code",
   "execution_count": 57,
   "metadata": {},
   "outputs": [
    {
     "output_type": "stream",
     "name": "stdout",
     "text": [
      "ATCTCGAA\nATCTCGTA\n"
     ]
    }
   ],
   "source": [
    "for a in dna_alignments:\n",
    "    print(a)"
   ]
  },
  {
   "cell_type": "code",
   "execution_count": 58,
   "metadata": {},
   "outputs": [
    {
     "output_type": "stream",
     "name": "stdout",
     "text": [
      "ATGATCTCGAA-\nAT---CTCGTAG\nATGATCTCGAA-\nA---TCTCGTAG\nATGATCTCGAA-\n---ATCTCGTAG\nATGATCTCG-AA\nAT---CTCGTAG\nATGATCTCG-AA\nA---TCTCGTAG\nATGATCTCG-AA\n---ATCTCGTAG\n"
     ]
    }
   ],
   "source": [
    "# GLOBAL alignment\n",
    "gl_dna_alignments = align.align_optimal(dna_seq1,dna_seq2,n_matrix,local=False)\n",
    "for a in gl_dna_alignments:\n",
    "    print(a)"
   ]
  },
  {
   "cell_type": "code",
   "execution_count": 61,
   "metadata": {},
   "outputs": [
    {
     "output_type": "display_data",
     "data": {
      "text/plain": "<Figure size 144x57.6 with 2 Axes>",
      "image/svg+xml": "<?xml version=\"1.0\" encoding=\"utf-8\" standalone=\"no\"?>\n<!DOCTYPE svg PUBLIC \"-//W3C//DTD SVG 1.1//EN\"\n  \"http://www.w3.org/Graphics/SVG/1.1/DTD/svg11.dtd\">\n<!-- Created with matplotlib (https://matplotlib.org/) -->\n<svg height=\"50.4pt\" version=\"1.1\" viewBox=\"0 0 136.8 50.4\" width=\"136.8pt\" xmlns=\"http://www.w3.org/2000/svg\" xmlns:xlink=\"http://www.w3.org/1999/xlink\">\n <metadata>\n  <rdf:RDF xmlns:cc=\"http://creativecommons.org/ns#\" xmlns:dc=\"http://purl.org/dc/elements/1.1/\" xmlns:rdf=\"http://www.w3.org/1999/02/22-rdf-syntax-ns#\">\n   <cc:Work>\n    <dc:type rdf:resource=\"http://purl.org/dc/dcmitype/StillImage\"/>\n    <dc:date>2021-03-16T15:47:00.578194</dc:date>\n    <dc:format>image/svg+xml</dc:format>\n    <dc:creator>\n     <cc:Agent>\n      <dc:title>Matplotlib v3.3.4, https://matplotlib.org/</dc:title>\n     </cc:Agent>\n    </dc:creator>\n   </cc:Work>\n  </rdf:RDF>\n </metadata>\n <defs>\n  <style type=\"text/css\">*{stroke-linecap:butt;stroke-linejoin:round;}</style>\n </defs>\n <g id=\"figure_1\">\n  <g id=\"patch_1\">\n   <path d=\"M 0 50.4 \nL 136.8 50.4 \nL 136.8 0 \nL 0 0 \nz\n\" style=\"fill:none;\"/>\n  </g>\n  <g id=\"axes_1\">\n   <g id=\"patch_2\">\n    <path clip-path=\"url(#p0af7eec25d)\" d=\"M 7.2 7.2 \nL 17.4 7.2 \nL 17.4 25.2 \nL 7.2 25.2 \nz\n\" style=\"fill:#45bc20;stroke:#45bc20;stroke-linejoin:miter;\"/>\n   </g>\n   <g id=\"patch_3\">\n    <path clip-path=\"url(#p0af7eec25d)\" d=\"M 7.2 25.2 \nL 17.4 25.2 \nL 17.4 43.2 \nL 7.2 43.2 \nz\n\" style=\"fill:#45bc20;stroke:#45bc20;stroke-linejoin:miter;\"/>\n   </g>\n   <g id=\"patch_4\">\n    <path clip-path=\"url(#p0af7eec25d)\" d=\"M 17.4 7.2 \nL 27.6 7.2 \nL 27.6 25.2 \nL 17.4 25.2 \nz\n\" style=\"fill:#45bc20;stroke:#45bc20;stroke-linejoin:miter;\"/>\n   </g>\n   <g id=\"patch_5\">\n    <path clip-path=\"url(#p0af7eec25d)\" d=\"M 17.4 25.2 \nL 27.6 25.2 \nL 27.6 43.2 \nL 17.4 43.2 \nz\n\" style=\"fill:#45bc20;stroke:#45bc20;stroke-linejoin:miter;\"/>\n   </g>\n   <g id=\"patch_6\">\n    <path clip-path=\"url(#p0af7eec25d)\" d=\"M 27.6 7.2 \nL 37.8 7.2 \nL 37.8 25.2 \nL 27.6 25.2 \nz\n\" style=\"fill:#ffffff;stroke:#ffffff;stroke-linejoin:miter;\"/>\n   </g>\n   <g id=\"patch_7\">\n    <path clip-path=\"url(#p0af7eec25d)\" d=\"M 27.6 25.2 \nL 37.8 25.2 \nL 37.8 43.2 \nL 27.6 43.2 \nz\n\" style=\"fill:#ffffff;stroke:#ffffff;stroke-linejoin:miter;\"/>\n   </g>\n   <g id=\"patch_8\">\n    <path clip-path=\"url(#p0af7eec25d)\" d=\"M 37.8 7.2 \nL 48 7.2 \nL 48 25.2 \nL 37.8 25.2 \nz\n\" style=\"fill:#ffffff;stroke:#ffffff;stroke-linejoin:miter;\"/>\n   </g>\n   <g id=\"patch_9\">\n    <path clip-path=\"url(#p0af7eec25d)\" d=\"M 37.8 25.2 \nL 48 25.2 \nL 48 43.2 \nL 37.8 43.2 \nz\n\" style=\"fill:#ffffff;stroke:#ffffff;stroke-linejoin:miter;\"/>\n   </g>\n   <g id=\"patch_10\">\n    <path clip-path=\"url(#p0af7eec25d)\" d=\"M 48 7.2 \nL 58.2 7.2 \nL 58.2 25.2 \nL 48 25.2 \nz\n\" style=\"fill:#ffffff;stroke:#ffffff;stroke-linejoin:miter;\"/>\n   </g>\n   <g id=\"patch_11\">\n    <path clip-path=\"url(#p0af7eec25d)\" d=\"M 48 25.2 \nL 58.2 25.2 \nL 58.2 43.2 \nL 48 43.2 \nz\n\" style=\"fill:#ffffff;stroke:#ffffff;stroke-linejoin:miter;\"/>\n   </g>\n   <g id=\"patch_12\">\n    <path clip-path=\"url(#p0af7eec25d)\" d=\"M 58.2 7.2 \nL 68.4 7.2 \nL 68.4 25.2 \nL 58.2 25.2 \nz\n\" style=\"fill:#45bc20;stroke:#45bc20;stroke-linejoin:miter;\"/>\n   </g>\n   <g id=\"patch_13\">\n    <path clip-path=\"url(#p0af7eec25d)\" d=\"M 58.2 25.2 \nL 68.4 25.2 \nL 68.4 43.2 \nL 58.2 43.2 \nz\n\" style=\"fill:#45bc20;stroke:#45bc20;stroke-linejoin:miter;\"/>\n   </g>\n   <g id=\"patch_14\">\n    <path clip-path=\"url(#p0af7eec25d)\" d=\"M 68.4 7.2 \nL 78.6 7.2 \nL 78.6 25.2 \nL 68.4 25.2 \nz\n\" style=\"fill:#45bc20;stroke:#45bc20;stroke-linejoin:miter;\"/>\n   </g>\n   <g id=\"patch_15\">\n    <path clip-path=\"url(#p0af7eec25d)\" d=\"M 68.4 25.2 \nL 78.6 25.2 \nL 78.6 43.2 \nL 68.4 43.2 \nz\n\" style=\"fill:#45bc20;stroke:#45bc20;stroke-linejoin:miter;\"/>\n   </g>\n   <g id=\"patch_16\">\n    <path clip-path=\"url(#p0af7eec25d)\" d=\"M 78.6 7.2 \nL 88.8 7.2 \nL 88.8 25.2 \nL 78.6 25.2 \nz\n\" style=\"fill:#45bc20;stroke:#45bc20;stroke-linejoin:miter;\"/>\n   </g>\n   <g id=\"patch_17\">\n    <path clip-path=\"url(#p0af7eec25d)\" d=\"M 78.6 25.2 \nL 88.8 25.2 \nL 88.8 43.2 \nL 78.6 43.2 \nz\n\" style=\"fill:#45bc20;stroke:#45bc20;stroke-linejoin:miter;\"/>\n   </g>\n   <g id=\"patch_18\">\n    <path clip-path=\"url(#p0af7eec25d)\" d=\"M 88.8 7.2 \nL 99 7.2 \nL 99 25.2 \nL 88.8 25.2 \nz\n\" style=\"fill:#45bc20;stroke:#45bc20;stroke-linejoin:miter;\"/>\n   </g>\n   <g id=\"patch_19\">\n    <path clip-path=\"url(#p0af7eec25d)\" d=\"M 88.8 25.2 \nL 99 25.2 \nL 99 43.2 \nL 88.8 43.2 \nz\n\" style=\"fill:#45bc20;stroke:#45bc20;stroke-linejoin:miter;\"/>\n   </g>\n   <g id=\"patch_20\">\n    <path clip-path=\"url(#p0af7eec25d)\" d=\"M 99 7.2 \nL 109.2 7.2 \nL 109.2 25.2 \nL 99 25.2 \nz\n\" style=\"fill:#ffffff;stroke:#ffffff;stroke-linejoin:miter;\"/>\n   </g>\n   <g id=\"patch_21\">\n    <path clip-path=\"url(#p0af7eec25d)\" d=\"M 99 25.2 \nL 109.2 25.2 \nL 109.2 43.2 \nL 99 43.2 \nz\n\" style=\"fill:#ffffff;stroke:#ffffff;stroke-linejoin:miter;\"/>\n   </g>\n   <g id=\"patch_22\">\n    <path clip-path=\"url(#p0af7eec25d)\" d=\"M 109.2 7.2 \nL 119.4 7.2 \nL 119.4 25.2 \nL 109.2 25.2 \nz\n\" style=\"fill:#45bc20;stroke:#45bc20;stroke-linejoin:miter;\"/>\n   </g>\n   <g id=\"patch_23\">\n    <path clip-path=\"url(#p0af7eec25d)\" d=\"M 109.2 25.2 \nL 119.4 25.2 \nL 119.4 43.2 \nL 109.2 43.2 \nz\n\" style=\"fill:#45bc20;stroke:#45bc20;stroke-linejoin:miter;\"/>\n   </g>\n   <g id=\"patch_24\">\n    <path clip-path=\"url(#p0af7eec25d)\" d=\"M 119.4 7.2 \nL 129.6 7.2 \nL 129.6 25.2 \nL 119.4 25.2 \nz\n\" style=\"fill:#ffffff;stroke:#ffffff;stroke-linejoin:miter;\"/>\n   </g>\n   <g id=\"patch_25\">\n    <path clip-path=\"url(#p0af7eec25d)\" d=\"M 119.4 25.2 \nL 129.6 25.2 \nL 129.6 43.2 \nL 119.4 43.2 \nz\n\" style=\"fill:#ffffff;stroke:#ffffff;stroke-linejoin:miter;\"/>\n   </g>\n   <g id=\"matplotlib.axis_1\">\n    <g id=\"xtick_1\"/>\n    <g id=\"xtick_2\"/>\n    <g id=\"xtick_3\"/>\n   </g>\n   <g id=\"matplotlib.axis_2\"/>\n   <g id=\"text_1\">\n    <g clip-path=\"url(#p0af7eec25d)\">\n     <!-- A -->\n     <g transform=\"translate(8.879688 18.959375)scale(0.1 -0.1)\">\n      <defs>\n       <path d=\"M 34.1875 63.1875 \nL 20.796875 26.90625 \nL 47.609375 26.90625 \nz\nM 28.609375 72.90625 \nL 39.796875 72.90625 \nL 67.578125 0 \nL 57.328125 0 \nL 50.6875 18.703125 \nL 17.828125 18.703125 \nL 11.1875 0 \nL 0.78125 0 \nz\n\" id=\"DejaVuSans-65\"/>\n      </defs>\n      <use xlink:href=\"#DejaVuSans-65\"/>\n     </g>\n    </g>\n   </g>\n   <g id=\"text_2\">\n    <g clip-path=\"url(#p0af7eec25d)\">\n     <!-- A -->\n     <g transform=\"translate(8.879688 36.959375)scale(0.1 -0.1)\">\n      <use xlink:href=\"#DejaVuSans-65\"/>\n     </g>\n    </g>\n   </g>\n   <g id=\"text_3\">\n    <g clip-path=\"url(#p0af7eec25d)\">\n     <!-- T -->\n     <g transform=\"translate(19.446094 18.959375)scale(0.1 -0.1)\">\n      <defs>\n       <path d=\"M -0.296875 72.90625 \nL 61.375 72.90625 \nL 61.375 64.59375 \nL 35.5 64.59375 \nL 35.5 0 \nL 25.59375 0 \nL 25.59375 64.59375 \nL -0.296875 64.59375 \nz\n\" id=\"DejaVuSans-84\"/>\n      </defs>\n      <use xlink:href=\"#DejaVuSans-84\"/>\n     </g>\n    </g>\n   </g>\n   <g id=\"text_4\">\n    <g clip-path=\"url(#p0af7eec25d)\">\n     <!-- T -->\n     <g transform=\"translate(19.446094 36.959375)scale(0.1 -0.1)\">\n      <use xlink:href=\"#DejaVuSans-84\"/>\n     </g>\n    </g>\n   </g>\n   <g id=\"text_5\">\n    <g clip-path=\"url(#p0af7eec25d)\">\n     <!-- G -->\n     <g transform=\"translate(28.825781 18.959375)scale(0.1 -0.1)\">\n      <defs>\n       <path d=\"M 59.515625 10.40625 \nL 59.515625 29.984375 \nL 43.40625 29.984375 \nL 43.40625 38.09375 \nL 69.28125 38.09375 \nL 69.28125 6.78125 \nQ 63.578125 2.734375 56.6875 0.65625 \nQ 49.8125 -1.421875 42 -1.421875 \nQ 24.90625 -1.421875 15.25 8.5625 \nQ 5.609375 18.5625 5.609375 36.375 \nQ 5.609375 54.25 15.25 64.234375 \nQ 24.90625 74.21875 42 74.21875 \nQ 49.125 74.21875 55.546875 72.453125 \nQ 61.96875 70.703125 67.390625 67.28125 \nL 67.390625 56.78125 \nQ 61.921875 61.421875 55.765625 63.765625 \nQ 49.609375 66.109375 42.828125 66.109375 \nQ 29.4375 66.109375 22.71875 58.640625 \nQ 16.015625 51.171875 16.015625 36.375 \nQ 16.015625 21.625 22.71875 14.15625 \nQ 29.4375 6.6875 42.828125 6.6875 \nQ 48.046875 6.6875 52.140625 7.59375 \nQ 56.25 8.5 59.515625 10.40625 \nz\n\" id=\"DejaVuSans-71\"/>\n      </defs>\n      <use xlink:href=\"#DejaVuSans-71\"/>\n     </g>\n    </g>\n   </g>\n   <g id=\"text_6\">\n    <g clip-path=\"url(#p0af7eec25d)\">\n     <!-- - -->\n     <g transform=\"translate(30.896094 36.959375)scale(0.1 -0.1)\">\n      <defs>\n       <path d=\"M 4.890625 31.390625 \nL 31.203125 31.390625 \nL 31.203125 23.390625 \nL 4.890625 23.390625 \nz\n\" id=\"DejaVuSans-45\"/>\n      </defs>\n      <use xlink:href=\"#DejaVuSans-45\"/>\n     </g>\n    </g>\n   </g>\n   <g id=\"text_7\">\n    <g clip-path=\"url(#p0af7eec25d)\">\n     <!-- A -->\n     <g transform=\"translate(39.479688 18.959375)scale(0.1 -0.1)\">\n      <use xlink:href=\"#DejaVuSans-65\"/>\n     </g>\n    </g>\n   </g>\n   <g id=\"text_8\">\n    <g clip-path=\"url(#p0af7eec25d)\">\n     <!-- - -->\n     <g transform=\"translate(41.096094 36.959375)scale(0.1 -0.1)\">\n      <use xlink:href=\"#DejaVuSans-45\"/>\n     </g>\n    </g>\n   </g>\n   <g id=\"text_9\">\n    <g clip-path=\"url(#p0af7eec25d)\">\n     <!-- T -->\n     <g transform=\"translate(50.046094 18.959375)scale(0.1 -0.1)\">\n      <use xlink:href=\"#DejaVuSans-84\"/>\n     </g>\n    </g>\n   </g>\n   <g id=\"text_10\">\n    <g clip-path=\"url(#p0af7eec25d)\">\n     <!-- - -->\n     <g transform=\"translate(51.296094 36.959375)scale(0.1 -0.1)\">\n      <use xlink:href=\"#DejaVuSans-45\"/>\n     </g>\n    </g>\n   </g>\n   <g id=\"text_11\">\n    <g clip-path=\"url(#p0af7eec25d)\">\n     <!-- C -->\n     <g transform=\"translate(59.808594 18.959375)scale(0.1 -0.1)\">\n      <defs>\n       <path d=\"M 64.40625 67.28125 \nL 64.40625 56.890625 \nQ 59.421875 61.53125 53.78125 63.8125 \nQ 48.140625 66.109375 41.796875 66.109375 \nQ 29.296875 66.109375 22.65625 58.46875 \nQ 16.015625 50.828125 16.015625 36.375 \nQ 16.015625 21.96875 22.65625 14.328125 \nQ 29.296875 6.6875 41.796875 6.6875 \nQ 48.140625 6.6875 53.78125 8.984375 \nQ 59.421875 11.28125 64.40625 15.921875 \nL 64.40625 5.609375 \nQ 59.234375 2.09375 53.4375 0.328125 \nQ 47.65625 -1.421875 41.21875 -1.421875 \nQ 24.65625 -1.421875 15.125 8.703125 \nQ 5.609375 18.84375 5.609375 36.375 \nQ 5.609375 53.953125 15.125 64.078125 \nQ 24.65625 74.21875 41.21875 74.21875 \nQ 47.75 74.21875 53.53125 72.484375 \nQ 59.328125 70.75 64.40625 67.28125 \nz\n\" id=\"DejaVuSans-67\"/>\n      </defs>\n      <use xlink:href=\"#DejaVuSans-67\"/>\n     </g>\n    </g>\n   </g>\n   <g id=\"text_12\">\n    <g clip-path=\"url(#p0af7eec25d)\">\n     <!-- C -->\n     <g transform=\"translate(59.808594 36.959375)scale(0.1 -0.1)\">\n      <use xlink:href=\"#DejaVuSans-67\"/>\n     </g>\n    </g>\n   </g>\n   <g id=\"text_13\">\n    <g clip-path=\"url(#p0af7eec25d)\">\n     <!-- T -->\n     <g transform=\"translate(70.446094 18.959375)scale(0.1 -0.1)\">\n      <use xlink:href=\"#DejaVuSans-84\"/>\n     </g>\n    </g>\n   </g>\n   <g id=\"text_14\">\n    <g clip-path=\"url(#p0af7eec25d)\">\n     <!-- T -->\n     <g transform=\"translate(70.446094 36.959375)scale(0.1 -0.1)\">\n      <use xlink:href=\"#DejaVuSans-84\"/>\n     </g>\n    </g>\n   </g>\n   <g id=\"text_15\">\n    <g clip-path=\"url(#p0af7eec25d)\">\n     <!-- C -->\n     <g transform=\"translate(80.208594 18.959375)scale(0.1 -0.1)\">\n      <use xlink:href=\"#DejaVuSans-67\"/>\n     </g>\n    </g>\n   </g>\n   <g id=\"text_16\">\n    <g clip-path=\"url(#p0af7eec25d)\">\n     <!-- C -->\n     <g transform=\"translate(80.208594 36.959375)scale(0.1 -0.1)\">\n      <use xlink:href=\"#DejaVuSans-67\"/>\n     </g>\n    </g>\n   </g>\n   <g id=\"text_17\">\n    <g clip-path=\"url(#p0af7eec25d)\">\n     <!-- G -->\n     <g transform=\"translate(90.025781 18.959375)scale(0.1 -0.1)\">\n      <use xlink:href=\"#DejaVuSans-71\"/>\n     </g>\n    </g>\n   </g>\n   <g id=\"text_18\">\n    <g clip-path=\"url(#p0af7eec25d)\">\n     <!-- G -->\n     <g transform=\"translate(90.025781 36.959375)scale(0.1 -0.1)\">\n      <use xlink:href=\"#DejaVuSans-71\"/>\n     </g>\n    </g>\n   </g>\n   <g id=\"text_19\">\n    <g clip-path=\"url(#p0af7eec25d)\">\n     <!-- A -->\n     <g transform=\"translate(100.679688 18.959375)scale(0.1 -0.1)\">\n      <use xlink:href=\"#DejaVuSans-65\"/>\n     </g>\n    </g>\n   </g>\n   <g id=\"text_20\">\n    <g clip-path=\"url(#p0af7eec25d)\">\n     <!-- T -->\n     <g transform=\"translate(101.046094 36.959375)scale(0.1 -0.1)\">\n      <use xlink:href=\"#DejaVuSans-84\"/>\n     </g>\n    </g>\n   </g>\n   <g id=\"text_21\">\n    <g clip-path=\"url(#p0af7eec25d)\">\n     <!-- A -->\n     <g transform=\"translate(110.879688 18.959375)scale(0.1 -0.1)\">\n      <use xlink:href=\"#DejaVuSans-65\"/>\n     </g>\n    </g>\n   </g>\n   <g id=\"text_22\">\n    <g clip-path=\"url(#p0af7eec25d)\">\n     <!-- A -->\n     <g transform=\"translate(110.879688 36.959375)scale(0.1 -0.1)\">\n      <use xlink:href=\"#DejaVuSans-65\"/>\n     </g>\n    </g>\n   </g>\n   <g id=\"text_23\">\n    <g clip-path=\"url(#p0af7eec25d)\">\n     <!-- - -->\n     <g transform=\"translate(122.696094 18.959375)scale(0.1 -0.1)\">\n      <use xlink:href=\"#DejaVuSans-45\"/>\n     </g>\n    </g>\n   </g>\n   <g id=\"text_24\">\n    <g clip-path=\"url(#p0af7eec25d)\">\n     <!-- G -->\n     <g transform=\"translate(120.625781 36.959375)scale(0.1 -0.1)\">\n      <use xlink:href=\"#DejaVuSans-71\"/>\n     </g>\n    </g>\n   </g>\n  </g>\n  <g id=\"axes_2\">\n   <g id=\"matplotlib.axis_3\"/>\n  </g>\n </g>\n <defs>\n  <clipPath id=\"p0af7eec25d\">\n   <rect height=\"36\" width=\"122.4\" x=\"7.2\" y=\"7.2\"/>\n  </clipPath>\n </defs>\n</svg>\n",
      "image/png": "[encoded data removed]"
     },
     "metadata": {
      "needs_background": "light"
     }
    }
   ],
   "source": [
    "# GLOBAL\n",
    "fig, ax = plt.subplots(figsize=(2.0, 0.8))\n",
    "graphics.plot_alignment_similarity_based(\n",
    "    ax, gl_dna_alignments[0], matrix=n_matrix, symbols_per_line=len(gl_dna_alignments[0])\n",
    ")\n",
    "fig.tight_layout()"
   ]
  },
  {
   "cell_type": "code",
   "execution_count": 67,
   "metadata": {},
   "outputs": [
    {
     "output_type": "stream",
     "name": "stdout",
     "text": [
      "Score 31\nRecalc Score 41\nSequence Identity 0.875\n"
     ]
    }
   ],
   "source": [
    "gl_dna_alignments = dna_alignments[0]\n",
    "print('Score',gl_dna_alignments.score)\n",
    "print('Recalc Score',align.score(gl_dna_alignments,matrix=p_matrix))\n",
    "print('Sequence Identity',align.get_sequence_identity(gl_dna_alignments))"
   ]
  },
  {
   "cell_type": "code",
   "execution_count": null,
   "metadata": {},
   "outputs": [],
   "source": []
  }
 ]
}